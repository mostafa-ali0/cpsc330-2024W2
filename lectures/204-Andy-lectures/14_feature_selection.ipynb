{
 "cells": [
  {
   "cell_type": "code",
   "execution_count": 1,
   "id": "11318898",
   "metadata": {
    "editable": true,
    "slideshow": {
     "slide_type": "skip"
    },
    "tags": []
   },
   "outputs": [],
   "source": [
    "import os\n",
    "import sys\n",
    "\n",
    "import matplotlib.pyplot as plt\n",
    "import numpy as np\n",
    "import numpy.random as npr\n",
    "import pandas as pd\n",
    "import seaborn as sb\n",
    "\n",
    "from sklearn.compose import (\n",
    "    ColumnTransformer,\n",
    "    TransformedTargetRegressor,\n",
    "    make_column_transformer,\n",
    ")\n",
    "from sklearn.dummy import DummyClassifier, DummyRegressor\n",
    "from sklearn.ensemble import RandomForestRegressor\n",
    "from sklearn.impute import SimpleImputer\n",
    "from sklearn.linear_model import LinearRegression, LogisticRegression, Ridge, RidgeCV\n",
    "from sklearn.metrics import make_scorer, mean_squared_error, r2_score\n",
    "from sklearn.model_selection import cross_val_score, cross_validate, train_test_split\n",
    "from sklearn.neighbors import KNeighborsClassifier\n",
    "from sklearn.pipeline import Pipeline, make_pipeline\n",
    "from sklearn.preprocessing import OneHotEncoder, OrdinalEncoder, StandardScaler\n",
    "from sklearn.svm import SVC"
   ]
  },
  {
   "cell_type": "code",
   "execution_count": 2,
   "id": "24c54f3f",
   "metadata": {
    "editable": true,
    "slideshow": {
     "slide_type": "skip"
    },
    "tags": []
   },
   "outputs": [],
   "source": [
    "def mean_std_cross_val_scores(model, X_train, y_train, **kwargs):\n",
    "    \"\"\"\n",
    "    Returns mean and std of cross validation\n",
    "\n",
    "    Parameters\n",
    "    ----------\n",
    "    model :\n",
    "        scikit-learn model\n",
    "    X_train : numpy array or pandas DataFrame\n",
    "        X in the training data\n",
    "    y_train :\n",
    "        y in the training data\n",
    "\n",
    "    Returns\n",
    "    ----------\n",
    "        pandas Series with mean scores from cross_validation\n",
    "    \"\"\"\n",
    "\n",
    "    scores = cross_validate(model, X_train, y_train, **kwargs)\n",
    "\n",
    "    mean_scores = pd.DataFrame(scores).mean()\n",
    "    std_scores = pd.DataFrame(scores).std()\n",
    "    out_col = []\n",
    "\n",
    "    for i in range(len(mean_scores)):\n",
    "        out_col.append((f\"%0.3f (+/- %0.3f)\" % (mean_scores.iloc[i], std_scores.iloc[i])))\n",
    "\n",
    "    return pd.Series(data=out_col, index=mean_scores.index)"
   ]
  },
  {
   "cell_type": "markdown",
   "id": "6917849c",
   "metadata": {
    "editable": true,
    "slideshow": {
     "slide_type": "slide"
    },
    "tags": []
   },
   "source": [
    "# Lecture 14: Feature engineering and feature selection \n",
    "\n",
    "UBC 2025\n",
    "\n",
    "Instructor: Andrew Roth"
   ]
  },
  {
   "cell_type": "markdown",
   "id": "40c454ed",
   "metadata": {
    "editable": true,
    "slideshow": {
     "slide_type": "-"
    },
    "tags": []
   },
   "source": [
    "### Announcements \n",
    "- Final exam dates and registration posted. See Piazza.\n",
    "- MT1 marked. Viewing in CBTF bookings open. See Piazza.\n",
    "- HW5 is due March 10th (start now!)"
   ]
  },
  {
   "cell_type": "markdown",
   "id": "8bd43cb1",
   "metadata": {
    "editable": true,
    "slideshow": {
     "slide_type": "slide"
    },
    "tags": []
   },
   "source": [
    "## Learning outcomes \n",
    "\n",
    "From this lecture, students are expected to be able to:\n",
    "\n",
    "- Explain what feature engineering is and the importance of feature engineering in building machine learning models.\n",
    "- Carry out preliminary feature engineering on numeric and text data. \n",
    "- Explain the general concept of feature selection. \n",
    "- Discuss and compare different feature selection methods at a high level. \n",
    "- Use `sklearn`'s implementation of model-based selection and recursive feature elimination (`RFE`)"
   ]
  },
  {
   "cell_type": "markdown",
   "id": "dde35998",
   "metadata": {
    "editable": true,
    "slideshow": {
     "slide_type": "slide"
    },
    "tags": []
   },
   "source": [
    "## Feature engineering: Motivation"
   ]
  },
  {
   "cell_type": "markdown",
   "id": "272e3342",
   "metadata": {
    "editable": true,
    "slideshow": {
     "slide_type": "-"
    },
    "tags": []
   },
   "source": [
    "### iClicker Exercise 14.1 \n",
    "\n",
    "**iClicker cloud join link: https://join.iclicker.com/HTRZ**\n",
    "\n",
    "**Select the most accurate option below.**\n",
    "\n",
    "Suppose you are working on a machine learning project. If you have to prioritize one of the following in your project which of the following would it be? \n",
    "\n",
    "- (A) The quality and size of the data \n",
    "- (B) Most recent deep neural network model \n",
    "- (C) Most recent optimization algorithm\n",
    "- (D) Domain expertise"
   ]
  },
  {
   "cell_type": "markdown",
   "id": "5aac32fc",
   "metadata": {
    "editable": true,
    "slideshow": {
     "slide_type": "subslide"
    },
    "tags": []
   },
   "source": [
    "**Discussion question**\n",
    "- Suppose we want to predict whether a flight will arrive on time or be delayed. We have a dataset with the following information about flights:\n",
    "    - Departure Time\n",
    "    - Expected Duration of Flight (in minutes)\n",
    "\n",
    "Upon analyzing the data, you notice a pattern: flights tend to be delayed more often during the evening rush hours. What feature could be valuable to add for this prediction task?\n",
    "<br><br><br><br>"
   ]
  },
  {
   "cell_type": "markdown",
   "id": "a7e94e92",
   "metadata": {
    "editable": true,
    "slideshow": {
     "slide_type": "subslide"
    },
    "tags": []
   },
   "source": [
    "### Garbage in, garbage out.\n",
    "\n",
    "- Model building is interesting. But in your machine learning projects, you'll be spending more than half of your time on data preparation, feature engineering, and transformations.\n",
    "- The _quality_ of the data is important. Your model is only as good as your data. "
   ]
  },
  {
   "cell_type": "markdown",
   "id": "dc642c48",
   "metadata": {
    "editable": true,
    "slideshow": {
     "slide_type": "slide"
    },
    "tags": []
   },
   "source": [
    "### What is feature engineering?  \n",
    "\n",
    "- Better features: more flexibility, higher score, we can get by with simple and more interpretable models. \n",
    "- If your features, i.e., representation is bad, whatever fancier model you build is not going to help.\n",
    "\n",
    "<blockquote>\n",
    "<b>Feature engineering</b> is the process of transforming raw data into features that better represent the underlying problem to the predictive models, resulting in improved model accuracy on unseen data.<br> \n",
    "- Jason Brownlee    \n",
    "</blockquote>    "
   ]
  },
  {
   "cell_type": "markdown",
   "id": "a1189b7f",
   "metadata": {
    "editable": true,
    "slideshow": {
     "slide_type": "subslide"
    },
    "tags": []
   },
   "source": [
    "### Some quotes on feature engineering \n",
    "\n",
    "A quote by Pedro Domingos [A Few Useful Things to Know About Machine Learning](https://homes.cs.washington.edu/~pedrod/papers/cacm12.pdf)\n",
    "\n",
    "<blockquote>\n",
    "... At the end of the day, some machine learning projects succeed and some fail. What makes the difference? Easily the most important factor is the features used. \n",
    "</blockquote>\n",
    "\n",
    "\n",
    "A quote by Andrew Ng, [Machine Learning and AI via Brain simulations](https://ai.stanford.edu/~ang/slides/DeepLearning-Mar2013.pptx)\n",
    "\n",
    "<blockquote>\n",
    "Coming up with features is difficult, time-consuming, requires expert knowledge. \"Applied machine learning\" is basically feature engineering.\n",
    "</blockquote>"
   ]
  },
  {
   "cell_type": "markdown",
   "id": "59103236",
   "metadata": {
    "editable": true,
    "slideshow": {
     "slide_type": "subslide"
    },
    "tags": []
   },
   "source": [
    "### Better features usually help more than a better model.\n",
    "- Good features would ideally:\n",
    "    - Capture most important aspects of the problem\n",
    "    - Allow learning with few examples \n",
    "    - Generalize to new scenarios."
   ]
  },
  {
   "cell_type": "markdown",
   "id": "f547e234-31ff-4192-a6dd-f773bf857fa4",
   "metadata": {
    "editable": true,
    "slideshow": {
     "slide_type": "fragment"
    },
    "tags": []
   },
   "source": [
    "- There is a trade-off between simple and expressive features:\n",
    "    - With simple features overfitting risk is low, but scores might be low.\n",
    "    - With complicated features scores can be high, but so is overfitting risk."
   ]
  },
  {
   "cell_type": "markdown",
   "id": "4d9d03ae-515b-45aa-8ae0-9a3fe09fa024",
   "metadata": {
    "editable": true,
    "slideshow": {
     "slide_type": "fragment"
    },
    "tags": []
   },
   "source": [
    "- The best features may be dependent on the model you use"
   ]
  },
  {
   "cell_type": "markdown",
   "id": "0d135625",
   "metadata": {
    "editable": true,
    "slideshow": {
     "slide_type": "skip"
    },
    "tags": []
   },
   "source": [
    "### The best features may be dependent on the model you use.\n",
    "\n",
    "- Examples:\n",
    "    - For counting-based methods like decision trees separate relevant groups of variable values\n",
    "        - Discretization makes sense \n",
    "    - For distance-based methods like KNN, we want different class labels to be \"far\".\n",
    "        - Standardization \n",
    "    - For regression-based methods like linear regression, we want targets to have a linear dependency on features."
   ]
  },
  {
   "cell_type": "markdown",
   "id": "71669ed0",
   "metadata": {
    "editable": true,
    "slideshow": {
     "slide_type": "subslide"
    },
    "tags": []
   },
   "source": [
    "### Domain-specific transformations\n",
    "\n",
    "In some domains there are natural transformations to do:\n",
    "- Spectrograms (sound data)\n",
    "- Wavelets (image data)\n",
    "- Convolutions \n",
    "- Read counts (genomics)\n",
    "\n",
    "\n",
    "![](../img/spectogram.png)\n",
    "\n",
    "[Source](https://en.wikipedia.org/wiki/Spectrogram)"
   ]
  },
  {
   "cell_type": "markdown",
   "id": "0284a908",
   "metadata": {
    "editable": true,
    "slideshow": {
     "slide_type": "subslide"
    },
    "tags": []
   },
   "source": [
    "### Domain-specific transformations (Genomics)\n",
    "\n",
    "![](../img/genomics_snv_counts.png)\n"
   ]
  },
  {
   "cell_type": "markdown",
   "id": "a75b25b8-d85c-42ef-8615-8e1d802061ec",
   "metadata": {
    "editable": true,
    "slideshow": {
     "slide_type": "subslide"
    },
    "tags": []
   },
   "source": [
    "### Domain-specific transformations (Genomics)\n",
    "\n",
    "- [Unsupervised ML with simple features](https://academic.oup.com/bioinformatics/article/28/7/907/209164)\n",
    "\n",
    "- [Supervised ML with complicated features](https://academic.oup.com/bioinformatics/article/28/2/167/197256)"
   ]
  },
  {
   "cell_type": "markdown",
   "id": "9c46e546",
   "metadata": {
    "editable": true,
    "slideshow": {
     "slide_type": "slide"
    },
    "tags": []
   },
   "source": [
    "### Feature interactions and feature crosses\n",
    "\n",
    "- A **feature cross** is a synthetic feature formed by multiplying or crossing two or more features. \n",
    "- Example: \n",
    "Is the following dataset (XOR function) linearly separable?  "
   ]
  },
  {
   "cell_type": "code",
   "execution_count": 3,
   "id": "e5b14dcf",
   "metadata": {
    "editable": true,
    "slideshow": {
     "slide_type": "skip"
    },
    "tags": []
   },
   "outputs": [],
   "source": [
    "X = np.array([\n",
    "    [-1, -1],\n",
    "    [1, -1],\n",
    "    [-1, 1],\n",
    "    [1, 1]\n",
    "])\n",
    "y = np.array([1, 0, 0, 1])\n",
    "df = pd.DataFrame(np.column_stack([X, y]), columns=[\"X1\", \"X2\", \"target\"])"
   ]
  },
  {
   "cell_type": "code",
   "execution_count": 4,
   "id": "ab67b060",
   "metadata": {
    "editable": true,
    "slideshow": {
     "slide_type": ""
    },
    "tags": []
   },
   "outputs": [
    {
     "data": {
      "text/html": [
       "<div>\n",
       "<style scoped>\n",
       "    .dataframe tbody tr th:only-of-type {\n",
       "        vertical-align: middle;\n",
       "    }\n",
       "\n",
       "    .dataframe tbody tr th {\n",
       "        vertical-align: top;\n",
       "    }\n",
       "\n",
       "    .dataframe thead th {\n",
       "        text-align: right;\n",
       "    }\n",
       "</style>\n",
       "<table border=\"1\" class=\"dataframe\">\n",
       "  <thead>\n",
       "    <tr style=\"text-align: right;\">\n",
       "      <th></th>\n",
       "      <th>X1</th>\n",
       "      <th>X2</th>\n",
       "      <th>target</th>\n",
       "    </tr>\n",
       "  </thead>\n",
       "  <tbody>\n",
       "    <tr>\n",
       "      <th>0</th>\n",
       "      <td>-1</td>\n",
       "      <td>-1</td>\n",
       "      <td>1</td>\n",
       "    </tr>\n",
       "    <tr>\n",
       "      <th>1</th>\n",
       "      <td>1</td>\n",
       "      <td>-1</td>\n",
       "      <td>0</td>\n",
       "    </tr>\n",
       "    <tr>\n",
       "      <th>2</th>\n",
       "      <td>-1</td>\n",
       "      <td>1</td>\n",
       "      <td>0</td>\n",
       "    </tr>\n",
       "    <tr>\n",
       "      <th>3</th>\n",
       "      <td>1</td>\n",
       "      <td>1</td>\n",
       "      <td>1</td>\n",
       "    </tr>\n",
       "  </tbody>\n",
       "</table>\n",
       "</div>"
      ],
      "text/plain": [
       "   X1  X2  target\n",
       "0  -1  -1       1\n",
       "1   1  -1       0\n",
       "2  -1   1       0\n",
       "3   1   1       1"
      ]
     },
     "execution_count": 4,
     "metadata": {},
     "output_type": "execute_result"
    }
   ],
   "source": [
    "df"
   ]
  },
  {
   "cell_type": "code",
   "execution_count": 5,
   "id": "90cfc2d2",
   "metadata": {
    "editable": true,
    "slideshow": {
     "slide_type": "-"
    },
    "tags": []
   },
   "outputs": [
    {
     "data": {
      "text/plain": [
       "<Axes: xlabel='X1', ylabel='X2'>"
      ]
     },
     "execution_count": 5,
     "metadata": {},
     "output_type": "execute_result"
    },
    {
     "data": {
      "image/png": "[encoded data removed]",
      "text/plain": [
       "<Figure size 400x400 with 1 Axes>"
      ]
     },
     "metadata": {},
     "output_type": "display_data"
    }
   ],
   "source": [
    "plt.figure(figsize=(4, 4))\n",
    "sb.scatterplot(data=df, x=\"X1\", y=\"X2\", style=\"target\", s=200, legend=False)"
   ]
  },
  {
   "cell_type": "markdown",
   "id": "2d255e3c",
   "metadata": {
    "editable": true,
    "slideshow": {
     "slide_type": "subslide"
    },
    "tags": []
   },
   "source": [
    "- For XOR like problems, if we create a feature cross $x1x2$, the data becomes linearly separable."
   ]
  },
  {
   "cell_type": "code",
   "execution_count": 6,
   "id": "7040cf60",
   "metadata": {
    "editable": true,
    "slideshow": {
     "slide_type": "-"
    },
    "tags": []
   },
   "outputs": [
    {
     "data": {
      "text/html": [
       "<div>\n",
       "<style scoped>\n",
       "    .dataframe tbody tr th:only-of-type {\n",
       "        vertical-align: middle;\n",
       "    }\n",
       "\n",
       "    .dataframe tbody tr th {\n",
       "        vertical-align: top;\n",
       "    }\n",
       "\n",
       "    .dataframe thead th {\n",
       "        text-align: right;\n",
       "    }\n",
       "</style>\n",
       "<table border=\"1\" class=\"dataframe\">\n",
       "  <thead>\n",
       "    <tr style=\"text-align: right;\">\n",
       "      <th></th>\n",
       "      <th>X1</th>\n",
       "      <th>X2</th>\n",
       "      <th>target</th>\n",
       "      <th>X1X2</th>\n",
       "    </tr>\n",
       "  </thead>\n",
       "  <tbody>\n",
       "    <tr>\n",
       "      <th>0</th>\n",
       "      <td>-1</td>\n",
       "      <td>-1</td>\n",
       "      <td>1</td>\n",
       "      <td>1</td>\n",
       "    </tr>\n",
       "    <tr>\n",
       "      <th>1</th>\n",
       "      <td>1</td>\n",
       "      <td>-1</td>\n",
       "      <td>0</td>\n",
       "      <td>-1</td>\n",
       "    </tr>\n",
       "    <tr>\n",
       "      <th>2</th>\n",
       "      <td>-1</td>\n",
       "      <td>1</td>\n",
       "      <td>0</td>\n",
       "      <td>-1</td>\n",
       "    </tr>\n",
       "    <tr>\n",
       "      <th>3</th>\n",
       "      <td>1</td>\n",
       "      <td>1</td>\n",
       "      <td>1</td>\n",
       "      <td>1</td>\n",
       "    </tr>\n",
       "  </tbody>\n",
       "</table>\n",
       "</div>"
      ],
      "text/plain": [
       "   X1  X2  target  X1X2\n",
       "0  -1  -1       1     1\n",
       "1   1  -1       0    -1\n",
       "2  -1   1       0    -1\n",
       "3   1   1       1     1"
      ]
     },
     "execution_count": 6,
     "metadata": {},
     "output_type": "execute_result"
    }
   ],
   "source": [
    "df[\"X1X2\"] = df[\"X1\"] * df[\"X2\"]\n",
    "df"
   ]
  },
  {
   "cell_type": "code",
   "execution_count": 7,
   "id": "5c9c9907",
   "metadata": {
    "editable": true,
    "slideshow": {
     "slide_type": "-"
    },
    "tags": []
   },
   "outputs": [
    {
     "data": {
      "text/plain": [
       "<Axes: xlabel='X2', ylabel='X1X2'>"
      ]
     },
     "execution_count": 7,
     "metadata": {},
     "output_type": "execute_result"
    },
    {
     "data": {
      "image/png": "[encoded data removed]",
      "text/plain": [
       "<Figure size 400x400 with 1 Axes>"
      ]
     },
     "metadata": {},
     "output_type": "display_data"
    }
   ],
   "source": [
    "plt.figure(figsize=(4, 4))\n",
    "sb.scatterplot(data=df, x=\"X2\", y=\"X1X2\", style=\"target\", s=200, legend=False)"
   ]
  },
  {
   "cell_type": "markdown",
   "id": "df722c10",
   "metadata": {
    "editable": true,
    "slideshow": {
     "slide_type": "subslide"
    },
    "tags": []
   },
   "source": [
    "Let's look at an example with more data points."
   ]
  },
  {
   "cell_type": "code",
   "execution_count": 8,
   "id": "17bdd768",
   "metadata": {
    "editable": true,
    "slideshow": {
     "slide_type": "-"
    },
    "tags": []
   },
   "outputs": [],
   "source": [
    "rng = np.random.RandomState(0)\n",
    "X = rng.randn(200, 2)\n",
    "y = np.logical_xor(X[:, 0] > 0, X[:, 1] > 0)\n",
    "df = pd.DataFrame(\n",
    "    np.column_stack([X, y]), columns=[\"X1\", \"X2\", \"target\"]\n",
    ")"
   ]
  },
  {
   "cell_type": "code",
   "execution_count": 9,
   "id": "2cf295ed",
   "metadata": {
    "editable": true,
    "slideshow": {
     "slide_type": "-"
    },
    "tags": []
   },
   "outputs": [
    {
     "data": {
      "text/plain": [
       "<Axes: xlabel='X1', ylabel='X2'>"
      ]
     },
     "execution_count": 9,
     "metadata": {},
     "output_type": "execute_result"
    },
    {
     "data": {
      "image/png": "[encoded data removed]",
      "text/plain": [
       "<Figure size 400x400 with 1 Axes>"
      ]
     },
     "metadata": {},
     "output_type": "display_data"
    }
   ],
   "source": [
    "plt.figure(figsize=(4, 4))\n",
    "sb.scatterplot(data=df, x=\"X1\", y=\"X2\", hue=\"target\", style=\"target\", s=50, legend=False)"
   ]
  },
  {
   "cell_type": "code",
   "execution_count": 10,
   "id": "409b2e33",
   "metadata": {
    "editable": true,
    "slideshow": {
     "slide_type": "subslide"
    },
    "tags": []
   },
   "outputs": [
    {
     "data": {
      "text/plain": [
       "0.535"
      ]
     },
     "execution_count": 10,
     "metadata": {},
     "output_type": "execute_result"
    }
   ],
   "source": [
    "LogisticRegression().fit(X, y).score(X, y)"
   ]
  },
  {
   "cell_type": "code",
   "execution_count": 11,
   "id": "2b361921",
   "metadata": {
    "editable": true,
    "slideshow": {
     "slide_type": "fragment"
    },
    "tags": []
   },
   "outputs": [
    {
     "data": {
      "text/plain": [
       "0.995"
      ]
     },
     "execution_count": 11,
     "metadata": {},
     "output_type": "execute_result"
    }
   ],
   "source": [
    "from sklearn.preprocessing import PolynomialFeatures\n",
    "\n",
    "pipe_xor = make_pipeline(\n",
    "    PolynomialFeatures(interaction_only=True, include_bias=False), LogisticRegression()\n",
    ")\n",
    "\n",
    "pipe_xor.fit(X, y).score(X, y)"
   ]
  },
  {
   "cell_type": "code",
   "execution_count": 12,
   "id": "884aaf89-2fdc-483b-a798-d6b9c8defed7",
   "metadata": {
    "editable": true,
    "slideshow": {
     "slide_type": ""
    },
    "tags": []
   },
   "outputs": [],
   "source": [
    "# Create an interactive 3D scatter plot using plotly\n",
    "# import plotly.express as px\n",
    "# df[\"X1_X2\"] = df[\"X1\"] * df[\"X2\"]\n",
    "# fig = px.scatter_3d(df, x=\"X1\", y=\"X2\", z=\"X1_X2\", color=\"target\", color_continuous_scale=['blue', 'red'])\n",
    "# fig.show();"
   ]
  },
  {
   "cell_type": "code",
   "execution_count": 13,
   "id": "006ecd72-7857-4693-afa3-a4deced32d4f",
   "metadata": {
    "editable": true,
    "slideshow": {
     "slide_type": "subslide"
    },
    "tags": []
   },
   "outputs": [
    {
     "data": {
      "text/plain": [
       "<Axes: xlabel='X1', ylabel='X1_X2'>"
      ]
     },
     "execution_count": 13,
     "metadata": {},
     "output_type": "execute_result"
    },
    {
     "data": {
      "image/png": "[encoded data removed]",
      "text/plain": [
       "<Figure size 400x400 with 1 Axes>"
      ]
     },
     "metadata": {},
     "output_type": "display_data"
    }
   ],
   "source": [
    "df[\"X1_X2\"] = df[\"X1\"] * df[\"X2\"]\n",
    "plt.figure(figsize=(4, 4))\n",
    "sb.scatterplot(data=df, x=\"X1\", y=\"X1_X2\", hue=\"target\", style=\"target\", s=50, legend=False)"
   ]
  },
  {
   "cell_type": "code",
   "execution_count": 14,
   "id": "98ccdc25",
   "metadata": {
    "editable": true,
    "slideshow": {
     "slide_type": "subslide"
    },
    "tags": []
   },
   "outputs": [
    {
     "data": {
      "text/html": [
       "<div>\n",
       "<style scoped>\n",
       "    .dataframe tbody tr th:only-of-type {\n",
       "        vertical-align: middle;\n",
       "    }\n",
       "\n",
       "    .dataframe tbody tr th {\n",
       "        vertical-align: top;\n",
       "    }\n",
       "\n",
       "    .dataframe thead th {\n",
       "        text-align: right;\n",
       "    }\n",
       "</style>\n",
       "<table border=\"1\" class=\"dataframe\">\n",
       "  <thead>\n",
       "    <tr style=\"text-align: right;\">\n",
       "      <th></th>\n",
       "      <th>Feature coefficient</th>\n",
       "    </tr>\n",
       "  </thead>\n",
       "  <tbody>\n",
       "    <tr>\n",
       "      <th>x0</th>\n",
       "      <td>-0.028672</td>\n",
       "    </tr>\n",
       "    <tr>\n",
       "      <th>x1</th>\n",
       "      <td>0.129459</td>\n",
       "    </tr>\n",
       "    <tr>\n",
       "      <th>x0 x1</th>\n",
       "      <td>-5.086461</td>\n",
       "    </tr>\n",
       "  </tbody>\n",
       "</table>\n",
       "</div>"
      ],
      "text/plain": [
       "       Feature coefficient\n",
       "x0               -0.028672\n",
       "x1                0.129459\n",
       "x0 x1            -5.086461"
      ]
     },
     "execution_count": 14,
     "metadata": {},
     "output_type": "execute_result"
    }
   ],
   "source": [
    "feature_names = (\n",
    "    pipe_xor.named_steps[\"polynomialfeatures\"].get_feature_names_out().tolist()\n",
    ")\n",
    "pd.DataFrame(\n",
    "    pipe_xor.named_steps[\"logisticregression\"].coef_.transpose(),\n",
    "    index=feature_names,\n",
    "    columns=[\"Feature coefficient\"],\n",
    ")"
   ]
  },
  {
   "cell_type": "markdown",
   "id": "a5d315b0",
   "metadata": {
    "editable": true,
    "slideshow": {
     "slide_type": "-"
    },
    "tags": []
   },
   "source": [
    "The interaction feature has the biggest coefficient! "
   ]
  },
  {
   "cell_type": "markdown",
   "id": "a025b3fe",
   "metadata": {
    "editable": true,
    "slideshow": {
     "slide_type": "subslide"
    },
    "tags": []
   },
   "source": [
    "### Feature crosses for one-hot encoded features\n",
    "- You can think of feature crosses of one-hot-features as logical conjunctions\n",
    "- Suppose you want to predict whether you will find parking or not based on two features: \n",
    "    - area (possible categories: UBC campus and Rogers Arena)\n",
    "    - time of the day (possible categories: 9am and 7pm)\n",
    "- A feature cross in this case would create four new features: \n",
    "    - UBC campus and 9am\n",
    "    - UBC campus and 7pm\n",
    "    - Rogers Arena and 9am\n",
    "    - Rogers Arena and 7pm. \n",
    "- The features UBC campus and 9am on their own are not that informative but the newly created feature UBC campus and 9am or Rogers Arena and 7pm would be quite informative."
   ]
  },
  {
   "cell_type": "markdown",
   "id": "ce3c7521",
   "metadata": {
    "slideshow": {
     "slide_type": "subslide"
    }
   },
   "source": [
    "- Coming up with the right combination of features requires some domain knowledge or careful examination of the data. \n",
    "- There is no easy way to support feature crosses in sklearn. "
   ]
  },
  {
   "cell_type": "markdown",
   "id": "ed4f78a6",
   "metadata": {
    "slideshow": {
     "slide_type": "slide"
    }
   },
   "source": [
    "### Demo of feature engineering with numeric features"
   ]
  },
  {
   "cell_type": "markdown",
   "id": "4282e443",
   "metadata": {
    "editable": true,
    "slideshow": {
     "slide_type": "-"
    },
    "tags": []
   },
   "source": [
    "- Remember the [California housing dataset](https://www.kaggle.com/datasets/camnugent/california-housing-prices) we used earlier in the course? \n",
    "- The prediction task is predicting `median_house_value` for a given community. "
   ]
  },
  {
   "cell_type": "code",
   "execution_count": 15,
   "id": "ea47f84c",
   "metadata": {
    "editable": true,
    "slideshow": {
     "slide_type": "-"
    },
    "tags": []
   },
   "outputs": [
    {
     "data": {
      "text/html": [
       "<div>\n",
       "<style scoped>\n",
       "    .dataframe tbody tr th:only-of-type {\n",
       "        vertical-align: middle;\n",
       "    }\n",
       "\n",
       "    .dataframe tbody tr th {\n",
       "        vertical-align: top;\n",
       "    }\n",
       "\n",
       "    .dataframe thead th {\n",
       "        text-align: right;\n",
       "    }\n",
       "</style>\n",
       "<table border=\"1\" class=\"dataframe\">\n",
       "  <thead>\n",
       "    <tr style=\"text-align: right;\">\n",
       "      <th></th>\n",
       "      <th>longitude</th>\n",
       "      <th>latitude</th>\n",
       "      <th>housing_median_age</th>\n",
       "      <th>total_rooms</th>\n",
       "      <th>total_bedrooms</th>\n",
       "      <th>population</th>\n",
       "      <th>households</th>\n",
       "      <th>median_income</th>\n",
       "      <th>median_house_value</th>\n",
       "      <th>ocean_proximity</th>\n",
       "    </tr>\n",
       "  </thead>\n",
       "  <tbody>\n",
       "    <tr>\n",
       "      <th>0</th>\n",
       "      <td>-122.23</td>\n",
       "      <td>37.88</td>\n",
       "      <td>41.0</td>\n",
       "      <td>880.0</td>\n",
       "      <td>129.0</td>\n",
       "      <td>322.0</td>\n",
       "      <td>126.0</td>\n",
       "      <td>8.3252</td>\n",
       "      <td>452600.0</td>\n",
       "      <td>NEAR BAY</td>\n",
       "    </tr>\n",
       "    <tr>\n",
       "      <th>1</th>\n",
       "      <td>-122.22</td>\n",
       "      <td>37.86</td>\n",
       "      <td>21.0</td>\n",
       "      <td>7099.0</td>\n",
       "      <td>1106.0</td>\n",
       "      <td>2401.0</td>\n",
       "      <td>1138.0</td>\n",
       "      <td>8.3014</td>\n",
       "      <td>358500.0</td>\n",
       "      <td>NEAR BAY</td>\n",
       "    </tr>\n",
       "    <tr>\n",
       "      <th>2</th>\n",
       "      <td>-122.24</td>\n",
       "      <td>37.85</td>\n",
       "      <td>52.0</td>\n",
       "      <td>1467.0</td>\n",
       "      <td>190.0</td>\n",
       "      <td>496.0</td>\n",
       "      <td>177.0</td>\n",
       "      <td>7.2574</td>\n",
       "      <td>352100.0</td>\n",
       "      <td>NEAR BAY</td>\n",
       "    </tr>\n",
       "    <tr>\n",
       "      <th>3</th>\n",
       "      <td>-122.25</td>\n",
       "      <td>37.85</td>\n",
       "      <td>52.0</td>\n",
       "      <td>1274.0</td>\n",
       "      <td>235.0</td>\n",
       "      <td>558.0</td>\n",
       "      <td>219.0</td>\n",
       "      <td>5.6431</td>\n",
       "      <td>341300.0</td>\n",
       "      <td>NEAR BAY</td>\n",
       "    </tr>\n",
       "    <tr>\n",
       "      <th>4</th>\n",
       "      <td>-122.25</td>\n",
       "      <td>37.85</td>\n",
       "      <td>52.0</td>\n",
       "      <td>1627.0</td>\n",
       "      <td>280.0</td>\n",
       "      <td>565.0</td>\n",
       "      <td>259.0</td>\n",
       "      <td>3.8462</td>\n",
       "      <td>342200.0</td>\n",
       "      <td>NEAR BAY</td>\n",
       "    </tr>\n",
       "  </tbody>\n",
       "</table>\n",
       "</div>"
      ],
      "text/plain": [
       "   longitude  latitude  housing_median_age  total_rooms  total_bedrooms  \\\n",
       "0    -122.23     37.88                41.0        880.0           129.0   \n",
       "1    -122.22     37.86                21.0       7099.0          1106.0   \n",
       "2    -122.24     37.85                52.0       1467.0           190.0   \n",
       "3    -122.25     37.85                52.0       1274.0           235.0   \n",
       "4    -122.25     37.85                52.0       1627.0           280.0   \n",
       "\n",
       "   population  households  median_income  median_house_value ocean_proximity  \n",
       "0       322.0       126.0         8.3252            452600.0        NEAR BAY  \n",
       "1      2401.0      1138.0         8.3014            358500.0        NEAR BAY  \n",
       "2       496.0       177.0         7.2574            352100.0        NEAR BAY  \n",
       "3       558.0       219.0         5.6431            341300.0        NEAR BAY  \n",
       "4       565.0       259.0         3.8462            342200.0        NEAR BAY  "
      ]
     },
     "execution_count": 15,
     "metadata": {},
     "output_type": "execute_result"
    }
   ],
   "source": [
    "housing_df = pd.read_csv(\"../data/california_housing.csv\")\n",
    "housing_df.head()"
   ]
  },
  {
   "cell_type": "code",
   "execution_count": 16,
   "id": "7b653ed2",
   "metadata": {
    "editable": true,
    "slideshow": {
     "slide_type": "skip"
    },
    "tags": []
   },
   "outputs": [
    {
     "name": "stdout",
     "output_type": "stream",
     "text": [
      "<class 'pandas.core.frame.DataFrame'>\n",
      "RangeIndex: 20640 entries, 0 to 20639\n",
      "Data columns (total 10 columns):\n",
      " #   Column              Non-Null Count  Dtype  \n",
      "---  ------              --------------  -----  \n",
      " 0   longitude           20640 non-null  float64\n",
      " 1   latitude            20640 non-null  float64\n",
      " 2   housing_median_age  20640 non-null  float64\n",
      " 3   total_rooms         20640 non-null  float64\n",
      " 4   total_bedrooms      20433 non-null  float64\n",
      " 5   population          20640 non-null  float64\n",
      " 6   households          20640 non-null  float64\n",
      " 7   median_income       20640 non-null  float64\n",
      " 8   median_house_value  20640 non-null  float64\n",
      " 9   ocean_proximity     20640 non-null  object \n",
      "dtypes: float64(9), object(1)\n",
      "memory usage: 1.6+ MB\n"
     ]
    }
   ],
   "source": [
    "housing_df.info()"
   ]
  },
  {
   "cell_type": "markdown",
   "id": "ce5bbe6e",
   "metadata": {
    "editable": true,
    "slideshow": {
     "slide_type": "subslide"
    },
    "tags": []
   },
   "source": [
    "Suppose we decide to train `ridge` model on this dataset. \n",
    "\n",
    "- What would happen if you train a model without applying any transformation on the categorical features ocean_proximity? \n",
    "    - Error!! A linear model requires all features in a numeric form.  \n",
    "- What would happen if we apply OHE on `ocean_proximity` but we do not scale the numeric features?\n",
    "    - No syntax error. But the model results are likely to be poor. \n",
    "- Do we need to apply any other transformations on this data?     \n",
    "\n",
    "In this section, we will look into some common ways to do feature engineering for numeric features.  "
   ]
  },
  {
   "cell_type": "code",
   "execution_count": 17,
   "id": "2092dbcd",
   "metadata": {
    "editable": true,
    "slideshow": {
     "slide_type": "subslide"
    },
    "tags": []
   },
   "outputs": [],
   "source": [
    "train_df, test_df = train_test_split(housing_df, test_size=0.2, random_state=123)"
   ]
  },
  {
   "cell_type": "markdown",
   "id": "9c03997d",
   "metadata": {
    "editable": true,
    "slideshow": {
     "slide_type": "fragment"
    },
    "tags": []
   },
   "source": [
    "We have total rooms and the number of households in the neighbourhood. How about creating rooms_per_household feature using this information? "
   ]
  },
  {
   "cell_type": "code",
   "execution_count": 18,
   "id": "d5936528",
   "metadata": {
    "editable": true,
    "slideshow": {
     "slide_type": "-"
    },
    "tags": []
   },
   "outputs": [],
   "source": [
    "train_df = train_df.assign(\n",
    "    rooms_per_household=train_df[\"total_rooms\"] / train_df[\"households\"]\n",
    ")\n",
    "test_df = test_df.assign(\n",
    "    rooms_per_household=test_df[\"total_rooms\"] / test_df[\"households\"]\n",
    ")"
   ]
  },
  {
   "cell_type": "code",
   "execution_count": 19,
   "id": "6a36a842",
   "metadata": {
    "editable": true,
    "slideshow": {
     "slide_type": "-"
    },
    "tags": []
   },
   "outputs": [
    {
     "data": {
      "text/html": [
       "<div>\n",
       "<style scoped>\n",
       "    .dataframe tbody tr th:only-of-type {\n",
       "        vertical-align: middle;\n",
       "    }\n",
       "\n",
       "    .dataframe tbody tr th {\n",
       "        vertical-align: top;\n",
       "    }\n",
       "\n",
       "    .dataframe thead th {\n",
       "        text-align: right;\n",
       "    }\n",
       "</style>\n",
       "<table border=\"1\" class=\"dataframe\">\n",
       "  <thead>\n",
       "    <tr style=\"text-align: right;\">\n",
       "      <th></th>\n",
       "      <th>longitude</th>\n",
       "      <th>latitude</th>\n",
       "      <th>housing_median_age</th>\n",
       "      <th>total_rooms</th>\n",
       "      <th>total_bedrooms</th>\n",
       "      <th>population</th>\n",
       "      <th>households</th>\n",
       "      <th>median_income</th>\n",
       "      <th>median_house_value</th>\n",
       "      <th>ocean_proximity</th>\n",
       "      <th>rooms_per_household</th>\n",
       "    </tr>\n",
       "  </thead>\n",
       "  <tbody>\n",
       "    <tr>\n",
       "      <th>9950</th>\n",
       "      <td>-122.33</td>\n",
       "      <td>38.38</td>\n",
       "      <td>28.0</td>\n",
       "      <td>1020.0</td>\n",
       "      <td>169.0</td>\n",
       "      <td>504.0</td>\n",
       "      <td>164.0</td>\n",
       "      <td>4.5694</td>\n",
       "      <td>287500.0</td>\n",
       "      <td>INLAND</td>\n",
       "      <td>6.219512</td>\n",
       "    </tr>\n",
       "    <tr>\n",
       "      <th>3547</th>\n",
       "      <td>-118.60</td>\n",
       "      <td>34.26</td>\n",
       "      <td>18.0</td>\n",
       "      <td>6154.0</td>\n",
       "      <td>1070.0</td>\n",
       "      <td>3010.0</td>\n",
       "      <td>1034.0</td>\n",
       "      <td>5.6392</td>\n",
       "      <td>271500.0</td>\n",
       "      <td>&lt;1H OCEAN</td>\n",
       "      <td>5.951644</td>\n",
       "    </tr>\n",
       "    <tr>\n",
       "      <th>4448</th>\n",
       "      <td>-118.21</td>\n",
       "      <td>34.07</td>\n",
       "      <td>47.0</td>\n",
       "      <td>1346.0</td>\n",
       "      <td>383.0</td>\n",
       "      <td>1452.0</td>\n",
       "      <td>371.0</td>\n",
       "      <td>1.7292</td>\n",
       "      <td>191700.0</td>\n",
       "      <td>&lt;1H OCEAN</td>\n",
       "      <td>3.628032</td>\n",
       "    </tr>\n",
       "    <tr>\n",
       "      <th>6984</th>\n",
       "      <td>-118.02</td>\n",
       "      <td>33.96</td>\n",
       "      <td>36.0</td>\n",
       "      <td>2071.0</td>\n",
       "      <td>398.0</td>\n",
       "      <td>988.0</td>\n",
       "      <td>404.0</td>\n",
       "      <td>4.6226</td>\n",
       "      <td>219700.0</td>\n",
       "      <td>&lt;1H OCEAN</td>\n",
       "      <td>5.126238</td>\n",
       "    </tr>\n",
       "    <tr>\n",
       "      <th>4432</th>\n",
       "      <td>-118.20</td>\n",
       "      <td>34.08</td>\n",
       "      <td>49.0</td>\n",
       "      <td>1320.0</td>\n",
       "      <td>309.0</td>\n",
       "      <td>1405.0</td>\n",
       "      <td>328.0</td>\n",
       "      <td>2.4375</td>\n",
       "      <td>114000.0</td>\n",
       "      <td>&lt;1H OCEAN</td>\n",
       "      <td>4.024390</td>\n",
       "    </tr>\n",
       "  </tbody>\n",
       "</table>\n",
       "</div>"
      ],
      "text/plain": [
       "      longitude  latitude  housing_median_age  total_rooms  total_bedrooms  \\\n",
       "9950    -122.33     38.38                28.0       1020.0           169.0   \n",
       "3547    -118.60     34.26                18.0       6154.0          1070.0   \n",
       "4448    -118.21     34.07                47.0       1346.0           383.0   \n",
       "6984    -118.02     33.96                36.0       2071.0           398.0   \n",
       "4432    -118.20     34.08                49.0       1320.0           309.0   \n",
       "\n",
       "      population  households  median_income  median_house_value  \\\n",
       "9950       504.0       164.0         4.5694            287500.0   \n",
       "3547      3010.0      1034.0         5.6392            271500.0   \n",
       "4448      1452.0       371.0         1.7292            191700.0   \n",
       "6984       988.0       404.0         4.6226            219700.0   \n",
       "4432      1405.0       328.0         2.4375            114000.0   \n",
       "\n",
       "     ocean_proximity  rooms_per_household  \n",
       "9950          INLAND             6.219512  \n",
       "3547       <1H OCEAN             5.951644  \n",
       "4448       <1H OCEAN             3.628032  \n",
       "6984       <1H OCEAN             5.126238  \n",
       "4432       <1H OCEAN             4.024390  "
      ]
     },
     "execution_count": 19,
     "metadata": {},
     "output_type": "execute_result"
    }
   ],
   "source": [
    "train_df.head()"
   ]
  },
  {
   "cell_type": "markdown",
   "id": "990483b1",
   "metadata": {
    "editable": true,
    "slideshow": {
     "slide_type": "subslide"
    },
    "tags": []
   },
   "source": [
    "Let's start simple. Imagine that we only three features: `longitude`, `latitude`, and our newly created `rooms_per_household` feature. "
   ]
  },
  {
   "cell_type": "code",
   "execution_count": 20,
   "id": "17c5e79e",
   "metadata": {
    "editable": true,
    "slideshow": {
     "slide_type": "-"
    },
    "tags": []
   },
   "outputs": [],
   "source": [
    "X_train_housing = train_df[[\"latitude\", \"longitude\", \"rooms_per_household\"]]\n",
    "y_train_housing = train_df[\"median_house_value\"]"
   ]
  },
  {
   "cell_type": "code",
   "execution_count": 21,
   "id": "a4c67b8a",
   "metadata": {
    "editable": true,
    "slideshow": {
     "slide_type": "subslide"
    },
    "tags": []
   },
   "outputs": [],
   "source": [
    "from sklearn.compose import make_column_transformer\n",
    "\n",
    "numeric_feats = [\"latitude\", \"longitude\", \"rooms_per_household\"]\n",
    "\n",
    "preprocessor1 = make_column_transformer(\n",
    "    (make_pipeline(SimpleImputer(), StandardScaler()), numeric_feats)\n",
    ")"
   ]
  },
  {
   "cell_type": "code",
   "execution_count": 22,
   "id": "57457903",
   "metadata": {
    "editable": true,
    "slideshow": {
     "slide_type": "subslide"
    },
    "tags": []
   },
   "outputs": [
    {
     "data": {
      "text/html": [
       "<div>\n",
       "<style scoped>\n",
       "    .dataframe tbody tr th:only-of-type {\n",
       "        vertical-align: middle;\n",
       "    }\n",
       "\n",
       "    .dataframe tbody tr th {\n",
       "        vertical-align: top;\n",
       "    }\n",
       "\n",
       "    .dataframe thead th {\n",
       "        text-align: right;\n",
       "    }\n",
       "</style>\n",
       "<table border=\"1\" class=\"dataframe\">\n",
       "  <thead>\n",
       "    <tr style=\"text-align: right;\">\n",
       "      <th></th>\n",
       "      <th>fit_time</th>\n",
       "      <th>score_time</th>\n",
       "      <th>test_score</th>\n",
       "      <th>train_score</th>\n",
       "    </tr>\n",
       "  </thead>\n",
       "  <tbody>\n",
       "    <tr>\n",
       "      <th>0</th>\n",
       "      <td>0.006068</td>\n",
       "      <td>0.001843</td>\n",
       "      <td>0.280028</td>\n",
       "      <td>0.311769</td>\n",
       "    </tr>\n",
       "    <tr>\n",
       "      <th>1</th>\n",
       "      <td>0.003365</td>\n",
       "      <td>0.001635</td>\n",
       "      <td>0.325319</td>\n",
       "      <td>0.300464</td>\n",
       "    </tr>\n",
       "    <tr>\n",
       "      <th>2</th>\n",
       "      <td>0.003764</td>\n",
       "      <td>0.001509</td>\n",
       "      <td>0.317277</td>\n",
       "      <td>0.301952</td>\n",
       "    </tr>\n",
       "    <tr>\n",
       "      <th>3</th>\n",
       "      <td>0.003215</td>\n",
       "      <td>0.001604</td>\n",
       "      <td>0.316798</td>\n",
       "      <td>0.303004</td>\n",
       "    </tr>\n",
       "    <tr>\n",
       "      <th>4</th>\n",
       "      <td>0.003489</td>\n",
       "      <td>0.001239</td>\n",
       "      <td>0.260258</td>\n",
       "      <td>0.314840</td>\n",
       "    </tr>\n",
       "  </tbody>\n",
       "</table>\n",
       "</div>"
      ],
      "text/plain": [
       "   fit_time  score_time  test_score  train_score\n",
       "0  0.006068    0.001843    0.280028     0.311769\n",
       "1  0.003365    0.001635    0.325319     0.300464\n",
       "2  0.003764    0.001509    0.317277     0.301952\n",
       "3  0.003215    0.001604    0.316798     0.303004\n",
       "4  0.003489    0.001239    0.260258     0.314840"
      ]
     },
     "execution_count": 22,
     "metadata": {},
     "output_type": "execute_result"
    }
   ],
   "source": [
    "lr_1 = make_pipeline(preprocessor1, Ridge())\n",
    "pd.DataFrame(\n",
    "    cross_validate(lr_1, X_train_housing, y_train_housing, return_train_score=True)\n",
    ")"
   ]
  },
  {
   "cell_type": "markdown",
   "id": "eec3c404",
   "metadata": {
    "editable": true,
    "slideshow": {
     "slide_type": "subslide"
    },
    "tags": []
   },
   "source": [
    "- The scores are not great. \n",
    "- Let's look at the distribution of the longitude and latitude features. "
   ]
  },
  {
   "cell_type": "code",
   "execution_count": 23,
   "id": "843e267e",
   "metadata": {
    "editable": true,
    "slideshow": {
     "slide_type": "-"
    },
    "tags": []
   },
   "outputs": [
    {
     "data": {
      "image/png": "[encoded data removed]",
      "text/plain": [
       "<Figure size 480x320 with 1 Axes>"
      ]
     },
     "metadata": {},
     "output_type": "display_data"
    }
   ],
   "source": [
    "plt.figure(figsize=(6, 4), dpi=80)\n",
    "plt.hist(train_df[\"longitude\"], bins=50)\n",
    "plt.title(\"Distribution of latitude feature\");"
   ]
  },
  {
   "cell_type": "markdown",
   "id": "4b9fe32d",
   "metadata": {
    "editable": true,
    "slideshow": {
     "slide_type": "subslide"
    },
    "tags": []
   },
   "source": [
    "- Suppose you are planning to build a linear model for housing price prediction. \n",
    "- If we think longitude is a good feature for prediction, does it makes sense to use the floating point representation of this feature that's given to us?\n",
    "- Remember that linear models can capture only linear relationships. "
   ]
  },
  {
   "cell_type": "markdown",
   "id": "ce777b05",
   "metadata": {
    "editable": true,
    "slideshow": {
     "slide_type": "subslide"
    },
    "tags": []
   },
   "source": [
    "- How about discretizing latitude and longitude features and putting them into buckets?\n",
    "- This process of transforming numeric features into categorical features is called bucketing or binning. \n",
    "- In `sklearn` you can do this using `KBinsDiscretizer` transformer. \n",
    "- Let's examine whether we get better results with binning."
   ]
  },
  {
   "cell_type": "code",
   "execution_count": 24,
   "id": "9f16ec92",
   "metadata": {
    "editable": true,
    "slideshow": {
     "slide_type": "subslide"
    },
    "tags": []
   },
   "outputs": [],
   "source": [
    "from sklearn.preprocessing import KBinsDiscretizer\n",
    "\n",
    "discretization_feats = [\"latitude\", \"longitude\"]\n",
    "numeric_feats = [\"rooms_per_household\"]\n",
    "\n",
    "preprocessor2 = make_column_transformer(\n",
    "    (KBinsDiscretizer(n_bins=20, encode=\"onehot\"), discretization_feats),\n",
    "    (make_pipeline(SimpleImputer(), StandardScaler()), numeric_feats),\n",
    ")"
   ]
  },
  {
   "cell_type": "code",
   "execution_count": 25,
   "id": "e7502196",
   "metadata": {
    "editable": true,
    "slideshow": {
     "slide_type": "subslide"
    },
    "tags": []
   },
   "outputs": [
    {
     "data": {
      "text/html": [
       "<div>\n",
       "<style scoped>\n",
       "    .dataframe tbody tr th:only-of-type {\n",
       "        vertical-align: middle;\n",
       "    }\n",
       "\n",
       "    .dataframe tbody tr th {\n",
       "        vertical-align: top;\n",
       "    }\n",
       "\n",
       "    .dataframe thead th {\n",
       "        text-align: right;\n",
       "    }\n",
       "</style>\n",
       "<table border=\"1\" class=\"dataframe\">\n",
       "  <thead>\n",
       "    <tr style=\"text-align: right;\">\n",
       "      <th></th>\n",
       "      <th>fit_time</th>\n",
       "      <th>score_time</th>\n",
       "      <th>test_score</th>\n",
       "      <th>train_score</th>\n",
       "    </tr>\n",
       "  </thead>\n",
       "  <tbody>\n",
       "    <tr>\n",
       "      <th>0</th>\n",
       "      <td>0.013504</td>\n",
       "      <td>0.004102</td>\n",
       "      <td>0.441445</td>\n",
       "      <td>0.456419</td>\n",
       "    </tr>\n",
       "    <tr>\n",
       "      <th>1</th>\n",
       "      <td>0.013672</td>\n",
       "      <td>0.004972</td>\n",
       "      <td>0.469571</td>\n",
       "      <td>0.446216</td>\n",
       "    </tr>\n",
       "    <tr>\n",
       "      <th>2</th>\n",
       "      <td>0.014227</td>\n",
       "      <td>0.003736</td>\n",
       "      <td>0.479132</td>\n",
       "      <td>0.446869</td>\n",
       "    </tr>\n",
       "    <tr>\n",
       "      <th>3</th>\n",
       "      <td>0.013462</td>\n",
       "      <td>0.003769</td>\n",
       "      <td>0.450822</td>\n",
       "      <td>0.453367</td>\n",
       "    </tr>\n",
       "    <tr>\n",
       "      <th>4</th>\n",
       "      <td>0.015541</td>\n",
       "      <td>0.004175</td>\n",
       "      <td>0.388169</td>\n",
       "      <td>0.467628</td>\n",
       "    </tr>\n",
       "  </tbody>\n",
       "</table>\n",
       "</div>"
      ],
      "text/plain": [
       "   fit_time  score_time  test_score  train_score\n",
       "0  0.013504    0.004102    0.441445     0.456419\n",
       "1  0.013672    0.004972    0.469571     0.446216\n",
       "2  0.014227    0.003736    0.479132     0.446869\n",
       "3  0.013462    0.003769    0.450822     0.453367\n",
       "4  0.015541    0.004175    0.388169     0.467628"
      ]
     },
     "execution_count": 25,
     "metadata": {},
     "output_type": "execute_result"
    }
   ],
   "source": [
    "lr_2 = make_pipeline(preprocessor2, Ridge())\n",
    "pd.DataFrame(\n",
    "    cross_validate(lr_2, X_train_housing, y_train_housing, return_train_score=True)\n",
    ")"
   ]
  },
  {
   "cell_type": "markdown",
   "id": "755ca152",
   "metadata": {
    "editable": true,
    "slideshow": {
     "slide_type": "subslide"
    },
    "tags": []
   },
   "source": [
    "The results are better with binned features. Let's examine the binned features. "
   ]
  },
  {
   "cell_type": "code",
   "execution_count": 26,
   "id": "5e782feb",
   "metadata": {
    "editable": true,
    "slideshow": {
     "slide_type": "-"
    },
    "tags": []
   },
   "outputs": [
    {
     "data": {
      "text/html": [
       "<div>\n",
       "<style scoped>\n",
       "    .dataframe tbody tr th:only-of-type {\n",
       "        vertical-align: middle;\n",
       "    }\n",
       "\n",
       "    .dataframe tbody tr th {\n",
       "        vertical-align: top;\n",
       "    }\n",
       "\n",
       "    .dataframe thead th {\n",
       "        text-align: right;\n",
       "    }\n",
       "</style>\n",
       "<table border=\"1\" class=\"dataframe\">\n",
       "  <thead>\n",
       "    <tr style=\"text-align: right;\">\n",
       "      <th></th>\n",
       "      <th>kbinsdiscretizer__latitude_0.0</th>\n",
       "      <th>kbinsdiscretizer__latitude_1.0</th>\n",
       "      <th>kbinsdiscretizer__latitude_2.0</th>\n",
       "      <th>kbinsdiscretizer__latitude_3.0</th>\n",
       "      <th>kbinsdiscretizer__latitude_4.0</th>\n",
       "      <th>kbinsdiscretizer__latitude_5.0</th>\n",
       "      <th>kbinsdiscretizer__latitude_6.0</th>\n",
       "      <th>kbinsdiscretizer__latitude_7.0</th>\n",
       "      <th>kbinsdiscretizer__latitude_8.0</th>\n",
       "      <th>kbinsdiscretizer__latitude_9.0</th>\n",
       "      <th>...</th>\n",
       "      <th>kbinsdiscretizer__longitude_11.0</th>\n",
       "      <th>kbinsdiscretizer__longitude_12.0</th>\n",
       "      <th>kbinsdiscretizer__longitude_13.0</th>\n",
       "      <th>kbinsdiscretizer__longitude_14.0</th>\n",
       "      <th>kbinsdiscretizer__longitude_15.0</th>\n",
       "      <th>kbinsdiscretizer__longitude_16.0</th>\n",
       "      <th>kbinsdiscretizer__longitude_17.0</th>\n",
       "      <th>kbinsdiscretizer__longitude_18.0</th>\n",
       "      <th>kbinsdiscretizer__longitude_19.0</th>\n",
       "      <th>pipeline__rooms_per_household</th>\n",
       "    </tr>\n",
       "  </thead>\n",
       "  <tbody>\n",
       "    <tr>\n",
       "      <th>0</th>\n",
       "      <td>0.0</td>\n",
       "      <td>0.0</td>\n",
       "      <td>0.0</td>\n",
       "      <td>0.0</td>\n",
       "      <td>0.0</td>\n",
       "      <td>0.0</td>\n",
       "      <td>0.0</td>\n",
       "      <td>0.0</td>\n",
       "      <td>0.0</td>\n",
       "      <td>0.0</td>\n",
       "      <td>...</td>\n",
       "      <td>0.0</td>\n",
       "      <td>0.0</td>\n",
       "      <td>0.0</td>\n",
       "      <td>0.0</td>\n",
       "      <td>0.0</td>\n",
       "      <td>0.0</td>\n",
       "      <td>0.0</td>\n",
       "      <td>0.0</td>\n",
       "      <td>0.0</td>\n",
       "      <td>0.316164</td>\n",
       "    </tr>\n",
       "    <tr>\n",
       "      <th>1</th>\n",
       "      <td>0.0</td>\n",
       "      <td>0.0</td>\n",
       "      <td>0.0</td>\n",
       "      <td>0.0</td>\n",
       "      <td>0.0</td>\n",
       "      <td>0.0</td>\n",
       "      <td>0.0</td>\n",
       "      <td>0.0</td>\n",
       "      <td>0.0</td>\n",
       "      <td>0.0</td>\n",
       "      <td>...</td>\n",
       "      <td>0.0</td>\n",
       "      <td>0.0</td>\n",
       "      <td>0.0</td>\n",
       "      <td>0.0</td>\n",
       "      <td>0.0</td>\n",
       "      <td>0.0</td>\n",
       "      <td>0.0</td>\n",
       "      <td>0.0</td>\n",
       "      <td>0.0</td>\n",
       "      <td>0.209903</td>\n",
       "    </tr>\n",
       "    <tr>\n",
       "      <th>2</th>\n",
       "      <td>0.0</td>\n",
       "      <td>0.0</td>\n",
       "      <td>0.0</td>\n",
       "      <td>0.0</td>\n",
       "      <td>0.0</td>\n",
       "      <td>0.0</td>\n",
       "      <td>0.0</td>\n",
       "      <td>1.0</td>\n",
       "      <td>0.0</td>\n",
       "      <td>0.0</td>\n",
       "      <td>...</td>\n",
       "      <td>0.0</td>\n",
       "      <td>0.0</td>\n",
       "      <td>1.0</td>\n",
       "      <td>0.0</td>\n",
       "      <td>0.0</td>\n",
       "      <td>0.0</td>\n",
       "      <td>0.0</td>\n",
       "      <td>0.0</td>\n",
       "      <td>0.0</td>\n",
       "      <td>-0.711852</td>\n",
       "    </tr>\n",
       "    <tr>\n",
       "      <th>3</th>\n",
       "      <td>0.0</td>\n",
       "      <td>0.0</td>\n",
       "      <td>0.0</td>\n",
       "      <td>0.0</td>\n",
       "      <td>0.0</td>\n",
       "      <td>1.0</td>\n",
       "      <td>0.0</td>\n",
       "      <td>0.0</td>\n",
       "      <td>0.0</td>\n",
       "      <td>0.0</td>\n",
       "      <td>...</td>\n",
       "      <td>0.0</td>\n",
       "      <td>0.0</td>\n",
       "      <td>0.0</td>\n",
       "      <td>1.0</td>\n",
       "      <td>0.0</td>\n",
       "      <td>0.0</td>\n",
       "      <td>0.0</td>\n",
       "      <td>0.0</td>\n",
       "      <td>0.0</td>\n",
       "      <td>-0.117528</td>\n",
       "    </tr>\n",
       "    <tr>\n",
       "      <th>4</th>\n",
       "      <td>0.0</td>\n",
       "      <td>0.0</td>\n",
       "      <td>0.0</td>\n",
       "      <td>0.0</td>\n",
       "      <td>0.0</td>\n",
       "      <td>0.0</td>\n",
       "      <td>0.0</td>\n",
       "      <td>1.0</td>\n",
       "      <td>0.0</td>\n",
       "      <td>0.0</td>\n",
       "      <td>...</td>\n",
       "      <td>0.0</td>\n",
       "      <td>0.0</td>\n",
       "      <td>1.0</td>\n",
       "      <td>0.0</td>\n",
       "      <td>0.0</td>\n",
       "      <td>0.0</td>\n",
       "      <td>0.0</td>\n",
       "      <td>0.0</td>\n",
       "      <td>0.0</td>\n",
       "      <td>-0.554621</td>\n",
       "    </tr>\n",
       "    <tr>\n",
       "      <th>...</th>\n",
       "      <td>...</td>\n",
       "      <td>...</td>\n",
       "      <td>...</td>\n",
       "      <td>...</td>\n",
       "      <td>...</td>\n",
       "      <td>...</td>\n",
       "      <td>...</td>\n",
       "      <td>...</td>\n",
       "      <td>...</td>\n",
       "      <td>...</td>\n",
       "      <td>...</td>\n",
       "      <td>...</td>\n",
       "      <td>...</td>\n",
       "      <td>...</td>\n",
       "      <td>...</td>\n",
       "      <td>...</td>\n",
       "      <td>...</td>\n",
       "      <td>...</td>\n",
       "      <td>...</td>\n",
       "      <td>...</td>\n",
       "      <td>...</td>\n",
       "    </tr>\n",
       "    <tr>\n",
       "      <th>16507</th>\n",
       "      <td>0.0</td>\n",
       "      <td>0.0</td>\n",
       "      <td>0.0</td>\n",
       "      <td>0.0</td>\n",
       "      <td>1.0</td>\n",
       "      <td>0.0</td>\n",
       "      <td>0.0</td>\n",
       "      <td>0.0</td>\n",
       "      <td>0.0</td>\n",
       "      <td>0.0</td>\n",
       "      <td>...</td>\n",
       "      <td>0.0</td>\n",
       "      <td>0.0</td>\n",
       "      <td>0.0</td>\n",
       "      <td>1.0</td>\n",
       "      <td>0.0</td>\n",
       "      <td>0.0</td>\n",
       "      <td>0.0</td>\n",
       "      <td>0.0</td>\n",
       "      <td>0.0</td>\n",
       "      <td>0.064307</td>\n",
       "    </tr>\n",
       "    <tr>\n",
       "      <th>16508</th>\n",
       "      <td>0.0</td>\n",
       "      <td>1.0</td>\n",
       "      <td>0.0</td>\n",
       "      <td>0.0</td>\n",
       "      <td>0.0</td>\n",
       "      <td>0.0</td>\n",
       "      <td>0.0</td>\n",
       "      <td>0.0</td>\n",
       "      <td>0.0</td>\n",
       "      <td>0.0</td>\n",
       "      <td>...</td>\n",
       "      <td>0.0</td>\n",
       "      <td>0.0</td>\n",
       "      <td>0.0</td>\n",
       "      <td>0.0</td>\n",
       "      <td>0.0</td>\n",
       "      <td>0.0</td>\n",
       "      <td>0.0</td>\n",
       "      <td>1.0</td>\n",
       "      <td>0.0</td>\n",
       "      <td>0.235706</td>\n",
       "    </tr>\n",
       "    <tr>\n",
       "      <th>16509</th>\n",
       "      <td>0.0</td>\n",
       "      <td>0.0</td>\n",
       "      <td>0.0</td>\n",
       "      <td>0.0</td>\n",
       "      <td>0.0</td>\n",
       "      <td>0.0</td>\n",
       "      <td>0.0</td>\n",
       "      <td>0.0</td>\n",
       "      <td>0.0</td>\n",
       "      <td>0.0</td>\n",
       "      <td>...</td>\n",
       "      <td>0.0</td>\n",
       "      <td>0.0</td>\n",
       "      <td>0.0</td>\n",
       "      <td>0.0</td>\n",
       "      <td>0.0</td>\n",
       "      <td>0.0</td>\n",
       "      <td>0.0</td>\n",
       "      <td>0.0</td>\n",
       "      <td>0.0</td>\n",
       "      <td>0.212581</td>\n",
       "    </tr>\n",
       "    <tr>\n",
       "      <th>16510</th>\n",
       "      <td>0.0</td>\n",
       "      <td>0.0</td>\n",
       "      <td>0.0</td>\n",
       "      <td>0.0</td>\n",
       "      <td>0.0</td>\n",
       "      <td>0.0</td>\n",
       "      <td>0.0</td>\n",
       "      <td>0.0</td>\n",
       "      <td>0.0</td>\n",
       "      <td>0.0</td>\n",
       "      <td>...</td>\n",
       "      <td>0.0</td>\n",
       "      <td>0.0</td>\n",
       "      <td>0.0</td>\n",
       "      <td>0.0</td>\n",
       "      <td>0.0</td>\n",
       "      <td>0.0</td>\n",
       "      <td>0.0</td>\n",
       "      <td>0.0</td>\n",
       "      <td>0.0</td>\n",
       "      <td>-0.271037</td>\n",
       "    </tr>\n",
       "    <tr>\n",
       "      <th>16511</th>\n",
       "      <td>0.0</td>\n",
       "      <td>0.0</td>\n",
       "      <td>0.0</td>\n",
       "      <td>0.0</td>\n",
       "      <td>0.0</td>\n",
       "      <td>0.0</td>\n",
       "      <td>0.0</td>\n",
       "      <td>0.0</td>\n",
       "      <td>0.0</td>\n",
       "      <td>0.0</td>\n",
       "      <td>...</td>\n",
       "      <td>0.0</td>\n",
       "      <td>0.0</td>\n",
       "      <td>0.0</td>\n",
       "      <td>0.0</td>\n",
       "      <td>0.0</td>\n",
       "      <td>0.0</td>\n",
       "      <td>0.0</td>\n",
       "      <td>0.0</td>\n",
       "      <td>0.0</td>\n",
       "      <td>0.027321</td>\n",
       "    </tr>\n",
       "  </tbody>\n",
       "</table>\n",
       "<p>16512 rows × 41 columns</p>\n",
       "</div>"
      ],
      "text/plain": [
       "       kbinsdiscretizer__latitude_0.0  kbinsdiscretizer__latitude_1.0  \\\n",
       "0                                 0.0                             0.0   \n",
       "1                                 0.0                             0.0   \n",
       "2                                 0.0                             0.0   \n",
       "3                                 0.0                             0.0   \n",
       "4                                 0.0                             0.0   \n",
       "...                               ...                             ...   \n",
       "16507                             0.0                             0.0   \n",
       "16508                             0.0                             1.0   \n",
       "16509                             0.0                             0.0   \n",
       "16510                             0.0                             0.0   \n",
       "16511                             0.0                             0.0   \n",
       "\n",
       "       kbinsdiscretizer__latitude_2.0  kbinsdiscretizer__latitude_3.0  \\\n",
       "0                                 0.0                             0.0   \n",
       "1                                 0.0                             0.0   \n",
       "2                                 0.0                             0.0   \n",
       "3                                 0.0                             0.0   \n",
       "4                                 0.0                             0.0   \n",
       "...                               ...                             ...   \n",
       "16507                             0.0                             0.0   \n",
       "16508                             0.0                             0.0   \n",
       "16509                             0.0                             0.0   \n",
       "16510                             0.0                             0.0   \n",
       "16511                             0.0                             0.0   \n",
       "\n",
       "       kbinsdiscretizer__latitude_4.0  kbinsdiscretizer__latitude_5.0  \\\n",
       "0                                 0.0                             0.0   \n",
       "1                                 0.0                             0.0   \n",
       "2                                 0.0                             0.0   \n",
       "3                                 0.0                             1.0   \n",
       "4                                 0.0                             0.0   \n",
       "...                               ...                             ...   \n",
       "16507                             1.0                             0.0   \n",
       "16508                             0.0                             0.0   \n",
       "16509                             0.0                             0.0   \n",
       "16510                             0.0                             0.0   \n",
       "16511                             0.0                             0.0   \n",
       "\n",
       "       kbinsdiscretizer__latitude_6.0  kbinsdiscretizer__latitude_7.0  \\\n",
       "0                                 0.0                             0.0   \n",
       "1                                 0.0                             0.0   \n",
       "2                                 0.0                             1.0   \n",
       "3                                 0.0                             0.0   \n",
       "4                                 0.0                             1.0   \n",
       "...                               ...                             ...   \n",
       "16507                             0.0                             0.0   \n",
       "16508                             0.0                             0.0   \n",
       "16509                             0.0                             0.0   \n",
       "16510                             0.0                             0.0   \n",
       "16511                             0.0                             0.0   \n",
       "\n",
       "       kbinsdiscretizer__latitude_8.0  kbinsdiscretizer__latitude_9.0  ...  \\\n",
       "0                                 0.0                             0.0  ...   \n",
       "1                                 0.0                             0.0  ...   \n",
       "2                                 0.0                             0.0  ...   \n",
       "3                                 0.0                             0.0  ...   \n",
       "4                                 0.0                             0.0  ...   \n",
       "...                               ...                             ...  ...   \n",
       "16507                             0.0                             0.0  ...   \n",
       "16508                             0.0                             0.0  ...   \n",
       "16509                             0.0                             0.0  ...   \n",
       "16510                             0.0                             0.0  ...   \n",
       "16511                             0.0                             0.0  ...   \n",
       "\n",
       "       kbinsdiscretizer__longitude_11.0  kbinsdiscretizer__longitude_12.0  \\\n",
       "0                                   0.0                               0.0   \n",
       "1                                   0.0                               0.0   \n",
       "2                                   0.0                               0.0   \n",
       "3                                   0.0                               0.0   \n",
       "4                                   0.0                               0.0   \n",
       "...                                 ...                               ...   \n",
       "16507                               0.0                               0.0   \n",
       "16508                               0.0                               0.0   \n",
       "16509                               0.0                               0.0   \n",
       "16510                               0.0                               0.0   \n",
       "16511                               0.0                               0.0   \n",
       "\n",
       "       kbinsdiscretizer__longitude_13.0  kbinsdiscretizer__longitude_14.0  \\\n",
       "0                                   0.0                               0.0   \n",
       "1                                   0.0                               0.0   \n",
       "2                                   1.0                               0.0   \n",
       "3                                   0.0                               1.0   \n",
       "4                                   1.0                               0.0   \n",
       "...                                 ...                               ...   \n",
       "16507                               0.0                               1.0   \n",
       "16508                               0.0                               0.0   \n",
       "16509                               0.0                               0.0   \n",
       "16510                               0.0                               0.0   \n",
       "16511                               0.0                               0.0   \n",
       "\n",
       "       kbinsdiscretizer__longitude_15.0  kbinsdiscretizer__longitude_16.0  \\\n",
       "0                                   0.0                               0.0   \n",
       "1                                   0.0                               0.0   \n",
       "2                                   0.0                               0.0   \n",
       "3                                   0.0                               0.0   \n",
       "4                                   0.0                               0.0   \n",
       "...                                 ...                               ...   \n",
       "16507                               0.0                               0.0   \n",
       "16508                               0.0                               0.0   \n",
       "16509                               0.0                               0.0   \n",
       "16510                               0.0                               0.0   \n",
       "16511                               0.0                               0.0   \n",
       "\n",
       "       kbinsdiscretizer__longitude_17.0  kbinsdiscretizer__longitude_18.0  \\\n",
       "0                                   0.0                               0.0   \n",
       "1                                   0.0                               0.0   \n",
       "2                                   0.0                               0.0   \n",
       "3                                   0.0                               0.0   \n",
       "4                                   0.0                               0.0   \n",
       "...                                 ...                               ...   \n",
       "16507                               0.0                               0.0   \n",
       "16508                               0.0                               1.0   \n",
       "16509                               0.0                               0.0   \n",
       "16510                               0.0                               0.0   \n",
       "16511                               0.0                               0.0   \n",
       "\n",
       "       kbinsdiscretizer__longitude_19.0  pipeline__rooms_per_household  \n",
       "0                                   0.0                       0.316164  \n",
       "1                                   0.0                       0.209903  \n",
       "2                                   0.0                      -0.711852  \n",
       "3                                   0.0                      -0.117528  \n",
       "4                                   0.0                      -0.554621  \n",
       "...                                 ...                            ...  \n",
       "16507                               0.0                       0.064307  \n",
       "16508                               0.0                       0.235706  \n",
       "16509                               0.0                       0.212581  \n",
       "16510                               0.0                      -0.271037  \n",
       "16511                               0.0                       0.027321  \n",
       "\n",
       "[16512 rows x 41 columns]"
      ]
     },
     "execution_count": 26,
     "metadata": {},
     "output_type": "execute_result"
    }
   ],
   "source": [
    "pd.DataFrame(\n",
    "    preprocessor2.fit_transform(X_train_housing).todense(),\n",
    "    columns=preprocessor2.get_feature_names_out(),\n",
    ")"
   ]
  },
  {
   "cell_type": "markdown",
   "id": "844c7be1",
   "metadata": {
    "editable": true,
    "slideshow": {
     "slide_type": "subslide"
    },
    "tags": []
   },
   "source": [
    "How about discretizing all three features? "
   ]
  },
  {
   "cell_type": "code",
   "execution_count": 27,
   "id": "1af69cd5",
   "metadata": {
    "editable": true,
    "slideshow": {
     "slide_type": "-"
    },
    "tags": []
   },
   "outputs": [],
   "source": [
    "from sklearn.preprocessing import KBinsDiscretizer\n",
    "\n",
    "discretization_feats = [\"latitude\", \"longitude\", \"rooms_per_household\"]\n",
    "\n",
    "preprocessor3 = make_column_transformer(\n",
    "    (KBinsDiscretizer(n_bins=20, encode=\"onehot\"), discretization_feats),\n",
    ")"
   ]
  },
  {
   "cell_type": "code",
   "execution_count": 28,
   "id": "2b6d77ab",
   "metadata": {
    "editable": true,
    "slideshow": {
     "slide_type": "subslide"
    },
    "tags": []
   },
   "outputs": [
    {
     "data": {
      "text/html": [
       "<div>\n",
       "<style scoped>\n",
       "    .dataframe tbody tr th:only-of-type {\n",
       "        vertical-align: middle;\n",
       "    }\n",
       "\n",
       "    .dataframe tbody tr th {\n",
       "        vertical-align: top;\n",
       "    }\n",
       "\n",
       "    .dataframe thead th {\n",
       "        text-align: right;\n",
       "    }\n",
       "</style>\n",
       "<table border=\"1\" class=\"dataframe\">\n",
       "  <thead>\n",
       "    <tr style=\"text-align: right;\">\n",
       "      <th></th>\n",
       "      <th>fit_time</th>\n",
       "      <th>score_time</th>\n",
       "      <th>test_score</th>\n",
       "      <th>train_score</th>\n",
       "    </tr>\n",
       "  </thead>\n",
       "  <tbody>\n",
       "    <tr>\n",
       "      <th>0</th>\n",
       "      <td>0.026149</td>\n",
       "      <td>0.004086</td>\n",
       "      <td>0.590618</td>\n",
       "      <td>0.571969</td>\n",
       "    </tr>\n",
       "    <tr>\n",
       "      <th>1</th>\n",
       "      <td>0.015383</td>\n",
       "      <td>0.003433</td>\n",
       "      <td>0.575907</td>\n",
       "      <td>0.570473</td>\n",
       "    </tr>\n",
       "    <tr>\n",
       "      <th>2</th>\n",
       "      <td>0.012912</td>\n",
       "      <td>0.002968</td>\n",
       "      <td>0.579091</td>\n",
       "      <td>0.573542</td>\n",
       "    </tr>\n",
       "    <tr>\n",
       "      <th>3</th>\n",
       "      <td>0.012584</td>\n",
       "      <td>0.003278</td>\n",
       "      <td>0.571500</td>\n",
       "      <td>0.574260</td>\n",
       "    </tr>\n",
       "    <tr>\n",
       "      <th>4</th>\n",
       "      <td>0.022140</td>\n",
       "      <td>0.005023</td>\n",
       "      <td>0.541488</td>\n",
       "      <td>0.581687</td>\n",
       "    </tr>\n",
       "  </tbody>\n",
       "</table>\n",
       "</div>"
      ],
      "text/plain": [
       "   fit_time  score_time  test_score  train_score\n",
       "0  0.026149    0.004086    0.590618     0.571969\n",
       "1  0.015383    0.003433    0.575907     0.570473\n",
       "2  0.012912    0.002968    0.579091     0.573542\n",
       "3  0.012584    0.003278    0.571500     0.574260\n",
       "4  0.022140    0.005023    0.541488     0.581687"
      ]
     },
     "execution_count": 28,
     "metadata": {},
     "output_type": "execute_result"
    }
   ],
   "source": [
    "lr_3 = make_pipeline(preprocessor3, Ridge())\n",
    "pd.DataFrame(\n",
    "    cross_validate(lr_3, X_train_housing, y_train_housing, return_train_score=True)\n",
    ")"
   ]
  },
  {
   "cell_type": "markdown",
   "id": "62681a29",
   "metadata": {
    "editable": true,
    "slideshow": {
     "slide_type": "subslide"
    },
    "tags": []
   },
   "source": [
    "- The results have improved further!! \n",
    "- Let's examine the coefficients"
   ]
  },
  {
   "cell_type": "code",
   "execution_count": 29,
   "id": "c6f679dd",
   "metadata": {
    "editable": true,
    "slideshow": {
     "slide_type": "-"
    },
    "tags": []
   },
   "outputs": [],
   "source": [
    "lr_3.fit(X_train_housing, y_train_housing)\n",
    "feature_names = (\n",
    "    lr_3.named_steps[\"columntransformer\"]\n",
    "    .named_transformers_[\"kbinsdiscretizer\"]\n",
    "    .get_feature_names_out()\n",
    ")"
   ]
  },
  {
   "cell_type": "code",
   "execution_count": 30,
   "id": "c68a6da4",
   "metadata": {
    "editable": true,
    "slideshow": {
     "slide_type": "-"
    },
    "tags": []
   },
   "outputs": [
    {
     "data": {
      "text/html": [
       "<div>\n",
       "<style scoped>\n",
       "    .dataframe tbody tr th:only-of-type {\n",
       "        vertical-align: middle;\n",
       "    }\n",
       "\n",
       "    .dataframe tbody tr th {\n",
       "        vertical-align: top;\n",
       "    }\n",
       "\n",
       "    .dataframe thead th {\n",
       "        text-align: right;\n",
       "    }\n",
       "</style>\n",
       "<table border=\"1\" class=\"dataframe\">\n",
       "  <thead>\n",
       "    <tr style=\"text-align: right;\">\n",
       "      <th></th>\n",
       "      <th>coefficient</th>\n",
       "    </tr>\n",
       "  </thead>\n",
       "  <tbody>\n",
       "    <tr>\n",
       "      <th>longitude_1.0</th>\n",
       "      <td>211343.036136</td>\n",
       "    </tr>\n",
       "    <tr>\n",
       "      <th>latitude_1.0</th>\n",
       "      <td>205059.296601</td>\n",
       "    </tr>\n",
       "    <tr>\n",
       "      <th>latitude_0.0</th>\n",
       "      <td>201862.534342</td>\n",
       "    </tr>\n",
       "    <tr>\n",
       "      <th>longitude_0.0</th>\n",
       "      <td>190319.721818</td>\n",
       "    </tr>\n",
       "    <tr>\n",
       "      <th>longitude_2.0</th>\n",
       "      <td>160282.191204</td>\n",
       "    </tr>\n",
       "    <tr>\n",
       "      <th>longitude_3.0</th>\n",
       "      <td>157234.920305</td>\n",
       "    </tr>\n",
       "    <tr>\n",
       "      <th>latitude_2.0</th>\n",
       "      <td>154105.963689</td>\n",
       "    </tr>\n",
       "    <tr>\n",
       "      <th>rooms_per_household_19.0</th>\n",
       "      <td>138503.477291</td>\n",
       "    </tr>\n",
       "    <tr>\n",
       "      <th>latitude_8.0</th>\n",
       "      <td>135299.516394</td>\n",
       "    </tr>\n",
       "    <tr>\n",
       "      <th>longitude_4.0</th>\n",
       "      <td>132292.924485</td>\n",
       "    </tr>\n",
       "  </tbody>\n",
       "</table>\n",
       "</div>"
      ],
      "text/plain": [
       "                            coefficient\n",
       "longitude_1.0             211343.036136\n",
       "latitude_1.0              205059.296601\n",
       "latitude_0.0              201862.534342\n",
       "longitude_0.0             190319.721818\n",
       "longitude_2.0             160282.191204\n",
       "longitude_3.0             157234.920305\n",
       "latitude_2.0              154105.963689\n",
       "rooms_per_household_19.0  138503.477291\n",
       "latitude_8.0              135299.516394\n",
       "longitude_4.0             132292.924485"
      ]
     },
     "execution_count": 30,
     "metadata": {},
     "output_type": "execute_result"
    }
   ],
   "source": [
    "coefs_df = pd.DataFrame(\n",
    "    lr_3.named_steps[\"ridge\"].coef_.transpose(),\n",
    "    index=feature_names,\n",
    "    columns=[\"coefficient\"],\n",
    ").sort_values(\"coefficient\", ascending=False)\n",
    "coefs_df.head(n=10)"
   ]
  },
  {
   "cell_type": "markdown",
   "id": "1e705df2-3ed9-4090-836c-83e6e2c2b521",
   "metadata": {
    "editable": true,
    "slideshow": {
     "slide_type": "subslide"
    },
    "tags": []
   },
   "source": [
    "Let's focus on the rooms_per_household bins"
   ]
  },
  {
   "cell_type": "code",
   "execution_count": 31,
   "id": "49a4493d-4449-4727-9f51-5336419d1ad0",
   "metadata": {
    "editable": true,
    "slideshow": {
     "slide_type": ""
    },
    "tags": []
   },
   "outputs": [
    {
     "data": {
      "text/html": [
       "<div>\n",
       "<style scoped>\n",
       "    .dataframe tbody tr th:only-of-type {\n",
       "        vertical-align: middle;\n",
       "    }\n",
       "\n",
       "    .dataframe tbody tr th {\n",
       "        vertical-align: top;\n",
       "    }\n",
       "\n",
       "    .dataframe thead th {\n",
       "        text-align: right;\n",
       "    }\n",
       "</style>\n",
       "<table border=\"1\" class=\"dataframe\">\n",
       "  <thead>\n",
       "    <tr style=\"text-align: right;\">\n",
       "      <th></th>\n",
       "      <th>coefficient</th>\n",
       "    </tr>\n",
       "  </thead>\n",
       "  <tbody>\n",
       "    <tr>\n",
       "      <th>rooms_per_household_1.0</th>\n",
       "      <td>-51143.091625</td>\n",
       "    </tr>\n",
       "    <tr>\n",
       "      <th>rooms_per_household_0.0</th>\n",
       "      <td>-50884.444297</td>\n",
       "    </tr>\n",
       "    <tr>\n",
       "      <th>rooms_per_household_2.0</th>\n",
       "      <td>-47606.596151</td>\n",
       "    </tr>\n",
       "    <tr>\n",
       "      <th>rooms_per_household_5.0</th>\n",
       "      <td>-43445.134061</td>\n",
       "    </tr>\n",
       "    <tr>\n",
       "      <th>rooms_per_household_3.0</th>\n",
       "      <td>-42060.071975</td>\n",
       "    </tr>\n",
       "    <tr>\n",
       "      <th>rooms_per_household_4.0</th>\n",
       "      <td>-40689.197649</td>\n",
       "    </tr>\n",
       "    <tr>\n",
       "      <th>rooms_per_household_6.0</th>\n",
       "      <td>-32734.570739</td>\n",
       "    </tr>\n",
       "    <tr>\n",
       "      <th>rooms_per_household_7.0</th>\n",
       "      <td>-30573.540359</td>\n",
       "    </tr>\n",
       "    <tr>\n",
       "      <th>rooms_per_household_8.0</th>\n",
       "      <td>-26919.381190</td>\n",
       "    </tr>\n",
       "    <tr>\n",
       "      <th>rooms_per_household_9.0</th>\n",
       "      <td>-19591.810098</td>\n",
       "    </tr>\n",
       "    <tr>\n",
       "      <th>rooms_per_household_10.0</th>\n",
       "      <td>-16630.535622</td>\n",
       "    </tr>\n",
       "    <tr>\n",
       "      <th>rooms_per_household_11.0</th>\n",
       "      <td>-12178.614567</td>\n",
       "    </tr>\n",
       "    <tr>\n",
       "      <th>rooms_per_household_12.0</th>\n",
       "      <td>1858.970683</td>\n",
       "    </tr>\n",
       "    <tr>\n",
       "      <th>rooms_per_household_13.0</th>\n",
       "      <td>9351.210272</td>\n",
       "    </tr>\n",
       "    <tr>\n",
       "      <th>rooms_per_household_14.0</th>\n",
       "      <td>16460.273962</td>\n",
       "    </tr>\n",
       "    <tr>\n",
       "      <th>rooms_per_household_15.0</th>\n",
       "      <td>31454.877046</td>\n",
       "    </tr>\n",
       "    <tr>\n",
       "      <th>rooms_per_household_16.0</th>\n",
       "      <td>44311.362553</td>\n",
       "    </tr>\n",
       "    <tr>\n",
       "      <th>rooms_per_household_17.0</th>\n",
       "      <td>70472.564483</td>\n",
       "    </tr>\n",
       "    <tr>\n",
       "      <th>rooms_per_household_18.0</th>\n",
       "      <td>102044.252042</td>\n",
       "    </tr>\n",
       "    <tr>\n",
       "      <th>rooms_per_household_19.0</th>\n",
       "      <td>138503.477291</td>\n",
       "    </tr>\n",
       "  </tbody>\n",
       "</table>\n",
       "</div>"
      ],
      "text/plain": [
       "                            coefficient\n",
       "rooms_per_household_1.0   -51143.091625\n",
       "rooms_per_household_0.0   -50884.444297\n",
       "rooms_per_household_2.0   -47606.596151\n",
       "rooms_per_household_5.0   -43445.134061\n",
       "rooms_per_household_3.0   -42060.071975\n",
       "rooms_per_household_4.0   -40689.197649\n",
       "rooms_per_household_6.0   -32734.570739\n",
       "rooms_per_household_7.0   -30573.540359\n",
       "rooms_per_household_8.0   -26919.381190\n",
       "rooms_per_household_9.0   -19591.810098\n",
       "rooms_per_household_10.0  -16630.535622\n",
       "rooms_per_household_11.0  -12178.614567\n",
       "rooms_per_household_12.0    1858.970683\n",
       "rooms_per_household_13.0    9351.210272\n",
       "rooms_per_household_14.0   16460.273962\n",
       "rooms_per_household_15.0   31454.877046\n",
       "rooms_per_household_16.0   44311.362553\n",
       "rooms_per_household_17.0   70472.564483\n",
       "rooms_per_household_18.0  102044.252042\n",
       "rooms_per_household_19.0  138503.477291"
      ]
     },
     "execution_count": 31,
     "metadata": {},
     "output_type": "execute_result"
    }
   ],
   "source": [
    "room_rows = [x.startswith(\"rooms\") for x in coefs_df.index]\n",
    "coefs_df.loc[room_rows].sort_values(by=\"coefficient\")"
   ]
  },
  {
   "cell_type": "markdown",
   "id": "d0a9a2a7",
   "metadata": {
    "editable": true,
    "slideshow": {
     "slide_type": "subslide"
    },
    "tags": []
   },
   "source": [
    "- Does it make sense to take feature crosses in this context?\n",
    "- What information would they encode? "
   ]
  },
  {
   "cell_type": "markdown",
   "id": "27961db0",
   "metadata": {
    "editable": true,
    "slideshow": {
     "slide_type": "slide"
    },
    "tags": []
   },
   "source": [
    "### Interim summary \n",
    "\n",
    "- Feature engineering is finding the useful representation of the data that can help us effectively solve our problem. "
   ]
  },
  {
   "cell_type": "markdown",
   "id": "0f16ea4d-8960-4435-ad2e-e7cc7a5283e7",
   "metadata": {
    "editable": true,
    "slideshow": {
     "slide_type": "fragment"
    },
    "tags": []
   },
   "source": [
    "Check out [Appendix A](appendixA_feature-engineering-text-data.ipynb) for a demo of feature engineering on text data. \n",
    "\n",
    "- In the context of text data, if we want to go beyond bag-of-words and incorporate human knowledge in models, we carry out feature engineering. \n",
    "- Some common features include:\n",
    "    - ngram features\n",
    "    - part-of-speech features\n",
    "    - named entity features\n",
    "    - emoticons in text\n",
    "- These are usually extracted from pre-trained models using libraries such as `spaCy`.  \n",
    "- Now a lot of this has moved to deep learning.\n",
    "- But many industries still rely on manual feature engineering."
   ]
  },
  {
   "cell_type": "markdown",
   "id": "009a53ae",
   "metadata": {
    "editable": true,
    "slideshow": {
     "slide_type": "slide"
    },
    "tags": []
   },
   "source": [
    "### Feature engineering \n",
    "\n",
    "- The best features are application-dependent.\n",
    "- It's hard to give general advice. But here are some guidelines. \n",
    "    - Ask the domain experts.\n",
    "    - Go through academic papers in the discipline. \n",
    "    - Often have idea of right discretization/standardization/transformation.\n",
    "    - If no domain expert, cross-validation will help.\n",
    "- If you have lots of data, use deep learning methods. "
   ]
  },
  {
   "cell_type": "markdown",
   "id": "00ecaf5a",
   "metadata": {
    "editable": true,
    "slideshow": {
     "slide_type": "fragment"
    },
    "tags": []
   },
   "source": [
    "<blockquote>\n",
    "    The algorithms we used are very standard for Kagglers ... We spent most of our efforts in feature engineering... <br>\n",
    "- Xavier Conort, on winning the Flight Quest challenge on Kaggle    \n",
    "</blockquote>    "
   ]
  },
  {
   "cell_type": "markdown",
   "id": "92f1f970",
   "metadata": {
    "editable": true,
    "slideshow": {
     "slide_type": "slide"
    },
    "tags": []
   },
   "source": [
    "## Feature selection: Introduction and motivation\n",
    "\n",
    "\n",
    "- With so many ways to add new features, we can increase dimensionality of the data. \n",
    "- More features means more complex models, which means increasing the chance of overfitting. "
   ]
  },
  {
   "cell_type": "markdown",
   "id": "6c65ff6c",
   "metadata": {
    "editable": true,
    "slideshow": {
     "slide_type": "-"
    },
    "tags": []
   },
   "source": [
    "### What is feature selection?\n",
    "\n",
    "- Find the features\t(columns) $X$ that are important for predicting\t$y$, and remove the features that aren't. \n",
    "\n",
    "- Given $X = \\begin{bmatrix}x_1 & x_2 & \\dots & x_n\\\\  \\\\  \\\\  \\end{bmatrix}$ and $y = \\begin{bmatrix}\\\\  \\\\  \\\\  \\end{bmatrix}$, find the columns $1 \\leq j \\leq n$ in $X$ that are important for predicting $y$.\n"
   ]
  },
  {
   "cell_type": "markdown",
   "id": "973d9571",
   "metadata": {
    "slideshow": {
     "slide_type": "subslide"
    }
   },
   "source": [
    "### Why feature selection? \n",
    "\n",
    "- Interpretability: Models are more interpretable with fewer features. If you get the same performance with 10 features instead of 500 features, why not use the model with smaller number of features?     \n",
    "- Computation: Models fit/predict faster with fewer columns.\n",
    "- Data collection: What type of new data should I collect? It may be cheaper to collect fewer columns.\n",
    "- Fundamental tradeoff: Can I reduce overfitting by removing useless features?\n",
    "\n",
    "Feature selection can often result in better performing (less overfit), easier to understand, and faster model. \n"
   ]
  },
  {
   "cell_type": "markdown",
   "id": "13457cb0",
   "metadata": {
    "slideshow": {
     "slide_type": "subslide"
    }
   },
   "source": [
    "### How do we carry out feature selection? \n",
    "\n",
    "- There are a number of ways. \n",
    "- You could use domain knowledge to discard features. \n",
    "- We are briefly going to look at some automatic feature selection methods from `sklearn`:\n",
    "    - Model-based selection \n",
    "    - Recursive feature elimination\n",
    "    - Forward/backward selection \n",
    "- Very related to looking at feature importances."
   ]
  },
  {
   "cell_type": "code",
   "execution_count": 32,
   "id": "4151f900",
   "metadata": {
    "editable": true,
    "slideshow": {
     "slide_type": "subslide"
    },
    "tags": []
   },
   "outputs": [
    {
     "data": {
      "text/html": [
       "<div>\n",
       "<style scoped>\n",
       "    .dataframe tbody tr th:only-of-type {\n",
       "        vertical-align: middle;\n",
       "    }\n",
       "\n",
       "    .dataframe tbody tr th {\n",
       "        vertical-align: top;\n",
       "    }\n",
       "\n",
       "    .dataframe thead th {\n",
       "        text-align: right;\n",
       "    }\n",
       "</style>\n",
       "<table border=\"1\" class=\"dataframe\">\n",
       "  <thead>\n",
       "    <tr style=\"text-align: right;\">\n",
       "      <th></th>\n",
       "      <th>mean radius</th>\n",
       "      <th>mean texture</th>\n",
       "      <th>mean perimeter</th>\n",
       "      <th>mean area</th>\n",
       "      <th>mean smoothness</th>\n",
       "      <th>mean compactness</th>\n",
       "      <th>mean concavity</th>\n",
       "      <th>mean concave points</th>\n",
       "      <th>mean symmetry</th>\n",
       "      <th>mean fractal dimension</th>\n",
       "      <th>...</th>\n",
       "      <th>worst texture</th>\n",
       "      <th>worst perimeter</th>\n",
       "      <th>worst area</th>\n",
       "      <th>worst smoothness</th>\n",
       "      <th>worst compactness</th>\n",
       "      <th>worst concavity</th>\n",
       "      <th>worst concave points</th>\n",
       "      <th>worst symmetry</th>\n",
       "      <th>worst fractal dimension</th>\n",
       "      <th>target</th>\n",
       "    </tr>\n",
       "  </thead>\n",
       "  <tbody>\n",
       "    <tr>\n",
       "      <th>395</th>\n",
       "      <td>14.06</td>\n",
       "      <td>17.18</td>\n",
       "      <td>89.75</td>\n",
       "      <td>609.1</td>\n",
       "      <td>0.08045</td>\n",
       "      <td>0.05361</td>\n",
       "      <td>0.02681</td>\n",
       "      <td>0.03251</td>\n",
       "      <td>0.1641</td>\n",
       "      <td>0.05764</td>\n",
       "      <td>...</td>\n",
       "      <td>25.34</td>\n",
       "      <td>96.42</td>\n",
       "      <td>684.5</td>\n",
       "      <td>0.1066</td>\n",
       "      <td>0.1231</td>\n",
       "      <td>0.0846</td>\n",
       "      <td>0.07911</td>\n",
       "      <td>0.2523</td>\n",
       "      <td>0.06609</td>\n",
       "      <td>1</td>\n",
       "    </tr>\n",
       "    <tr>\n",
       "      <th>393</th>\n",
       "      <td>21.61</td>\n",
       "      <td>22.28</td>\n",
       "      <td>144.40</td>\n",
       "      <td>1407.0</td>\n",
       "      <td>0.11670</td>\n",
       "      <td>0.20870</td>\n",
       "      <td>0.28100</td>\n",
       "      <td>0.15620</td>\n",
       "      <td>0.2162</td>\n",
       "      <td>0.06606</td>\n",
       "      <td>...</td>\n",
       "      <td>28.74</td>\n",
       "      <td>172.00</td>\n",
       "      <td>2081.0</td>\n",
       "      <td>0.1502</td>\n",
       "      <td>0.5717</td>\n",
       "      <td>0.7053</td>\n",
       "      <td>0.24220</td>\n",
       "      <td>0.3828</td>\n",
       "      <td>0.10070</td>\n",
       "      <td>0</td>\n",
       "    </tr>\n",
       "    <tr>\n",
       "      <th>381</th>\n",
       "      <td>11.04</td>\n",
       "      <td>14.93</td>\n",
       "      <td>70.67</td>\n",
       "      <td>372.7</td>\n",
       "      <td>0.07987</td>\n",
       "      <td>0.07079</td>\n",
       "      <td>0.03546</td>\n",
       "      <td>0.02074</td>\n",
       "      <td>0.2003</td>\n",
       "      <td>0.06246</td>\n",
       "      <td>...</td>\n",
       "      <td>20.83</td>\n",
       "      <td>79.73</td>\n",
       "      <td>447.1</td>\n",
       "      <td>0.1095</td>\n",
       "      <td>0.1982</td>\n",
       "      <td>0.1553</td>\n",
       "      <td>0.06754</td>\n",
       "      <td>0.3202</td>\n",
       "      <td>0.07287</td>\n",
       "      <td>1</td>\n",
       "    </tr>\n",
       "    <tr>\n",
       "      <th>198</th>\n",
       "      <td>19.18</td>\n",
       "      <td>22.49</td>\n",
       "      <td>127.50</td>\n",
       "      <td>1148.0</td>\n",
       "      <td>0.08523</td>\n",
       "      <td>0.14280</td>\n",
       "      <td>0.11140</td>\n",
       "      <td>0.06772</td>\n",
       "      <td>0.1767</td>\n",
       "      <td>0.05529</td>\n",
       "      <td>...</td>\n",
       "      <td>32.06</td>\n",
       "      <td>166.40</td>\n",
       "      <td>1688.0</td>\n",
       "      <td>0.1322</td>\n",
       "      <td>0.5601</td>\n",
       "      <td>0.3865</td>\n",
       "      <td>0.17080</td>\n",
       "      <td>0.3193</td>\n",
       "      <td>0.09221</td>\n",
       "      <td>0</td>\n",
       "    </tr>\n",
       "    <tr>\n",
       "      <th>145</th>\n",
       "      <td>11.90</td>\n",
       "      <td>14.65</td>\n",
       "      <td>78.11</td>\n",
       "      <td>432.8</td>\n",
       "      <td>0.11520</td>\n",
       "      <td>0.12960</td>\n",
       "      <td>0.03710</td>\n",
       "      <td>0.03003</td>\n",
       "      <td>0.1995</td>\n",
       "      <td>0.07839</td>\n",
       "      <td>...</td>\n",
       "      <td>16.51</td>\n",
       "      <td>86.26</td>\n",
       "      <td>509.6</td>\n",
       "      <td>0.1424</td>\n",
       "      <td>0.2517</td>\n",
       "      <td>0.0942</td>\n",
       "      <td>0.06042</td>\n",
       "      <td>0.2727</td>\n",
       "      <td>0.10360</td>\n",
       "      <td>1</td>\n",
       "    </tr>\n",
       "  </tbody>\n",
       "</table>\n",
       "<p>5 rows × 31 columns</p>\n",
       "</div>"
      ],
      "text/plain": [
       "     mean radius  mean texture  mean perimeter  mean area  mean smoothness  \\\n",
       "395        14.06         17.18           89.75      609.1          0.08045   \n",
       "393        21.61         22.28          144.40     1407.0          0.11670   \n",
       "381        11.04         14.93           70.67      372.7          0.07987   \n",
       "198        19.18         22.49          127.50     1148.0          0.08523   \n",
       "145        11.90         14.65           78.11      432.8          0.11520   \n",
       "\n",
       "     mean compactness  mean concavity  mean concave points  mean symmetry  \\\n",
       "395           0.05361         0.02681              0.03251         0.1641   \n",
       "393           0.20870         0.28100              0.15620         0.2162   \n",
       "381           0.07079         0.03546              0.02074         0.2003   \n",
       "198           0.14280         0.11140              0.06772         0.1767   \n",
       "145           0.12960         0.03710              0.03003         0.1995   \n",
       "\n",
       "     mean fractal dimension  ...  worst texture  worst perimeter  worst area  \\\n",
       "395                 0.05764  ...          25.34            96.42       684.5   \n",
       "393                 0.06606  ...          28.74           172.00      2081.0   \n",
       "381                 0.06246  ...          20.83            79.73       447.1   \n",
       "198                 0.05529  ...          32.06           166.40      1688.0   \n",
       "145                 0.07839  ...          16.51            86.26       509.6   \n",
       "\n",
       "     worst smoothness  worst compactness  worst concavity  \\\n",
       "395            0.1066             0.1231           0.0846   \n",
       "393            0.1502             0.5717           0.7053   \n",
       "381            0.1095             0.1982           0.1553   \n",
       "198            0.1322             0.5601           0.3865   \n",
       "145            0.1424             0.2517           0.0942   \n",
       "\n",
       "     worst concave points  worst symmetry  worst fractal dimension  target  \n",
       "395               0.07911          0.2523                  0.06609       1  \n",
       "393               0.24220          0.3828                  0.10070       0  \n",
       "381               0.06754          0.3202                  0.07287       1  \n",
       "198               0.17080          0.3193                  0.09221       0  \n",
       "145               0.06042          0.2727                  0.10360       1  \n",
       "\n",
       "[5 rows x 31 columns]"
      ]
     },
     "execution_count": 32,
     "metadata": {},
     "output_type": "execute_result"
    }
   ],
   "source": [
    "from sklearn.datasets import load_breast_cancer\n",
    "\n",
    "df = load_breast_cancer(as_frame=True)[\"frame\"]\n",
    "train_df, test_df = train_test_split(\n",
    "    df, random_state=0, test_size=0.5\n",
    ")\n",
    "train_df.head()"
   ]
  },
  {
   "cell_type": "code",
   "execution_count": 33,
   "id": "cb3e5d06",
   "metadata": {
    "editable": true,
    "slideshow": {
     "slide_type": "subslide"
    },
    "tags": []
   },
   "outputs": [
    {
     "data": {
      "text/plain": [
       "(284, 30)"
      ]
     },
     "execution_count": 33,
     "metadata": {},
     "output_type": "execute_result"
    }
   ],
   "source": [
    "X_train = train_df.drop(columns=[\"target\"])\n",
    "y_train = train_df[\"target\"]\n",
    "\n",
    "X_test = test_df.drop(columns=[\"target\"])\n",
    "y_test = test_df[\"target\"]\n",
    "\n",
    "X_train.shape"
   ]
  },
  {
   "cell_type": "code",
   "execution_count": 34,
   "id": "e94c4fe2-4a34-4834-880b-5885f07b6bea",
   "metadata": {
    "editable": true,
    "slideshow": {
     "slide_type": "slide"
    },
    "tags": []
   },
   "outputs": [
    {
     "data": {
      "text/plain": [
       "fit_time       0.002742\n",
       "score_time     0.000868\n",
       "test_score     0.968233\n",
       "train_score    0.987681\n",
       "dtype: float64"
      ]
     },
     "execution_count": 34,
     "metadata": {},
     "output_type": "execute_result"
    }
   ],
   "source": [
    "lr_l2_pipe = make_pipeline(StandardScaler(), LogisticRegression(max_iter=1000))\n",
    "pd.DataFrame(cross_validate(lr_l2_pipe, X_train, y_train, return_train_score=True)).mean()"
   ]
  },
  {
   "cell_type": "markdown",
   "id": "864600f0-14ed-466a-bd47-ec9f11b604cf",
   "metadata": {
    "editable": true,
    "slideshow": {
     "slide_type": "subslide"
    },
    "tags": []
   },
   "source": [
    "How could you use the coefficients for feature selection?"
   ]
  },
  {
   "cell_type": "code",
   "execution_count": 35,
   "id": "a02a2bba-8914-48c2-ab76-18e9d6d2e2ef",
   "metadata": {
    "editable": true,
    "slideshow": {
     "slide_type": ""
    },
    "tags": []
   },
   "outputs": [
    {
     "data": {
      "text/plain": [
       "mean radius               -0.226111\n",
       "mean texture              -0.549475\n",
       "mean perimeter            -0.221070\n",
       "mean area                 -0.292530\n",
       "mean smoothness           -0.068116\n",
       "mean compactness           0.197617\n",
       "mean concavity            -0.648555\n",
       "mean concave points       -0.851493\n",
       "mean symmetry             -0.444497\n",
       "mean fractal dimension     0.098324\n",
       "radius error              -1.317334\n",
       "texture error             -0.026222\n",
       "perimeter error           -0.862855\n",
       "area error                -0.749326\n",
       "smoothness error           0.327195\n",
       "compactness error          0.835563\n",
       "concavity error            0.018267\n",
       "concave points error      -0.308506\n",
       "symmetry error             0.135853\n",
       "fractal dimension error    0.876668\n",
       "worst radius              -0.799291\n",
       "worst texture             -0.682827\n",
       "worst perimeter           -0.625307\n",
       "worst area                -0.679874\n",
       "worst smoothness          -0.386772\n",
       "worst compactness         -0.047397\n",
       "worst concavity           -0.858240\n",
       "worst concave points      -1.092499\n",
       "worst symmetry            -0.356959\n",
       "worst fractal dimension   -0.445707\n",
       "dtype: float64"
      ]
     },
     "execution_count": 35,
     "metadata": {},
     "output_type": "execute_result"
    }
   ],
   "source": [
    "lr_l2_pipe.fit(X_train, y_train)\n",
    "pd.Series(lr_l2_pipe.named_steps[\"logisticregression\"].coef_[0], index=X_train.columns)"
   ]
  },
  {
   "cell_type": "code",
   "execution_count": 36,
   "id": "4bc1d729-3944-498d-9dc0-5bb75702e03a",
   "metadata": {
    "editable": true,
    "slideshow": {
     "slide_type": "subslide"
    },
    "tags": []
   },
   "outputs": [
    {
     "data": {
      "text/plain": [
       "concavity error            0.018267\n",
       "texture error              0.026222\n",
       "worst compactness          0.047397\n",
       "mean smoothness            0.068116\n",
       "mean fractal dimension     0.098324\n",
       "symmetry error             0.135853\n",
       "mean compactness           0.197617\n",
       "mean perimeter             0.221070\n",
       "mean radius                0.226111\n",
       "mean area                  0.292530\n",
       "concave points error       0.308506\n",
       "smoothness error           0.327195\n",
       "worst symmetry             0.356959\n",
       "worst smoothness           0.386772\n",
       "mean symmetry              0.444497\n",
       "worst fractal dimension    0.445707\n",
       "mean texture               0.549475\n",
       "worst perimeter            0.625307\n",
       "mean concavity             0.648555\n",
       "worst area                 0.679874\n",
       "worst texture              0.682827\n",
       "area error                 0.749326\n",
       "worst radius               0.799291\n",
       "compactness error          0.835563\n",
       "mean concave points        0.851493\n",
       "worst concavity            0.858240\n",
       "perimeter error            0.862855\n",
       "fractal dimension error    0.876668\n",
       "worst concave points       1.092499\n",
       "radius error               1.317334\n",
       "dtype: float64"
      ]
     },
     "execution_count": 36,
     "metadata": {},
     "output_type": "execute_result"
    }
   ],
   "source": [
    "lr_l2_pipe.fit(X_train, y_train)\n",
    "pd.Series(lr_l2_pipe.named_steps[\"logisticregression\"].coef_[0], index=X_train.columns).abs().sort_values()"
   ]
  },
  {
   "cell_type": "markdown",
   "id": "27619630-8ad0-4296-817b-aa1e71bc0e7c",
   "metadata": {
    "editable": true,
    "slideshow": {
     "slide_type": "subslide"
    },
    "tags": []
   },
   "source": [
    "### Linear models recap (Optional)\n",
    "\n",
    "- Recall that in linear regression our predictions are given by\n",
    "$$\\hat{y_i} = \\sum_j w_j x_{i j} + b$$\n",
    "\n",
    "- To estimate the coefficients $w_j$, linear regression tries to minimize the following equation\n",
    "$$ \\sum_i |\\hat{y_i} - y_i|^2$$\n",
    "that is the squared error between predicted and observed values."
   ]
  },
  {
   "cell_type": "markdown",
   "id": "93c865ac-9690-4eda-b181-e817d4450484",
   "metadata": {
    "editable": true,
    "slideshow": {
     "slide_type": "subslide"
    },
    "tags": []
   },
   "source": [
    "### Ridge regression (L2 penalty) (Optional) \n",
    "\n",
    "- In this course we have said to use Ridge instead of LinearRegression to avoid overfitting the coefficients\n",
    "\n",
    "- In Ridge regression we still predict values using $\\hat{y_i} = \\sum_j w_j x_{i j} + b$\n",
    "\n",
    "- But to estimate the coefficients we **minimize** a different equation\n",
    "<br>\n",
    "$$ \\sum_i |\\hat{y_i} - y_i|^2 + \\alpha \\sum_j |w_j|^2 $$\n",
    "\n",
    "- The term $\\sum_j |w_j|^2$ is a penalty which discourages large coefficients.\n",
    "\n",
    "- The strength of the penalty is controlled by $\\alpha$ which we have seen can be tuned using cross-validation."
   ]
  },
  {
   "cell_type": "markdown",
   "id": "9595a67c-f09e-452b-b3f4-cd6aaf12b823",
   "metadata": {
    "editable": true,
    "slideshow": {
     "slide_type": "subslide"
    },
    "tags": []
   },
   "source": [
    "### Lasso regression (L1 penalty) (Optional)\n",
    "\n",
    "- We can consider other penalties instead of $\\sum_j |w_j|^2$.\n",
    "  - But we still predict values using $\\hat{y_i} = \\sum_j w_j x_{i j} + b$\n",
    "\n",
    "- A very common choice of penalty to use the absolute value $\\sum_j |w_j|$\n",
    "  -  This called the L1 norm because the absolute value is to the power 1\n",
    "\n",
    "- To estimate the coefficients we **minimize**\n",
    "<br>\n",
    "$$ \\sum_i |\\hat{y_i} - y_i|^2 + \\alpha \\sum_j |w_j| $$\n",
    "\n",
    "- This is callled Lasso regression and is implemented in the `sklearn.linear_model.Lasso` class\n",
    " \n",
    "- An interesting feature of using the L1 penalty is that it will often set coefficients to zero!\n",
    "  - This can be considered a form of feature selection."
   ]
  },
  {
   "cell_type": "markdown",
   "id": "83d9904d-4146-4a49-8607-6c66c1e1bbda",
   "metadata": {
    "editable": true,
    "slideshow": {
     "slide_type": "subslide"
    },
    "tags": []
   },
   "source": [
    "### Logistic regression (L1 and L2) (Optional)\n",
    "\n",
    "- We have focused on linear regression so far, but the same ideas apply to LogisticRegression.\n",
    "\n",
    "- The two main differences:\n",
    "  1. We use a sigmoid for predicting i.e. $\\hat{y_i} = \\sigma(\\sum_j w_j x_{i j} + b)$\n",
    "  <br>\n",
    "  2. We replace $|\\hat{y_i} - y_i|^2$ with a different equation appropriate for classification.\n",
    " \n",
    "- By default scikit-learn uses an L2 penalty for LogisticRegression.\n",
    "  - You can change this using the `penalty` argument.\n",
    "  - You may have to also change the `solver` argument."
   ]
  },
  {
   "cell_type": "markdown",
   "id": "a460f174-76ba-4a9b-b51d-96c1b767c32e",
   "metadata": {
    "editable": true,
    "slideshow": {
     "slide_type": "subslide"
    },
    "tags": []
   },
   "source": [
    "### (Optional)"
   ]
  },
  {
   "cell_type": "code",
   "execution_count": 37,
   "id": "f03a0ba1-2970-469c-ba15-734c67f9d260",
   "metadata": {
    "editable": true,
    "slideshow": {
     "slide_type": ""
    },
    "tags": []
   },
   "outputs": [
    {
     "data": {
      "text/plain": [
       "fit_time       0.002410\n",
       "score_time     0.000774\n",
       "test_score     0.968233\n",
       "train_score    0.987681\n",
       "dtype: float64"
      ]
     },
     "execution_count": 37,
     "metadata": {},
     "output_type": "execute_result"
    }
   ],
   "source": [
    "lr_l2_pipe = make_pipeline(\n",
    "    StandardScaler(), \n",
    "    LogisticRegression(max_iter=1000)\n",
    ")\n",
    "pd.DataFrame(cross_validate(lr_l2_pipe, X_train, y_train, return_train_score=True)).mean()"
   ]
  },
  {
   "cell_type": "code",
   "execution_count": 38,
   "id": "0bf1dced-1d15-4da0-83a6-c96956bbc5c7",
   "metadata": {
    "editable": true,
    "slideshow": {
     "slide_type": "fragment"
    },
    "tags": []
   },
   "outputs": [
    {
     "data": {
      "text/plain": [
       "fit_time       0.001834\n",
       "score_time     0.000752\n",
       "test_score     0.971805\n",
       "train_score    0.986803\n",
       "dtype: float64"
      ]
     },
     "execution_count": 38,
     "metadata": {},
     "output_type": "execute_result"
    }
   ],
   "source": [
    "lr_l1_pipe = make_pipeline(\n",
    "    StandardScaler(),\n",
    "    LogisticRegression(max_iter=1000, penalty=\"l1\", solver=\"liblinear\")\n",
    ")\n",
    "pd.DataFrame(cross_validate(lr_l1_pipe, X_train, y_train, return_train_score=True)).mean()"
   ]
  },
  {
   "cell_type": "code",
   "execution_count": 39,
   "id": "54f5d9cc-0676-44e5-8c88-aa4f82b892bc",
   "metadata": {
    "editable": true,
    "slideshow": {
     "slide_type": "skip"
    },
    "tags": []
   },
   "outputs": [],
   "source": [
    "lr_l2_pipe.fit(X_train, y_train);"
   ]
  },
  {
   "cell_type": "code",
   "execution_count": 40,
   "id": "a96a804d-da2a-442b-b9a5-10fbdc8a29ba",
   "metadata": {
    "editable": true,
    "slideshow": {
     "slide_type": "subslide"
    },
    "tags": []
   },
   "outputs": [
    {
     "data": {
      "text/plain": [
       "mean radius                0.000000\n",
       "mean texture              -0.170928\n",
       "mean perimeter             0.000000\n",
       "mean area                  0.000000\n",
       "mean smoothness            0.000000\n",
       "mean compactness           0.000000\n",
       "mean concavity             0.000000\n",
       "mean concave points       -0.441947\n",
       "mean symmetry             -0.363758\n",
       "mean fractal dimension     0.000000\n",
       "radius error              -2.901975\n",
       "texture error              0.000000\n",
       "perimeter error            0.000000\n",
       "area error                 0.000000\n",
       "smoothness error           0.000000\n",
       "compactness error          0.600830\n",
       "concavity error            0.000000\n",
       "concave points error       0.000000\n",
       "symmetry error             0.000000\n",
       "fractal dimension error    0.768830\n",
       "worst radius              -2.234648\n",
       "worst texture             -1.020808\n",
       "worst perimeter            0.000000\n",
       "worst area                 0.000000\n",
       "worst smoothness           0.000000\n",
       "worst compactness          0.000000\n",
       "worst concavity           -1.253188\n",
       "worst concave points      -2.353957\n",
       "worst symmetry            -0.071447\n",
       "worst fractal dimension    0.000000\n",
       "dtype: float64"
      ]
     },
     "execution_count": 40,
     "metadata": {},
     "output_type": "execute_result"
    }
   ],
   "source": [
    "lr_l1_pipe.fit(X_train, y_train)\n",
    "pd.Series(lr_l1_pipe.named_steps[\"logisticregression\"].coef_[0], index=X_train.columns)"
   ]
  },
  {
   "cell_type": "code",
   "execution_count": 41,
   "id": "cfacd009-a5dd-4813-857d-2367433c597b",
   "metadata": {
    "editable": true,
    "slideshow": {
     "slide_type": "subslide"
    },
    "tags": []
   },
   "outputs": [
    {
     "name": "stdout",
     "output_type": "stream",
     "text": [
      "L1 logistic regression uses 11 features\n",
      "L2 logistic regression uses 30 features\n"
     ]
    }
   ],
   "source": [
    "print(\"L1 logistic regression uses {} features\".format(np.sum(lr_l1_pipe.named_steps[\"logisticregression\"].coef_ != 0)))\n",
    "print(\"L2 logistic regression uses {} features\".format(np.sum(lr_l2_pipe.named_steps[\"logisticregression\"].coef_ != 0)))"
   ]
  },
  {
   "cell_type": "markdown",
   "id": "f92a0046-b1e6-4237-bf9c-1d2c630ab86f",
   "metadata": {
    "editable": true,
    "slideshow": {
     "slide_type": "subslide"
    },
    "tags": []
   },
   "source": [
    "### L1 vs L2 penalty summary (Optional)\n",
    "\n",
    "- The L1 penalty will usually set some coefficients to zero\n",
    "- The L2 penalty will make coefficients smaller but rarely set them to zero\n",
    "- When correlated variables are present:\n",
    "  - L1 will usually keep one and set the other coefficients to zero\n",
    "  - L2 will usually shrink the coefficient of all of them\n",
    "- L1 and L2 penalties can be combined!\n",
    "  - This is called the **elastic net** penalty and is available in sklearn."
   ]
  },
  {
   "cell_type": "markdown",
   "id": "ccae9624",
   "metadata": {
    "editable": true,
    "slideshow": {
     "slide_type": "slide"
    },
    "tags": []
   },
   "source": [
    "### Model-based selection\n",
    "\n",
    "- Use a supervised machine learning model to judge the importance of each feature.\n",
    "- Keep only the most important once. \n",
    "- Supervised machine learning model used for feature selection can be different that the one used as the final estimator. \n",
    "- Use a model which has some way to calculate feature importances."
   ]
  },
  {
   "cell_type": "markdown",
   "id": "058c930b",
   "metadata": {
    "editable": true,
    "slideshow": {
     "slide_type": "subslide"
    },
    "tags": []
   },
   "source": [
    "- To use model-based selection, we use `SelectFromModel` transformer.\n",
    "- It selects features which have the feature importances greater than the provided threshold.\n",
    "- Below I'm using `RandomForestClassifier` for feature selection with threshold \"median\" of feature importances. \n",
    "- Approximately how many features will be selected? "
   ]
  },
  {
   "cell_type": "code",
   "execution_count": 42,
   "id": "92092d03",
   "metadata": {
    "editable": true,
    "slideshow": {
     "slide_type": ""
    },
    "tags": []
   },
   "outputs": [],
   "source": [
    "from sklearn.ensemble import RandomForestClassifier\n",
    "from sklearn.feature_selection import SelectFromModel\n",
    "\n",
    "select_rf = SelectFromModel(\n",
    "    RandomForestClassifier(n_estimators=100, random_state=42), \n",
    "    threshold=\"median\"\n",
    ")"
   ]
  },
  {
   "cell_type": "markdown",
   "id": "07232642",
   "metadata": {
    "editable": true,
    "slideshow": {
     "slide_type": "subslide"
    },
    "tags": []
   },
   "source": [
    "We can put the feature selection transformer in a pipeline. "
   ]
  },
  {
   "cell_type": "code",
   "execution_count": 43,
   "id": "3cbfa0f1",
   "metadata": {
    "editable": true,
    "slideshow": {
     "slide_type": "-"
    },
    "tags": []
   },
   "outputs": [
    {
     "data": {
      "text/plain": [
       "fit_time       0.080629\n",
       "score_time     0.005590\n",
       "test_score     0.950564\n",
       "train_score    0.974480\n",
       "dtype: float64"
      ]
     },
     "execution_count": 43,
     "metadata": {},
     "output_type": "execute_result"
    }
   ],
   "source": [
    "pipe_lr_model_based = make_pipeline(\n",
    "    StandardScaler(), select_rf, LogisticRegression(max_iter=1000)\n",
    ")\n",
    "\n",
    "pd.DataFrame(\n",
    "    cross_validate(pipe_lr_model_based, X_train, y_train, return_train_score=True)\n",
    ").mean()"
   ]
  },
  {
   "cell_type": "markdown",
   "id": "7e69caef",
   "metadata": {
    "editable": true,
    "slideshow": {
     "slide_type": "-"
    },
    "tags": []
   },
   "source": [
    "Note that RandomForest is doing the feature selction and LogisticRegression is doing the classification with the reduced set of features."
   ]
  },
  {
   "cell_type": "code",
   "execution_count": 44,
   "id": "1d7aef69",
   "metadata": {
    "editable": true,
    "slideshow": {
     "slide_type": "subslide"
    },
    "tags": []
   },
   "outputs": [
    {
     "data": {
      "text/plain": [
       "(284, 15)"
      ]
     },
     "execution_count": 44,
     "metadata": {},
     "output_type": "execute_result"
    }
   ],
   "source": [
    "pipe_lr_model_based.fit(X_train, y_train)\n",
    "pipe_lr_model_based.named_steps[\"selectfrommodel\"].transform(X_train.values).shape"
   ]
  },
  {
   "cell_type": "markdown",
   "id": "7b7c87e9",
   "metadata": {
    "editable": true,
    "slideshow": {
     "slide_type": "-"
    },
    "tags": []
   },
   "source": [
    "- Similar results with only 15 features instead of 30 features.\n",
    "- Interestingly L1 regularization does better with fewer features here but that will vary on other data."
   ]
  },
  {
   "cell_type": "markdown",
   "id": "e0636a23",
   "metadata": {
    "editable": true,
    "slideshow": {
     "slide_type": "subslide"
    },
    "tags": []
   },
   "source": [
    "Can we use KNN to select features?"
   ]
  },
  {
   "cell_type": "code",
   "execution_count": 45,
   "id": "f47dc940",
   "metadata": {
    "editable": true,
    "slideshow": {
     "slide_type": "-"
    },
    "tags": []
   },
   "outputs": [],
   "source": [
    "select_knn = SelectFromModel(\n",
    "    KNeighborsClassifier(), \n",
    "    threshold=\"median\"\n",
    ")\n",
    "\n",
    "pipe_lr_model_based = make_pipeline(\n",
    "    StandardScaler(), select_knn, LogisticRegression(max_iter=1000)\n",
    ")\n",
    "\n",
    "# This will raise an error!\n",
    "# pd.DataFrame(\n",
    "#    cross_validate(pipe_lr_model_based, X_train, y_train, return_train_score=True)#\n",
    "# ).mean()"
   ]
  },
  {
   "cell_type": "markdown",
   "id": "337281b6",
   "metadata": {
    "editable": true,
    "slideshow": {
     "slide_type": "fragment"
    },
    "tags": []
   },
   "source": [
    "**No** KNN won't work since it does not report feature importances."
   ]
  },
  {
   "cell_type": "markdown",
   "id": "71e13e8c",
   "metadata": {
    "slideshow": {
     "slide_type": "subslide"
    }
   },
   "source": [
    "What about SVC?"
   ]
  },
  {
   "cell_type": "code",
   "execution_count": 46,
   "id": "b96efb32",
   "metadata": {
    "editable": true,
    "slideshow": {
     "slide_type": "-"
    },
    "tags": []
   },
   "outputs": [
    {
     "data": {
      "text/plain": [
       "fit_time       0.003196\n",
       "score_time     0.000954\n",
       "test_score     0.975313\n",
       "train_score    0.987677\n",
       "dtype: float64"
      ]
     },
     "execution_count": 46,
     "metadata": {},
     "output_type": "execute_result"
    }
   ],
   "source": [
    "select_svc = SelectFromModel(\n",
    "    SVC(kernel=\"linear\"), threshold=\"median\"\n",
    ")\n",
    "\n",
    "pipe_lr_model_based = make_pipeline(\n",
    "    StandardScaler(), select_svc, LogisticRegression(max_iter=1000)\n",
    ")\n",
    "\n",
    "# This will raise an error with RBF kernel but linear works!\n",
    "pd.DataFrame(\n",
    "   cross_validate(pipe_lr_model_based, X_train, y_train, return_train_score=True)\n",
    ").mean()"
   ]
  },
  {
   "cell_type": "markdown",
   "id": "b06a91b1",
   "metadata": {
    "editable": true,
    "slideshow": {
     "slide_type": "fragment"
    },
    "tags": []
   },
   "source": [
    "Only with a linear kernel but not with RBF kernel"
   ]
  },
  {
   "cell_type": "markdown",
   "id": "7a6d2800",
   "metadata": {
    "editable": true,
    "slideshow": {
     "slide_type": "slide"
    },
    "tags": []
   },
   "source": [
    "### (iClicker) Exercise 14.2 \n",
    "\n",
    "**iClicker cloud join link: https://join.iclicker.com/HTRZ**\n",
    "\n",
    "**Select all of the following statements which are TRUE.**\n",
    "\n",
    "- (A) L2 regularized logistic regression sets correlated coefficients to zero *\n",
    "- (B) Lasso regression predicts values using $\\hat{y_i} = \\sum_j w_j x_{i j} + b$ *\n",
    "- (C) Lasso and Ridge regression optimize different measures of \"error\" between predicted and observe target values *\n",
    "- (D) KNN and SVM RBF can be used with SelectFromModel\n",
    "- (E) I saw way to much math today! *\n",
    "\n",
    "\\* Denotes optional details only covered in our section"
   ]
  },
  {
   "cell_type": "markdown",
   "id": "03ea58a3",
   "metadata": {
    "editable": true,
    "slideshow": {
     "slide_type": "slide"
    },
    "tags": []
   },
   "source": [
    "### Recursive feature elimination (RFE)\n",
    "\n",
    "- Build a series of models\n",
    "- At each iteration, discard the least important feature according to the model. \n",
    "- Computationally expensive\n",
    "- Basic idea\n",
    "    - fit model\n",
    "    - find least important feature\n",
    "    - remove\n",
    "    - iterate."
   ]
  },
  {
   "cell_type": "markdown",
   "id": "7b6bda3b",
   "metadata": {
    "slideshow": {
     "slide_type": "subslide"
    }
   },
   "source": [
    "### RFE algorithm \n",
    "\n",
    "1. Decide $k$, the number of features to select. \n",
    "2. Assign importances to features, e.g. by fitting a model and looking at `coef_` or `feature_importances_`.\n",
    "3. Remove the least important feature.\n",
    "4. Repeat steps 2-3 until only $k$ features are remaining.\n",
    "\n",
    "Note that this is **not** the same as just removing all the less important features in one shot!"
   ]
  },
  {
   "cell_type": "code",
   "execution_count": 47,
   "id": "84062000",
   "metadata": {
    "editable": true,
    "slideshow": {
     "slide_type": "subslide"
    },
    "tags": []
   },
   "outputs": [
    {
     "data": {
      "text/plain": [
       "array([16, 12, 19, 13, 23, 20, 10,  1,  9, 22,  2, 25,  5,  7, 15,  4, 26,\n",
       "       18, 21,  8,  1,  1,  1,  6, 14, 24,  3,  1, 17, 11])"
      ]
     },
     "execution_count": 47,
     "metadata": {},
     "output_type": "execute_result"
    }
   ],
   "source": [
    "from sklearn.feature_selection import RFE\n",
    "\n",
    "scaler = StandardScaler()\n",
    "X_train_scaled = scaler.fit_transform(X_train)\n",
    "\n",
    "# create ranking of features\n",
    "rfe = RFE(LogisticRegression(), n_features_to_select=5)\n",
    "rfe.fit(X_train_scaled, y_train)\n",
    "rfe.ranking_"
   ]
  },
  {
   "cell_type": "code",
   "execution_count": 48,
   "id": "e21e3c52",
   "metadata": {
    "editable": true,
    "slideshow": {
     "slide_type": "subslide"
    },
    "tags": []
   },
   "outputs": [
    {
     "name": "stdout",
     "output_type": "stream",
     "text": [
      "[False False False False False False False  True False False False False\n",
      " False False False False False False False False  True  True  True False\n",
      " False False False  True False False]\n"
     ]
    }
   ],
   "source": [
    "print(rfe.support_)"
   ]
  },
  {
   "cell_type": "code",
   "execution_count": 49,
   "id": "915d9262",
   "metadata": {
    "editable": true,
    "slideshow": {
     "slide_type": "-"
    },
    "tags": []
   },
   "outputs": [
    {
     "name": "stdout",
     "output_type": "stream",
     "text": [
      "selected features:  Index(['mean concave points', 'worst radius', 'worst texture',\n",
      "       'worst perimeter', 'worst concave points'],\n",
      "      dtype='object')\n"
     ]
    }
   ],
   "source": [
    "print(\"selected features: \", X_train.columns[rfe.support_])"
   ]
  },
  {
   "cell_type": "markdown",
   "id": "cec9879b",
   "metadata": {
    "editable": true,
    "slideshow": {
     "slide_type": "subslide"
    },
    "tags": []
   },
   "source": [
    "- How do we know what value to pass to `n_features_to_select`?"
   ]
  },
  {
   "cell_type": "markdown",
   "id": "27fb4f4a",
   "metadata": {
    "editable": true,
    "slideshow": {
     "slide_type": "fragment"
    },
    "tags": []
   },
   "source": [
    "- Use `RFECV` which uses cross-validation to select number of features."
   ]
  },
  {
   "cell_type": "markdown",
   "id": "79c11fbc",
   "metadata": {
    "editable": true,
    "slideshow": {
     "slide_type": "subslide"
    },
    "tags": []
   },
   "source": [
    "For illustration purposes"
   ]
  },
  {
   "cell_type": "code",
   "execution_count": 50,
   "id": "303588d4",
   "metadata": {
    "editable": true,
    "slideshow": {
     "slide_type": "-"
    },
    "tags": []
   },
   "outputs": [
    {
     "name": "stdout",
     "output_type": "stream",
     "text": [
      "[False  True False  True False False  True  True  True False  True False\n",
      "  True  True False  True False False False  True  True  True  True  True\n",
      " False False  True  True False  True]\n",
      "Index(['mean texture', 'mean area', 'mean concavity', 'mean concave points',\n",
      "       'mean symmetry', 'radius error', 'perimeter error', 'area error',\n",
      "       'compactness error', 'fractal dimension error', 'worst radius',\n",
      "       'worst texture', 'worst perimeter', 'worst area', 'worst concavity',\n",
      "       'worst concave points', 'worst fractal dimension'],\n",
      "      dtype='object')\n"
     ]
    }
   ],
   "source": [
    "from sklearn.feature_selection import RFECV\n",
    "\n",
    "rfe_cv = RFECV(LogisticRegression(max_iter=2000), cv=10)\n",
    "rfe_cv.fit(X_train_scaled, y_train)\n",
    "print(rfe_cv.support_)\n",
    "print(X_train.columns[rfe_cv.support_])"
   ]
  },
  {
   "cell_type": "markdown",
   "id": "cbbb4952",
   "metadata": {
    "editable": true,
    "slideshow": {
     "slide_type": "subslide"
    },
    "tags": []
   },
   "source": [
    "But we should really use pipelines"
   ]
  },
  {
   "cell_type": "code",
   "execution_count": 51,
   "id": "228f488a",
   "metadata": {
    "editable": true,
    "slideshow": {
     "slide_type": "-"
    },
    "tags": []
   },
   "outputs": [
    {
     "data": {
      "text/plain": [
       "fit_time       0.452765\n",
       "score_time     0.003247\n",
       "test_score     0.943609\n",
       "train_score    1.000000\n",
       "dtype: float64"
      ]
     },
     "execution_count": 51,
     "metadata": {},
     "output_type": "execute_result"
    }
   ],
   "source": [
    "rfe_pipe = make_pipeline(\n",
    "    StandardScaler(),\n",
    "    RFECV(LogisticRegression(max_iter=2000), cv=10),\n",
    "    RandomForestClassifier(n_estimators=100, random_state=42),\n",
    ")\n",
    "\n",
    "pd.DataFrame(cross_validate(rfe_pipe, X_train, y_train, return_train_score=True)).mean()"
   ]
  },
  {
   "cell_type": "markdown",
   "id": "59c8c125",
   "metadata": {
    "editable": true,
    "slideshow": {
     "slide_type": "subslide"
    },
    "tags": []
   },
   "source": [
    "- Slow because there is cross validation within cross validation \n",
    "- Not a big improvement in scores compared to all features on this toy case"
   ]
  },
  {
   "cell_type": "markdown",
   "id": "676518c2",
   "metadata": {
    "editable": true,
    "slideshow": {
     "slide_type": "slide"
    },
    "tags": []
   },
   "source": [
    "### (Optional) Search and score\n",
    "\n",
    "- Define a **scoring function** $f(S)$ that measures the quality of the set of features $S$. \n",
    "- Now **search** for the set of features $S$ with the best score."
   ]
  },
  {
   "cell_type": "markdown",
   "id": "4e2140a2",
   "metadata": {
    "editable": true,
    "slideshow": {
     "slide_type": "subslide"
    },
    "tags": []
   },
   "source": [
    "### General idea of search and score methods \n",
    "\n",
    "- Example: Suppose you have three features: $A, B, C$\n",
    "    - Compute **score** for $S = \\{\\}$\n",
    "    - Compute **score** for $S = \\{A\\}$\n",
    "    - Compute **score** for $S= \\{B\\}$\n",
    "    - Compute **score** for $S = \\{C\\}$\n",
    "    - Compute **score** for $S = \\{A,B\\}$    \n",
    "    - Compute **score** for $S = \\{A,C\\}$\n",
    "    - Compute **score** for $S = \\{B,C\\}$\n",
    "    - Compute **score** for $S = \\{A,B,C\\}$    \n",
    "- Return $S$ with the best score.  \n",
    "- How many distinct combinations do we have to try out? "
   ]
  },
  {
   "cell_type": "markdown",
   "id": "d78ef3fb",
   "metadata": {
    "editable": true,
    "slideshow": {
     "slide_type": "subslide"
    },
    "tags": []
   },
   "source": [
    "### (Optional) Forward or backward selection \n",
    "\n",
    "- Also called wrapper methods\n",
    "- Shrink or grow feature set by removing or adding one feature at a time \n",
    "- Makes the decision based on whether adding/removing the feature improves the CV score or not"
   ]
  },
  {
   "cell_type": "markdown",
   "id": "0329e5c0",
   "metadata": {
    "editable": true,
    "slideshow": {
     "slide_type": "subslide"
    },
    "tags": []
   },
   "source": [
    "![](../img/forward_selection.png)\n",
    "\n",
    "<!-- <img src='img/forward_selection.png' width=\"1000\" height=\"1000\" /> -->"
   ]
  },
  {
   "cell_type": "code",
   "execution_count": 52,
   "id": "6e75b264",
   "metadata": {
    "editable": true,
    "slideshow": {
     "slide_type": "subslide"
    },
    "tags": []
   },
   "outputs": [
    {
     "data": {
      "text/plain": [
       "fit_time       2.713733\n",
       "score_time     0.003326\n",
       "test_score     0.933020\n",
       "train_score    1.000000\n",
       "dtype: float64"
      ]
     },
     "execution_count": 52,
     "metadata": {},
     "output_type": "execute_result"
    }
   ],
   "source": [
    "from sklearn.feature_selection import SequentialFeatureSelector\n",
    "\n",
    "pipe_forward = make_pipeline(\n",
    "    StandardScaler(),\n",
    "    SequentialFeatureSelector(LogisticRegression(max_iter=1000), \n",
    "                              direction=\"forward\", \n",
    "                              n_features_to_select='auto', \n",
    "                              tol=None),\n",
    "    RandomForestClassifier(n_estimators=100, random_state=42),\n",
    ")\n",
    "pd.DataFrame(\n",
    "    cross_validate(pipe_forward, X_train, y_train, return_train_score=True)\n",
    ").mean()"
   ]
  },
  {
   "cell_type": "code",
   "execution_count": 53,
   "id": "2809fe52",
   "metadata": {
    "editable": true,
    "slideshow": {
     "slide_type": "subslide"
    },
    "tags": []
   },
   "outputs": [
    {
     "data": {
      "text/plain": [
       "fit_time       2.821208\n",
       "score_time     0.003221\n",
       "test_score     0.950627\n",
       "train_score    1.000000\n",
       "dtype: float64"
      ]
     },
     "execution_count": 53,
     "metadata": {},
     "output_type": "execute_result"
    }
   ],
   "source": [
    "pipe_forward = make_pipeline(\n",
    "    StandardScaler(),\n",
    "    SequentialFeatureSelector(\n",
    "        LogisticRegression(max_iter=1000), \n",
    "                           direction=\"backward\", \n",
    "                           n_features_to_select=15),\n",
    "    RandomForestClassifier(n_estimators=100, random_state=42),\n",
    ")\n",
    "pd.DataFrame(\n",
    "    cross_validate(pipe_forward, X_train, y_train, return_train_score=True)\n",
    ").mean()"
   ]
  },
  {
   "cell_type": "markdown",
   "id": "b206582b",
   "metadata": {
    "editable": true,
    "slideshow": {
     "slide_type": "subslide"
    },
    "tags": []
   },
   "source": [
    "### Other ways to search \n",
    "\n",
    "- Stochastic local search\n",
    "    - Inject randomness so that we can explore new parts of the search space\n",
    "    - Simulated annealing\n",
    "    - Genetic algorithms"
   ]
  },
  {
   "cell_type": "markdown",
   "id": "0cd69ead",
   "metadata": {
    "editable": true,
    "slideshow": {
     "slide_type": "slide"
    },
    "tags": []
   },
   "source": [
    "### (iClicker) Exercise 14.3 \n",
    "\n",
    "**iClicker cloud join link: https://join.iclicker.com/HTRZ**\n",
    "\n",
    "**Select all of the following statements which are TRUE.**\n",
    "\n",
    "- (A) Simple association-based feature selection approaches do not take into account the interaction between features.\n",
    "- (B) You can carry out feature selection using linear models by pruning the features which have very small weights (i.e., coefficients less than a threshold).\n",
    "- (C) The order of features removed given by `rfe.ranking_` is the same as the order of original feature importances given by the model.\n",
    "- (D) If you remove 10 features in a single step based on feature importance, the same 10 features would be removed if we performed sequential removal calculating feature importance after removing each feature.\n",
    "- (E) Forward search is guaranteed to find the best feature set. *\n",
    "\n",
    "\\* Denotes optional question"
   ]
  },
  {
   "cell_type": "markdown",
   "id": "adc3fd45",
   "metadata": {
    "editable": true,
    "slideshow": {
     "slide_type": "slide"
    },
    "tags": []
   },
   "source": [
    "## (Optional) Problems with feature selection \n",
    "\n",
    "- The term 'relevance' is not clearly defined.\n",
    "- What all things can go wrong with feature selection?\n",
    "- Attribution: From CPSC 340. "
   ]
  },
  {
   "cell_type": "markdown",
   "id": "68b0cec7",
   "metadata": {
    "editable": true,
    "slideshow": {
     "slide_type": "subslide"
    },
    "tags": []
   },
   "source": [
    "### Example: Is \"Relevance\" clearly defined?\n",
    "\n",
    "- Consider a supervised classification task of predicting whether someone has particular genetic variation (SNP)\n",
    "\n",
    "<img src='../img/sex_mom_dad.png' width=\"600\" height=\"600\" />\n",
    "\n",
    "- True model: You almost have the same value as your biological mom."
   ]
  },
  {
   "cell_type": "markdown",
   "id": "96eb0d53",
   "metadata": {
    "editable": true,
    "slideshow": {
     "slide_type": "subslide"
    },
    "tags": []
   },
   "source": [
    "### Is \"Relevance\" clearly defined?\n",
    "\n",
    "- True model: You almost have the same value for SNP as your biological mom.\n",
    "    - (SNP = biological mom) with very high probability \n",
    "    - (SNP != biological mom) with very low probability \n",
    "    \n",
    "\n",
    "<img src='../img/SNP.png' width=\"400\" height=\"400\"/>\n"
   ]
  },
  {
   "cell_type": "markdown",
   "id": "d07157fb",
   "metadata": {
    "editable": true,
    "slideshow": {
     "slide_type": "subslide"
    },
    "tags": []
   },
   "source": [
    "#### Is \"Relevance\" clearly defined?\n",
    "\n",
    "- What if \"mom\" feature is repeated?\n",
    "- Should we pick both? Should we pick one of them because it predicts the other? \n",
    "- Dependence, collinearity for linear models\n",
    "    - If a feature can be predicted from the other, don't know which one to pick. \n",
    "\n",
    "<img src='../img/sex_mom_mom2_dad.png' width=\"600\" height=\"600\"/>\n"
   ]
  },
  {
   "cell_type": "markdown",
   "id": "92526ad5",
   "metadata": {
    "editable": true,
    "slideshow": {
     "slide_type": "subslide"
    },
    "tags": []
   },
   "source": [
    "### Is \"Relevance\" clearly defined?\n",
    "\n",
    "- What if we add (maternal) \"grandma\" feature?\n",
    "- Is it relevant? \n",
    "    - We can predict SNP accurately using this feature\n",
    "- Conditional independence\n",
    "    - But grandma is irrelevant given biological mom feature\n",
    "    - Relevant features may become irrelevant given other features\n",
    "\n",
    "<img src='../img/sex_mom_dad_grandma.png' width=\"600\" height=\"600\"/>\n"
   ]
  },
  {
   "cell_type": "markdown",
   "id": "0a492e6c",
   "metadata": {
    "editable": true,
    "slideshow": {
     "slide_type": "subslide"
    },
    "tags": []
   },
   "source": [
    "### Is \"Relevance\" clearly defined?\n",
    "\n",
    "- What if we do not know biological mom feature and we just have grandma feature\n",
    "- It becomes relevant now. \n",
    "    - Without mom feature this is the best we can do. \n",
    "- General problem (\"taco Tuesday\" problem)\n",
    "    - Features can become relevant due to missing information \n",
    "\n",
    "\n",
    "<img src='../img/sex_dad_grandma.png' width=\"600\" height=\"600\"/>\n"
   ]
  },
  {
   "cell_type": "markdown",
   "id": "2f917310",
   "metadata": {
    "editable": true,
    "slideshow": {
     "slide_type": "subslide"
    },
    "tags": []
   },
   "source": [
    "### Is \"Relevance\" clearly defined?\n",
    "\n",
    "- Are there any relevant features now?\n",
    "- They may have some common maternal ancestor.   \n",
    "- What if mom likes dad because they share SNP? \n",
    "- General problem (Confounding)\n",
    "    - Hidden features can make irrelevant features relevant.\n",
    "\n",
    "<img src='../img/sex_dad.png' width=\"600\" height=\"600\"/>\n"
   ]
  },
  {
   "cell_type": "markdown",
   "id": "bc83420a",
   "metadata": {
    "editable": true,
    "slideshow": {
     "slide_type": "subslide"
    },
    "tags": []
   },
   "source": [
    "### Is \"Relevance\" clearly defined?\n",
    "\n",
    "- Now what if we have \"sibling\" feature? \n",
    "- The feature is relevant in predicting SNP but not the cause of SNP. \n",
    "- General problem (non causality)\n",
    "    - the relevant feature may not be causal \n",
    "\n",
    "<img src='../img/sex_dad_sibling.png' width=\"600\" height=\"600\"/>\n"
   ]
  },
  {
   "cell_type": "markdown",
   "id": "c78f82d7",
   "metadata": {
    "editable": true,
    "slideshow": {
     "slide_type": "subslide"
    },
    "tags": []
   },
   "source": [
    "### Is \"Relevance\" clearly defined?\n",
    "\n",
    "- What if you are given \"baby\" feature?\n",
    "- Now the sex feature becomes relevant. \n",
    "    - \"baby\" feature is relevant when sex == F\n",
    "    \n",
    "- General problem (context specific relevance)\n",
    "    - adding a feature can make an irrelevant feature relevant\n",
    "\n",
    "<img src='../img/sex_dad_baby.png' width=\"600\" height=\"600\"/>\n"
   ]
  },
  {
   "cell_type": "markdown",
   "id": "e1426ef8",
   "metadata": {
    "editable": true,
    "slideshow": {
     "slide_type": "slide"
    },
    "tags": []
   },
   "source": [
    "### Warnings about feature selection \n",
    "\n",
    "- A feature is only relevant in the context of other features.\n",
    "    - Adding/removing features can make features relevant/irrelevant.\n",
    "- Confounding factors can make irrelevant features the most relevant.\n",
    "- If features can be predicted from other other features, you cannot know which one to pick. \n",
    "- Relevance for features does not have a causal relationship. \n",
    "- Is feature selection completely hopeless?\n",
    "    - It is messy but we still need to do it. So we try to do our best! "
   ]
  },
  {
   "cell_type": "markdown",
   "id": "bb2a4183-b05e-43b4-8940-053bab1353d5",
   "metadata": {
    "editable": true,
    "slideshow": {
     "slide_type": "subslide"
    },
    "tags": []
   },
   "source": [
    "### General advice on finding relevant features\n",
    "\n",
    "- Try forward selection. \n",
    "- Try other feature selection methods (e.g., `RFE`, simulated annealing, genetic algorithms)\n",
    "- Try LASSO **(Not part of course, but useful in real life)**\n",
    "- Talk to domain experts; they probably have an idea why certain features are relevant.\n",
    "- Don't be overconfident. \n",
    "    - The methods we have seen probably do not discover the ground truth and how the world really works.\n",
    "    - They simply tell you which features help in predicting $y_i$."
   ]
  },
  {
   "cell_type": "markdown",
   "id": "c34d6cd8",
   "metadata": {
    "editable": true,
    "slideshow": {
     "slide_type": "slide"
    },
    "tags": []
   },
   "source": [
    "#### Relevant resources \n",
    "- [Genome-wide association study](https://en.wikipedia.org/wiki/Genome-wide_association_study)\n",
    "- [sklearn feature selection](https://scikit-learn.org/stable/modules/feature_selection.html)\n",
    "- [PyData: A Practical Guide to Dimensionality Reduction Techniques](https://www.youtube.com/watch?v=ioXKxulmwVQ)"
   ]
  }
 ],
 "metadata": {
  "celltoolbar": "Slideshow",
  "kernelspec": {
   "display_name": "Python [conda env:cpsc330]",
   "language": "python",
   "name": "conda-env-cpsc330-py"
  },
  "language_info": {
   "codemirror_mode": {
    "name": "ipython",
    "version": 3
   },
   "file_extension": ".py",
   "mimetype": "text/x-python",
   "name": "python",
   "nbconvert_exporter": "python",
   "pygments_lexer": "ipython3",
   "version": "3.12.0"
  }
 },
 "nbformat": 4,
 "nbformat_minor": 5
}
