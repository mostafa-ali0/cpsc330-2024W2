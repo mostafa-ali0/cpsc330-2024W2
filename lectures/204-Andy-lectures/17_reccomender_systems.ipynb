{
 "cells": [
  {
   "cell_type": "code",
   "execution_count": 1,
   "id": "7aaa38ae-5168-41a8-91bc-13db6a25c976",
   "metadata": {
    "editable": true,
    "slideshow": {
     "slide_type": "skip"
    },
    "tags": []
   },
   "outputs": [
    {
     "data": {
      "image/png": "[encoded data removed]",
      "text/plain": [
       "<Figure size 640x480 with 2 Axes>"
      ]
     },
     "metadata": {},
     "output_type": "display_data"
    }
   ],
   "source": [
    "import os\n",
    "import random\n",
    "import sys\n",
    "import time\n",
    "\n",
    "import numpy as np\n",
    "sys.path.append(os.path.join(os.path.abspath(\"..\"), \"code\"))\n",
    "\n",
    "import matplotlib.pyplot as plt\n",
    "from plotting_functions import *\n",
    "from plotting_functions_unsup import *\n",
    "from sklearn.decomposition import PCA\n",
    "from sklearn.model_selection import cross_validate, train_test_split\n",
    "from sklearn.preprocessing import StandardScaler\n",
    "\n",
    "plt.rcParams[\"font.size\"] = 16\n",
    "import matplotlib.cm as cm\n",
    "\n",
    "# plt.style.use(\"seaborn\")\n",
    "%matplotlib inline\n",
    "pd.set_option(\"display.max_colwidth\", 0)"
   ]
  },
  {
   "cell_type": "markdown",
   "id": "76937efa",
   "metadata": {
    "editable": true,
    "slideshow": {
     "slide_type": "slide"
    },
    "tags": []
   },
   "source": [
    "# Lecture 17: Recommender Systems\n",
    "\n",
    "UBC 2025\n",
    "\n",
    "Instructor: Andrew Roth"
   ]
  },
  {
   "cell_type": "markdown",
   "id": "32504dd7",
   "metadata": {
    "editable": true,
    "slideshow": {
     "slide_type": "subslide"
    },
    "tags": []
   },
   "source": [
    "## Learning outcomes <a name=\"lo\"></a>\n",
    "\n",
    "From this lecture, students are expected to be able to:\n",
    "\n",
    "- State the problem of recommender systems. \n",
    "- Describe components of a utility matrix. \n",
    "- Create a utility matrix given ratings data. \n",
    "- Describe a common approach to evaluate recommender systems. \n",
    "- Implement some baseline approaches to complete the utility matrix. \n",
    "- Explain the idea of collaborative filtering.\n",
    "- Formulate the rating prediction problem as a supervised machine learning problem. \n",
    "- Create a content-based filter given ratings data and item features to predict missing ratings in the utility matrix.  \n",
    "- Explain some serious consequences of recommendation systems."
   ]
  },
  {
   "cell_type": "markdown",
   "id": "3abbbe6d",
   "metadata": {
    "editable": true,
    "slideshow": {
     "slide_type": "slide"
    },
    "tags": []
   },
   "source": [
    "## Recommender systems motivation"
   ]
  },
  {
   "cell_type": "markdown",
   "id": "05e10f91-b770-4dff-a4ad-0f97fb7d3b03",
   "metadata": {
    "editable": true,
    "slideshow": {
     "slide_type": ""
    },
    "tags": []
   },
   "source": [
    "## ❓❓ Questions for you\n",
    "\n",
    "What percentage of watch time on YouTube do you think comes from recommendations?\n",
    "- (A) 50%\n",
    "- (B) 60%\n",
    "- (C) 20%\n",
    "- (D) 90%"
   ]
  },
  {
   "cell_type": "markdown",
   "id": "76144526-2fe7-4c8c-b9e0-591a79d4ad07",
   "metadata": {
    "editable": true,
    "slideshow": {
     "slide_type": "fragment"
    },
    "tags": []
   },
   "source": [
    "This [source](https://developers.google.com/machine-learning/recommendation/overview) says 60%. But the statistics might have changed now. "
   ]
  },
  {
   "cell_type": "markdown",
   "id": "b4d3df35",
   "metadata": {
    "editable": true,
    "slideshow": {
     "slide_type": "subslide"
    },
    "tags": []
   },
   "source": [
    "### What is a recommender system? \n",
    "\n",
    "- A recommender or a recommendation system **recommends** a particular product or service to users they are likely to consume. \n",
    "\n",
    "<img src=\"../img/recommendation_system.png\" alt=\"\" height=\"900\" width=\"900\">\n"
   ]
  },
  {
   "cell_type": "markdown",
   "id": "8a72b5c4",
   "metadata": {
    "editable": true,
    "slideshow": {
     "slide_type": "subslide"
    },
    "tags": []
   },
   "source": [
    "### Example: Recommender Systems\n",
    "- A client goes to Amazon to buy products. \n",
    "- Amazon has some information about the client. They also have information about other clients buying similar products. \n",
    "- What should they recommend to the client, so that they buy more products? \n",
    "- There's no \"right\" answer (no label). \n",
    "- The whole idea is to understand user behavior in order to recommend them products they are likely to consume. "
   ]
  },
  {
   "cell_type": "markdown",
   "id": "34c6f15c",
   "metadata": {
    "editable": true,
    "slideshow": {
     "slide_type": "subslide"
    },
    "tags": []
   },
   "source": [
    "### Why should we care about recommendation systems? \n",
    "\n",
    "- Almost everything we buy or consume today is in some way or the other influenced by recommendation systems. \n",
    "    - Music (Spotify), videos (YouTube), news, books and products (Amazon), movies (Netflix), jokes, restaurants, dating , friends (Facebook), professional connections (Linkedin)\n",
    "- Recommendation systems are at the core of the success of many companies. \n",
    "    - Amazon\n",
    "    - [Netflix](https://help.netflix.com/en/node/100639)\n",
    "\n",
    "- Recommendation systems are often presented as powerful tools that significantly **reduce the effort users need to put in finding items**, effectively mitigating the problem of information overload.\n",
    "\n",
    "- This is more or less true in many contexts. Consider, for instance, the experience of shopping an umbrella on Amazon without the help of recommendations or any specific ranking of products.\n",
    "  \n",
    "- In the absence of a recommendation system, users would be faced with the daunting task of sifting through thousands of available products to find the one that best suits their needs.\n",
    "\n",
    "![](../img/info-overload.png)- "
   ]
  },
  {
   "cell_type": "markdown",
   "id": "cf6246ea-5b2e-4455-9f29-d2cfa3891795",
   "metadata": {
    "editable": true,
    "slideshow": {
     "slide_type": "subslide"
    },
    "tags": []
   },
   "source": [
    "### Why should we care about recommendation systems? \n",
    "\n",
    "- That said, we should always be mindful of the drawbacks of relying heavily on recommender systems.\n",
    "  \n",
    "- For example, these systems tend to recommend articles and products that are similar to those a user has previously interacted with or those their friends like.\n",
    "  \n",
    "- While this can improve user experience by presenting more of what the system predicts the user will like, it can also lead to a phenomenon known as **\"filter bubbles\"**.\n",
    "- This effect **narrows a user's exposure to diverse viewpoints and information**. Such a narrowing of perspective can be detrimental, particularly in the context of scientific research or political discourse, where exposure to a wide range of perspectives is crucial. "
   ]
  },
  {
   "cell_type": "markdown",
   "id": "863bc850",
   "metadata": {
    "editable": true,
    "slideshow": {
     "slide_type": "slide"
    },
    "tags": []
   },
   "source": [
    "### What kind of data we need to build recommendation systems? \n",
    "\n",
    "- **User ratings data** (most common)\n",
    "- **Features related to items or users** \n",
    "- Customer purchase history data"
   ]
  },
  {
   "cell_type": "markdown",
   "id": "ae1f6fcb",
   "metadata": {
    "editable": true,
    "slideshow": {
     "slide_type": "subslide"
    },
    "tags": []
   },
   "source": [
    "### Main approaches\n",
    "\n",
    "- **Collaborative filtering** (KNNImputer is a simple version)\n",
    "    - \"Unsupervised\" learning \n",
    "    - We only have labels $y_{ij}$ (rating of user $i$ for item $j$). \n",
    "    - We learn features.  \n",
    "- **Content-based recommenders** (today's main focus)\n",
    "    - Supervised learning\n",
    "    - Extract features $x_i$ of users and/or items and building a model to predict rating $y_i$ given $x_i$. \n",
    "    - Apply model to predict for new users/items. \n",
    "- Hybrid \n",
    "    - Combining collaborative filtering with content-based filtering"
   ]
  },
  {
   "cell_type": "markdown",
   "id": "d74909be",
   "metadata": {
    "editable": true,
    "slideshow": {
     "slide_type": "slide"
    },
    "tags": []
   },
   "source": [
    "## Recommender systems problem "
   ]
  },
  {
   "cell_type": "markdown",
   "id": "33264661",
   "metadata": {
    "editable": true,
    "slideshow": {
     "slide_type": "-"
    },
    "tags": []
   },
   "source": [
    "### Problem formulation\n",
    "\n",
    "- Most often the data for recommender systems come in as **ratings** for a set of items from a set of users. \n",
    "- We have two entities: $N$ **users** and $M$ **items**. \n",
    "- **Users** are consumers. \n",
    "- **Items** are the products or services offered.  \n",
    "    - E.g., movies (Netflix), books (Amazon), songs (spotify), people (tinder)  \n",
    "    \n",
    "<img src=\"../img/utility_matrix.png\" alt=\"\" height=\"900\" width=\"900\">"
   ]
  },
  {
   "cell_type": "markdown",
   "id": "86fc53c4",
   "metadata": {
    "editable": true,
    "slideshow": {
     "slide_type": "subslide"
    },
    "tags": []
   },
   "source": [
    "### Utility matrix \n",
    "\n",
    "- A **utility matrix** is the matrix that captures **interactions** between $N$ **users** and $M$ **items**. \n",
    "- The interaction may come in different forms: \n",
    "    - ratings, clicks, purchases\n",
    "\n",
    "<img src=\"../img/utility_matrix.png\" alt=\"\" height=\"900\" width=\"900\">"
   ]
  },
  {
   "cell_type": "markdown",
   "id": "c3966925",
   "metadata": {
    "editable": true,
    "slideshow": {
     "slide_type": "subslide"
    },
    "tags": []
   },
   "source": [
    "### Utility matrix\n",
    "\n",
    "- Below is a toy utility matrix. Here $N$ = 6 and $M$ = 5.  \n",
    "- Each entry $y_{ij}$ ($i^{th}$ row and $j^{th}$ column) denotes the rating given by the user $i$ to item $j$. \n",
    "- We represent users in terms of items and items in terms of users. \n",
    "\n",
    "<img src=\"../img/utility_matrix.png\" alt=\"\" height=\"900\" width=\"900\">"
   ]
  },
  {
   "cell_type": "markdown",
   "id": "b378c935",
   "metadata": {
    "editable": true,
    "slideshow": {
     "slide_type": "subslide"
    },
    "tags": []
   },
   "source": [
    "### Sparsity of utility matrix\n",
    "\n",
    "- The utility matrix is very sparse because usually users only interact with a few items. \n",
    "- For example: \n",
    "    - all Netflix users will have rated only a small percentage of content available on Netflix\n",
    "    - all amazon clients will have rated only a small fraction of items among all items available on Amazon"
   ]
  },
  {
   "cell_type": "markdown",
   "id": "78998543",
   "metadata": {
    "editable": true,
    "slideshow": {
     "slide_type": "subslide"
    },
    "tags": []
   },
   "source": [
    "### What do we predict? \n",
    "Given a utility matrix of $N$ users and $M$ items, **complete the utility matrix**. In other words, **predict missing values in the matrix**. \n",
    "\n",
    "<img src=\"../img/utility_matrix.png\" alt=\"\" height=\"900\" width=\"900\">"
   ]
  },
  {
   "cell_type": "markdown",
   "id": "83275e7a-7e09-4dc9-a448-7640ba82e855",
   "metadata": {
    "editable": true,
    "slideshow": {
     "slide_type": "fragment"
    },
    "tags": []
   },
   "source": [
    "- Once we have predicted ratings, we can recommend items to users they are likely to rate higher.\n",
    "- Note: rating prediction $\\neq$ Classification or regression"
   ]
  },
  {
   "cell_type": "markdown",
   "id": "336f5cc4-898b-4d3d-80fa-000fa920260c",
   "metadata": {
    "editable": true,
    "slideshow": {
     "slide_type": "subslide"
    },
    "tags": []
   },
   "source": [
    "### In classification or regression:\n",
    "- We have $X$ and targets for some rows in $X$. \n",
    "- We want to predict the last column (target column).  \n",
    "\n",
    "$$\n",
    "\\begin{bmatrix} \n",
    "\\checkmark & \\checkmark & \\checkmark  & \\checkmark & \\checkmark\\\\\n",
    "\\checkmark & \\checkmark & \\checkmark  & \\checkmark & \\checkmark\\\\\n",
    "\\checkmark & \\checkmark & \\checkmark  & \\checkmark & \\checkmark\\\\\n",
    "\\checkmark & \\checkmark & \\checkmark  & \\checkmark & ?\\\\\n",
    "\\checkmark & \\checkmark & \\checkmark  & \\checkmark & ?\\\\\n",
    "\\checkmark & \\checkmark & \\checkmark  & \\checkmark & ?\\\\\n",
    "\\end{bmatrix}\n",
    "$$"
   ]
  },
  {
   "cell_type": "markdown",
   "id": "3e06fe6a-e797-4f79-ab50-e82c5f8c309e",
   "metadata": {
    "editable": true,
    "slideshow": {
     "slide_type": "subslide"
    },
    "tags": []
   },
   "source": [
    "## In rating prediction\n",
    "\n",
    "- Ratings data has many missing values in the utility matrix. There is no special target column. We want to predict the missing entries in the matrix. \n",
    "- Since our goal is to **predict** ratings, usually the utility matrix is referred to as $Y$ matrix. \n",
    "\n",
    "$$\n",
    "\\begin{bmatrix} \n",
    "? & ? & \\checkmark  & ? & \\checkmark\\\\\n",
    "\\checkmark & ? & ?  & ? & ?\\\\\n",
    "? & \\checkmark & \\checkmark  & ? & \\checkmark\\\\\n",
    "? & ? & ?  & ? & ?\\\\\n",
    "? & ? & ? & \\checkmark & ?\\\\\n",
    "? & \\checkmark & \\checkmark  & ? & \\checkmark\n",
    "\\end{bmatrix}\n",
    "$$\n"
   ]
  },
  {
   "cell_type": "markdown",
   "id": "7adcffb4-cde5-4aa5-95f8-7287d31e8f0e",
   "metadata": {
    "editable": true,
    "slideshow": {
     "slide_type": "slide"
    },
    "tags": []
   },
   "source": [
    "## Creating utility matrix\n",
    "\n",
    "Let's work with the following toy example."
   ]
  },
  {
   "cell_type": "code",
   "execution_count": 2,
   "id": "b6f18f6b-12cc-4678-9be9-69fc6288e88b",
   "metadata": {
    "editable": true,
    "slideshow": {
     "slide_type": ""
    },
    "tags": []
   },
   "outputs": [
    {
     "data": {
      "text/html": [
       "<div>\n",
       "<style scoped>\n",
       "    .dataframe tbody tr th:only-of-type {\n",
       "        vertical-align: middle;\n",
       "    }\n",
       "\n",
       "    .dataframe tbody tr th {\n",
       "        vertical-align: top;\n",
       "    }\n",
       "\n",
       "    .dataframe thead th {\n",
       "        text-align: right;\n",
       "    }\n",
       "</style>\n",
       "<table border=\"1\" class=\"dataframe\">\n",
       "  <thead>\n",
       "    <tr style=\"text-align: right;\">\n",
       "      <th></th>\n",
       "      <th>user_id</th>\n",
       "      <th>movie_id</th>\n",
       "      <th>rating</th>\n",
       "    </tr>\n",
       "  </thead>\n",
       "  <tbody>\n",
       "    <tr>\n",
       "      <th>0</th>\n",
       "      <td>Sam</td>\n",
       "      <td>Lion King</td>\n",
       "      <td>4</td>\n",
       "    </tr>\n",
       "    <tr>\n",
       "      <th>1</th>\n",
       "      <td>Sam</td>\n",
       "      <td>Jerry Maguire</td>\n",
       "      <td>4</td>\n",
       "    </tr>\n",
       "    <tr>\n",
       "      <th>2</th>\n",
       "      <td>Sam</td>\n",
       "      <td>Roman Holidays</td>\n",
       "      <td>5</td>\n",
       "    </tr>\n",
       "    <tr>\n",
       "      <th>3</th>\n",
       "      <td>Sam</td>\n",
       "      <td>Downfall</td>\n",
       "      <td>1</td>\n",
       "    </tr>\n",
       "    <tr>\n",
       "      <th>4</th>\n",
       "      <td>Eva</td>\n",
       "      <td>Titanic</td>\n",
       "      <td>2</td>\n",
       "    </tr>\n",
       "    <tr>\n",
       "      <th>5</th>\n",
       "      <td>Eva</td>\n",
       "      <td>Jerry Maguire</td>\n",
       "      <td>1</td>\n",
       "    </tr>\n",
       "    <tr>\n",
       "      <th>6</th>\n",
       "      <td>Eva</td>\n",
       "      <td>Inception</td>\n",
       "      <td>4</td>\n",
       "    </tr>\n",
       "    <tr>\n",
       "      <th>7</th>\n",
       "      <td>Eva</td>\n",
       "      <td>Man on Wire</td>\n",
       "      <td>5</td>\n",
       "    </tr>\n",
       "    <tr>\n",
       "      <th>8</th>\n",
       "      <td>Eva</td>\n",
       "      <td>The Social Dilemma</td>\n",
       "      <td>5</td>\n",
       "    </tr>\n",
       "    <tr>\n",
       "      <th>9</th>\n",
       "      <td>Pat</td>\n",
       "      <td>Titanic</td>\n",
       "      <td>3</td>\n",
       "    </tr>\n",
       "    <tr>\n",
       "      <th>10</th>\n",
       "      <td>Pat</td>\n",
       "      <td>Lion King</td>\n",
       "      <td>4</td>\n",
       "    </tr>\n",
       "    <tr>\n",
       "      <th>11</th>\n",
       "      <td>Pat</td>\n",
       "      <td>Bambi</td>\n",
       "      <td>4</td>\n",
       "    </tr>\n",
       "    <tr>\n",
       "      <th>12</th>\n",
       "      <td>Pat</td>\n",
       "      <td>Cast Away</td>\n",
       "      <td>3</td>\n",
       "    </tr>\n",
       "    <tr>\n",
       "      <th>13</th>\n",
       "      <td>Pat</td>\n",
       "      <td>Jerry Maguire</td>\n",
       "      <td>5</td>\n",
       "    </tr>\n",
       "    <tr>\n",
       "      <th>14</th>\n",
       "      <td>Pat</td>\n",
       "      <td>Downfall</td>\n",
       "      <td>2</td>\n",
       "    </tr>\n",
       "    <tr>\n",
       "      <th>15</th>\n",
       "      <td>Pat</td>\n",
       "      <td>A Beautiful Mind</td>\n",
       "      <td>3</td>\n",
       "    </tr>\n",
       "    <tr>\n",
       "      <th>16</th>\n",
       "      <td>Jim</td>\n",
       "      <td>Titanic</td>\n",
       "      <td>2</td>\n",
       "    </tr>\n",
       "    <tr>\n",
       "      <th>17</th>\n",
       "      <td>Jim</td>\n",
       "      <td>Lion King</td>\n",
       "      <td>3</td>\n",
       "    </tr>\n",
       "    <tr>\n",
       "      <th>18</th>\n",
       "      <td>Jim</td>\n",
       "      <td>The Social Dilemma</td>\n",
       "      <td>5</td>\n",
       "    </tr>\n",
       "    <tr>\n",
       "      <th>19</th>\n",
       "      <td>Jim</td>\n",
       "      <td>Malcolm x</td>\n",
       "      <td>4</td>\n",
       "    </tr>\n",
       "    <tr>\n",
       "      <th>20</th>\n",
       "      <td>Jim</td>\n",
       "      <td>Man on Wire</td>\n",
       "      <td>5</td>\n",
       "    </tr>\n",
       "  </tbody>\n",
       "</table>\n",
       "</div>"
      ],
      "text/plain": [
       "   user_id            movie_id  rating\n",
       "0   Sam     Lion King           4     \n",
       "1   Sam     Jerry Maguire       4     \n",
       "2   Sam     Roman Holidays      5     \n",
       "3   Sam     Downfall            1     \n",
       "4   Eva     Titanic             2     \n",
       "5   Eva     Jerry Maguire       1     \n",
       "6   Eva     Inception           4     \n",
       "7   Eva     Man on Wire         5     \n",
       "8   Eva     The Social Dilemma  5     \n",
       "9   Pat     Titanic             3     \n",
       "10  Pat     Lion King           4     \n",
       "11  Pat     Bambi               4     \n",
       "12  Pat     Cast Away           3     \n",
       "13  Pat     Jerry Maguire       5     \n",
       "14  Pat     Downfall            2     \n",
       "15  Pat     A Beautiful Mind    3     \n",
       "16  Jim     Titanic             2     \n",
       "17  Jim     Lion King           3     \n",
       "18  Jim     The Social Dilemma  5     \n",
       "19  Jim     Malcolm x           4     \n",
       "20  Jim     Man on Wire         5     "
      ]
     },
     "execution_count": 2,
     "metadata": {},
     "output_type": "execute_result"
    }
   ],
   "source": [
    "toy_ratings = pd.read_csv(\"../data/toy_ratings.csv\")\n",
    "toy_ratings"
   ]
  },
  {
   "cell_type": "markdown",
   "id": "4d8ea0e9-f875-45bf-83a7-378ebb90b78c",
   "metadata": {
    "editable": true,
    "slideshow": {
     "slide_type": "subslide"
    },
    "tags": []
   },
   "source": [
    "### Creating utility matrix"
   ]
  },
  {
   "cell_type": "code",
   "execution_count": 3,
   "id": "6852c946-6039-4044-b150-75ebca1d0317",
   "metadata": {
    "editable": true,
    "slideshow": {
     "slide_type": "skip"
    },
    "tags": []
   },
   "outputs": [],
   "source": [
    "def get_stats(ratings, item_key=\"movie_id\", user_key=\"user_id\"):\n",
    "    print(\"Number of ratings:\", len(ratings))\n",
    "    print(\"Average rating:  %0.3f\" % (np.mean(ratings[\"rating\"])))\n",
    "    N = len(np.unique(ratings[user_key]))\n",
    "    M = len(np.unique(ratings[item_key]))\n",
    "    print(\"Number of users (N): %d\" % N)\n",
    "    print(\"Number of items (M): %d\" % M)\n",
    "    print(\"Fraction non-nan ratings: %0.3f\" % (len(ratings) / (N * M)))\n",
    "    return N, M"
   ]
  },
  {
   "cell_type": "code",
   "execution_count": 4,
   "id": "39d42915-4f10-4f90-b5f6-4a78d466bf49",
   "metadata": {
    "editable": true,
    "slideshow": {
     "slide_type": ""
    },
    "tags": []
   },
   "outputs": [],
   "source": [
    "user_key = \"user_id\"\n",
    "item_key = \"movie_id\""
   ]
  },
  {
   "cell_type": "code",
   "execution_count": 5,
   "id": "f37b48fd-d2b0-4696-b99f-590ad02af3a9",
   "metadata": {
    "editable": true,
    "slideshow": {
     "slide_type": ""
    },
    "tags": []
   },
   "outputs": [
    {
     "name": "stdout",
     "output_type": "stream",
     "text": [
      "Number of ratings: 21\n",
      "Average rating:  3.524\n",
      "Number of users (N): 4\n",
      "Number of items (M): 12\n",
      "Fraction non-nan ratings: 0.438\n"
     ]
    }
   ],
   "source": [
    "N, M = get_stats(toy_ratings, item_key, user_key)"
   ]
  },
  {
   "cell_type": "markdown",
   "id": "e4ebea98-1ae4-43fa-a6c3-19d52e8cc7ff",
   "metadata": {
    "editable": true,
    "slideshow": {
     "slide_type": "fragment"
    },
    "tags": []
   },
   "source": [
    "Let's construct utility matrix with `number of users` rows and `number of items` columns from the ratings data. \n",
    "\n",
    "> Note we are constructing a non-sparse matrix for demonstration purpose here. In real life it's recommended that you work with sparse matrices. "
   ]
  },
  {
   "cell_type": "markdown",
   "id": "d888be44-c4c1-4d14-a835-6aa74bdcf512",
   "metadata": {
    "editable": true,
    "slideshow": {
     "slide_type": "subslide"
    },
    "tags": []
   },
   "source": [
    "### Creating utility matrix"
   ]
  },
  {
   "cell_type": "code",
   "execution_count": 6,
   "id": "1adeb08d-9fa4-425a-965c-8c37ce999dbb",
   "metadata": {
    "editable": true,
    "slideshow": {
     "slide_type": ""
    },
    "tags": []
   },
   "outputs": [],
   "source": [
    "user_mapper = dict(zip(np.unique(toy_ratings[user_key]), list(range(N))))\n",
    "item_mapper = dict(zip(np.unique(toy_ratings[item_key]), list(range(M))))\n",
    "user_inverse_mapper = dict(zip(list(range(N)), np.unique(toy_ratings[user_key])))\n",
    "item_inverse_mapper = dict(zip(list(range(M)), np.unique(toy_ratings[item_key])))"
   ]
  },
  {
   "cell_type": "markdown",
   "id": "8952863a-24c2-494e-b736-76211684bba3",
   "metadata": {
    "editable": true,
    "slideshow": {
     "slide_type": ""
    },
    "tags": []
   },
   "source": [
    "- Why do we need all these mappers? \n",
    "    - We want to store the rating for user $i$ and item $j$ at $Y[i,j]$ location in the utility matrix. \n",
    "    - So we define `user_mapper` and `item_mapper` which map user and item ids to indices. \n",
    "    - Once we have predicted ratings for users and items, we want to be able to map it to the original user and item ids so that we recommend the right product to the right user. \n",
    "    - So we have `user_inverse_mapper` and `item_inverse_mapper` which map indices to original user and item ids.     "
   ]
  },
  {
   "cell_type": "markdown",
   "id": "dc15ca75-0d2e-4d37-a8c1-f1e7922784af",
   "metadata": {
    "editable": true,
    "slideshow": {
     "slide_type": "subslide"
    },
    "tags": []
   },
   "source": [
    "### Creating utility matrix"
   ]
  },
  {
   "cell_type": "code",
   "execution_count": 7,
   "id": "87edf72c-60dd-4b39-9f15-8c4f84defe59",
   "metadata": {
    "editable": true,
    "slideshow": {
     "slide_type": ""
    },
    "tags": []
   },
   "outputs": [],
   "source": [
    "user_key = \"user_id\"\n",
    "item_key = \"movie_id\"\n",
    "user_mapper = dict(zip(np.unique(toy_ratings[user_key]), list(range(N))))\n",
    "item_mapper = dict(zip(np.unique(toy_ratings[item_key]), list(range(M))))\n",
    "user_inverse_mapper = dict(zip(list(range(N)), np.unique(toy_ratings[user_key])))\n",
    "item_inverse_mapper = dict(zip(list(range(M)), np.unique(toy_ratings[item_key])))\n",
    "\n",
    "def create_Y_from_ratings(data, N, M):\n",
    "    Y = np.zeros((N, M))\n",
    "    Y.fill(np.nan)\n",
    "    for index, val in data.iterrows():\n",
    "        n = user_mapper[val[user_key]]\n",
    "        m = item_mapper[val[item_key]]\n",
    "        Y[n, m] = val[\"rating\"]\n",
    "    return Y"
   ]
  },
  {
   "cell_type": "code",
   "execution_count": 8,
   "id": "2e4be4d3-0a41-42a9-96ed-50dc89f6dea5",
   "metadata": {
    "editable": true,
    "slideshow": {
     "slide_type": ""
    },
    "tags": []
   },
   "outputs": [
    {
     "data": {
      "text/html": [
       "<div>\n",
       "<style scoped>\n",
       "    .dataframe tbody tr th:only-of-type {\n",
       "        vertical-align: middle;\n",
       "    }\n",
       "\n",
       "    .dataframe tbody tr th {\n",
       "        vertical-align: top;\n",
       "    }\n",
       "\n",
       "    .dataframe thead th {\n",
       "        text-align: right;\n",
       "    }\n",
       "</style>\n",
       "<table border=\"1\" class=\"dataframe\">\n",
       "  <thead>\n",
       "    <tr style=\"text-align: right;\">\n",
       "      <th></th>\n",
       "      <th>A Beautiful Mind</th>\n",
       "      <th>Bambi</th>\n",
       "      <th>Cast Away</th>\n",
       "      <th>Downfall</th>\n",
       "      <th>Inception</th>\n",
       "      <th>Jerry Maguire</th>\n",
       "      <th>Lion King</th>\n",
       "      <th>Malcolm x</th>\n",
       "      <th>Man on Wire</th>\n",
       "      <th>Roman Holidays</th>\n",
       "      <th>The Social Dilemma</th>\n",
       "      <th>Titanic</th>\n",
       "    </tr>\n",
       "  </thead>\n",
       "  <tbody>\n",
       "    <tr>\n",
       "      <th>Eva</th>\n",
       "      <td>NaN</td>\n",
       "      <td>NaN</td>\n",
       "      <td>NaN</td>\n",
       "      <td>NaN</td>\n",
       "      <td>4.0</td>\n",
       "      <td>1.0</td>\n",
       "      <td>NaN</td>\n",
       "      <td>NaN</td>\n",
       "      <td>5.0</td>\n",
       "      <td>NaN</td>\n",
       "      <td>5.0</td>\n",
       "      <td>2.0</td>\n",
       "    </tr>\n",
       "    <tr>\n",
       "      <th>Jim</th>\n",
       "      <td>NaN</td>\n",
       "      <td>NaN</td>\n",
       "      <td>NaN</td>\n",
       "      <td>NaN</td>\n",
       "      <td>NaN</td>\n",
       "      <td>NaN</td>\n",
       "      <td>3.0</td>\n",
       "      <td>4.0</td>\n",
       "      <td>5.0</td>\n",
       "      <td>NaN</td>\n",
       "      <td>5.0</td>\n",
       "      <td>2.0</td>\n",
       "    </tr>\n",
       "    <tr>\n",
       "      <th>Pat</th>\n",
       "      <td>3.0</td>\n",
       "      <td>4.0</td>\n",
       "      <td>3.0</td>\n",
       "      <td>2.0</td>\n",
       "      <td>NaN</td>\n",
       "      <td>5.0</td>\n",
       "      <td>4.0</td>\n",
       "      <td>NaN</td>\n",
       "      <td>NaN</td>\n",
       "      <td>NaN</td>\n",
       "      <td>NaN</td>\n",
       "      <td>3.0</td>\n",
       "    </tr>\n",
       "    <tr>\n",
       "      <th>Sam</th>\n",
       "      <td>NaN</td>\n",
       "      <td>NaN</td>\n",
       "      <td>NaN</td>\n",
       "      <td>1.0</td>\n",
       "      <td>NaN</td>\n",
       "      <td>4.0</td>\n",
       "      <td>4.0</td>\n",
       "      <td>NaN</td>\n",
       "      <td>NaN</td>\n",
       "      <td>5.0</td>\n",
       "      <td>NaN</td>\n",
       "      <td>NaN</td>\n",
       "    </tr>\n",
       "  </tbody>\n",
       "</table>\n",
       "</div>"
      ],
      "text/plain": [
       "     A Beautiful Mind  Bambi  Cast Away  Downfall  Inception  Jerry Maguire  \\\n",
       "Eva NaN               NaN    NaN        NaN        4.0        1.0             \n",
       "Jim NaN               NaN    NaN        NaN       NaN        NaN              \n",
       "Pat  3.0               4.0    3.0        2.0      NaN         5.0             \n",
       "Sam NaN               NaN    NaN         1.0      NaN         4.0             \n",
       "\n",
       "     Lion King  Malcolm x  Man on Wire  Roman Holidays  The Social Dilemma  \\\n",
       "Eva NaN        NaN         5.0         NaN              5.0                  \n",
       "Jim  3.0        4.0        5.0         NaN              5.0                  \n",
       "Pat  4.0       NaN        NaN          NaN             NaN                   \n",
       "Sam  4.0       NaN        NaN           5.0            NaN                   \n",
       "\n",
       "     Titanic  \n",
       "Eva  2.0      \n",
       "Jim  2.0      \n",
       "Pat  3.0      \n",
       "Sam NaN       "
      ]
     },
     "execution_count": 8,
     "metadata": {},
     "output_type": "execute_result"
    }
   ],
   "source": [
    "Y = create_Y_from_ratings(toy_ratings, N, M)\n",
    "utility_mat = pd.DataFrame(Y, columns=item_mapper.keys(), index=user_mapper.keys())\n",
    "utility_mat"
   ]
  },
  {
   "cell_type": "markdown",
   "id": "244a250d-f844-4188-8dcc-1b870dd2f7f2",
   "metadata": {
    "editable": true,
    "slideshow": {
     "slide_type": "subslide"
    },
    "tags": []
   },
   "source": [
    "### Creating utility matrix (slightly simpler)"
   ]
  },
  {
   "cell_type": "code",
   "execution_count": 9,
   "id": "b87cc826-6aaf-4778-a340-87cefe76b372",
   "metadata": {
    "editable": true,
    "slideshow": {
     "slide_type": ""
    },
    "tags": []
   },
   "outputs": [
    {
     "data": {
      "text/html": [
       "<div>\n",
       "<style scoped>\n",
       "    .dataframe tbody tr th:only-of-type {\n",
       "        vertical-align: middle;\n",
       "    }\n",
       "\n",
       "    .dataframe tbody tr th {\n",
       "        vertical-align: top;\n",
       "    }\n",
       "\n",
       "    .dataframe thead th {\n",
       "        text-align: right;\n",
       "    }\n",
       "</style>\n",
       "<table border=\"1\" class=\"dataframe\">\n",
       "  <thead>\n",
       "    <tr style=\"text-align: right;\">\n",
       "      <th>movie_id</th>\n",
       "      <th>A Beautiful Mind</th>\n",
       "      <th>Bambi</th>\n",
       "      <th>Cast Away</th>\n",
       "      <th>Downfall</th>\n",
       "      <th>Inception</th>\n",
       "      <th>Jerry Maguire</th>\n",
       "      <th>Lion King</th>\n",
       "      <th>Malcolm x</th>\n",
       "      <th>Man on Wire</th>\n",
       "      <th>Roman Holidays</th>\n",
       "      <th>The Social Dilemma</th>\n",
       "      <th>Titanic</th>\n",
       "    </tr>\n",
       "    <tr>\n",
       "      <th>user_id</th>\n",
       "      <th></th>\n",
       "      <th></th>\n",
       "      <th></th>\n",
       "      <th></th>\n",
       "      <th></th>\n",
       "      <th></th>\n",
       "      <th></th>\n",
       "      <th></th>\n",
       "      <th></th>\n",
       "      <th></th>\n",
       "      <th></th>\n",
       "      <th></th>\n",
       "    </tr>\n",
       "  </thead>\n",
       "  <tbody>\n",
       "    <tr>\n",
       "      <th>Eva</th>\n",
       "      <td>NaN</td>\n",
       "      <td>NaN</td>\n",
       "      <td>NaN</td>\n",
       "      <td>NaN</td>\n",
       "      <td>4.0</td>\n",
       "      <td>1.0</td>\n",
       "      <td>NaN</td>\n",
       "      <td>NaN</td>\n",
       "      <td>5.0</td>\n",
       "      <td>NaN</td>\n",
       "      <td>5.0</td>\n",
       "      <td>2.0</td>\n",
       "    </tr>\n",
       "    <tr>\n",
       "      <th>Jim</th>\n",
       "      <td>NaN</td>\n",
       "      <td>NaN</td>\n",
       "      <td>NaN</td>\n",
       "      <td>NaN</td>\n",
       "      <td>NaN</td>\n",
       "      <td>NaN</td>\n",
       "      <td>3.0</td>\n",
       "      <td>4.0</td>\n",
       "      <td>5.0</td>\n",
       "      <td>NaN</td>\n",
       "      <td>5.0</td>\n",
       "      <td>2.0</td>\n",
       "    </tr>\n",
       "    <tr>\n",
       "      <th>Pat</th>\n",
       "      <td>3.0</td>\n",
       "      <td>4.0</td>\n",
       "      <td>3.0</td>\n",
       "      <td>2.0</td>\n",
       "      <td>NaN</td>\n",
       "      <td>5.0</td>\n",
       "      <td>4.0</td>\n",
       "      <td>NaN</td>\n",
       "      <td>NaN</td>\n",
       "      <td>NaN</td>\n",
       "      <td>NaN</td>\n",
       "      <td>3.0</td>\n",
       "    </tr>\n",
       "    <tr>\n",
       "      <th>Sam</th>\n",
       "      <td>NaN</td>\n",
       "      <td>NaN</td>\n",
       "      <td>NaN</td>\n",
       "      <td>1.0</td>\n",
       "      <td>NaN</td>\n",
       "      <td>4.0</td>\n",
       "      <td>4.0</td>\n",
       "      <td>NaN</td>\n",
       "      <td>NaN</td>\n",
       "      <td>5.0</td>\n",
       "      <td>NaN</td>\n",
       "      <td>NaN</td>\n",
       "    </tr>\n",
       "  </tbody>\n",
       "</table>\n",
       "</div>"
      ],
      "text/plain": [
       "movie_id  A Beautiful Mind  Bambi  Cast Away  Downfall  Inception  \\\n",
       "user_id                                                             \n",
       "Eva      NaN               NaN    NaN        NaN        4.0         \n",
       "Jim      NaN               NaN    NaN        NaN       NaN          \n",
       "Pat       3.0               4.0    3.0        2.0      NaN          \n",
       "Sam      NaN               NaN    NaN         1.0      NaN          \n",
       "\n",
       "movie_id  Jerry Maguire  Lion King  Malcolm x  Man on Wire  Roman Holidays  \\\n",
       "user_id                                                                      \n",
       "Eva       1.0           NaN        NaN         5.0         NaN               \n",
       "Jim      NaN             3.0        4.0        5.0         NaN               \n",
       "Pat       5.0            4.0       NaN        NaN          NaN               \n",
       "Sam       4.0            4.0       NaN        NaN           5.0              \n",
       "\n",
       "movie_id  The Social Dilemma  Titanic  \n",
       "user_id                                \n",
       "Eva       5.0                 2.0      \n",
       "Jim       5.0                 2.0      \n",
       "Pat      NaN                  3.0      \n",
       "Sam      NaN                 NaN       "
      ]
     },
     "execution_count": 9,
     "metadata": {},
     "output_type": "execute_result"
    }
   ],
   "source": [
    "toy_ratings.pivot(index=\"user_id\", columns=\"movie_id\", values=\"rating\")"
   ]
  },
  {
   "cell_type": "markdown",
   "id": "e883c5c0-172f-4443-955f-6636cb3bde77",
   "metadata": {
    "editable": true,
    "slideshow": {
     "slide_type": "subslide"
    },
    "tags": []
   },
   "source": [
    "### Creating utility matrix recap\n",
    "\n",
    "- Rows represent users.\n",
    "- Columns represent items (movies in our case).\n",
    "- Each cell gives the rating given by the user to the corresponding movie. \n",
    "- Users are features for movies and movies are features for users.\n",
    "- Our goal is to predict missing entries in the utility matrix."
   ]
  },
  {
   "cell_type": "markdown",
   "id": "2c187d7e-3cdb-4b52-83d5-ab4035fa4d46",
   "metadata": {
    "editable": true,
    "slideshow": {
     "slide_type": "slide"
    },
    "tags": []
   },
   "source": [
    "### Evaluation\n",
    "\n",
    "- We'll try a number of methods to fill in the missing entries in the utility matrix.\n",
    "- Although there is no notion of \"accurate\" recommendations, we need a way to evaluate our predictions so that we'll be able to compare different methods.\n",
    "- Although we are doing unsupervised learning, we'll split the data and evaluate our predictions as follows.  "
   ]
  },
  {
   "cell_type": "markdown",
   "id": "3075868f-3279-445f-94fc-9001e3b5601c",
   "metadata": {
    "editable": true,
    "slideshow": {
     "slide_type": "subslide"
    },
    "tags": []
   },
   "source": [
    "### Data splitting\n",
    "\n",
    "- We split the ratings into train and validation sets. \n",
    "- It's easier to split the ratings data instead of splitting the utility matrix.\n",
    "- Don't worry about `y`; we're not really going to use it. "
   ]
  },
  {
   "cell_type": "code",
   "execution_count": 10,
   "id": "8933d951-f18f-47f8-ac93-a832d921d2f3",
   "metadata": {
    "editable": true,
    "slideshow": {
     "slide_type": ""
    },
    "tags": []
   },
   "outputs": [
    {
     "data": {
      "text/plain": [
       "((16, 3), (5, 3))"
      ]
     },
     "execution_count": 10,
     "metadata": {},
     "output_type": "execute_result"
    }
   ],
   "source": [
    "X = toy_ratings.copy()\n",
    "y = toy_ratings[user_key]\n",
    "X_train, X_valid, y_train, y_valid = train_test_split(\n",
    "    X, y, test_size=0.2, random_state=42\n",
    ")\n",
    "\n",
    "X_train.shape, X_valid.shape"
   ]
  },
  {
   "cell_type": "markdown",
   "id": "a7d93e74-a017-4717-b340-26fbc6f1dfc7",
   "metadata": {
    "editable": true,
    "slideshow": {
     "slide_type": "subslide"
    },
    "tags": []
   },
   "source": [
    "Now we will create utility matrices for train and validation splits."
   ]
  },
  {
   "cell_type": "code",
   "execution_count": 11,
   "id": "003ec1ca-bb16-432c-9231-f3847fdb8976",
   "metadata": {
    "editable": true,
    "slideshow": {
     "slide_type": ""
    },
    "tags": []
   },
   "outputs": [
    {
     "data": {
      "text/plain": [
       "((4, 12), (4, 12))"
      ]
     },
     "execution_count": 11,
     "metadata": {},
     "output_type": "execute_result"
    }
   ],
   "source": [
    "train_mat = create_Y_from_ratings(X_train, N, M)\n",
    "valid_mat = create_Y_from_ratings(X_valid, N, M)\n",
    "train_mat.shape, valid_mat.shape"
   ]
  },
  {
   "cell_type": "code",
   "execution_count": 12,
   "id": "414ee1ab-7ae3-48d1-94be-22cd58c68317",
   "metadata": {
    "editable": true,
    "slideshow": {
     "slide_type": ""
    },
    "tags": []
   },
   "outputs": [
    {
     "data": {
      "text/plain": [
       "0.3333333333333333"
      ]
     },
     "execution_count": 12,
     "metadata": {},
     "output_type": "execute_result"
    }
   ],
   "source": [
    "(len(X_train) / (N * M)) # Fraction of non-nan entries in the train set"
   ]
  },
  {
   "cell_type": "code",
   "execution_count": 13,
   "id": "9bbbab12-8621-4484-b675-4e45dbcea888",
   "metadata": {
    "editable": true,
    "slideshow": {
     "slide_type": ""
    },
    "tags": []
   },
   "outputs": [
    {
     "data": {
      "text/plain": [
       "0.10416666666666667"
      ]
     },
     "execution_count": 13,
     "metadata": {},
     "output_type": "execute_result"
    }
   ],
   "source": [
    "(len(X_valid) / (N * M)) # Fraction of non-nan entries in the valid set"
   ]
  },
  {
   "cell_type": "markdown",
   "id": "5cf502a9-2ccf-46a4-8dfc-5d30c2e9c87a",
   "metadata": {
    "editable": true,
    "slideshow": {
     "slide_type": "subslide"
    },
    "tags": []
   },
   "source": [
    "### Evaluation\n",
    "\n",
    "- `train_mat` has only ratings from the train set and `valid_mat` has only ratings from the valid set.\n",
    "- During training we assume that we do not have access to some of the available ratings. We predict these ratings and evaluate them against ratings in the validation set. "
   ]
  },
  {
   "cell_type": "markdown",
   "id": "1968289e-7e9b-4f35-97d8-def33f184941",
   "metadata": {
    "editable": true,
    "slideshow": {
     "slide_type": "subslide"
    },
    "tags": []
   },
   "source": [
    "### Evaluation\n",
    "\n",
    "- How do train and validation utility matrices differ? \n",
    "- Why are utility matrices for train and validation sets are of the same shape?\n",
    "<br><br>"
   ]
  },
  {
   "cell_type": "markdown",
   "id": "da7b75c1-f72a-4510-8ecc-0919c94c19c9",
   "metadata": {
    "editable": true,
    "slideshow": {
     "slide_type": "fragment"
    },
    "tags": []
   },
   "source": [
    "**Answer:**\n",
    "\n",
    "- The training matrix `train_mat` is of shape N by M but only has ratings from `X_train` and all other ratings missing. \n",
    "- The validation matrix `valid_mat` is also of shape N by M but it only has ratings `X_valid` and all other ratings missing. \n",
    "- They have the same shape because both have the same number of users and items; that's how we have constructed them. "
   ]
  },
  {
   "cell_type": "markdown",
   "id": "a58de194-a25a-409d-8bd4-453c65456dae",
   "metadata": {
    "editable": true,
    "slideshow": {
     "slide_type": "subslide"
    },
    "tags": []
   },
   "source": [
    "### Evaluation\n",
    "\n",
    "- Now that we have train and validation sets, how do we evaluate our predictions?\n",
    "- You can calculate the error between actual ratings and predicted ratings with metrics of your choice. \n",
    "    - Most common ones are MSE or RMSE.\n",
    "<br> <br>\n",
    "- The `error` function below calculates RMSE and `evaluate` function prints train and validation RMSE.\n",
    "- Lower RMSE $\\rightarrow$ predicted ratings are closer to the actual ratings"
   ]
  },
  {
   "cell_type": "code",
   "execution_count": 14,
   "id": "c5714fd6-acd6-4847-86c3-8f20930a1de5",
   "metadata": {
    "editable": true,
    "slideshow": {
     "slide_type": ""
    },
    "tags": []
   },
   "outputs": [],
   "source": [
    "def error(X1, X2):\n",
    "    \"\"\"\n",
    "    Returns the root mean squared error.\n",
    "    \"\"\"\n",
    "    return np.sqrt(np.nanmean((X1 - X2) ** 2))\n",
    "\n",
    "\n",
    "def evaluate(pred_X, train_X, valid_X, model_name=\"Global average\"):\n",
    "    print(\"%s train RMSE: %0.2f\" % (model_name, error(pred_X, train_X)))\n",
    "    print(\"%s valid RMSE: %0.2f\" % (model_name, error(pred_X, valid_X)))"
   ]
  },
  {
   "cell_type": "markdown",
   "id": "5642511f",
   "metadata": {
    "editable": true,
    "slideshow": {
     "slide_type": "slide"
    },
    "tags": []
   },
   "source": [
    "## Baseline Approaches\n",
    "- Recall that our goal is to predict missing entries in the utility matrix. "
   ]
  },
  {
   "cell_type": "markdown",
   "id": "e61b0f43-7eda-470e-aec4-f126ca51809a",
   "metadata": {
    "editable": true,
    "slideshow": {
     "slide_type": "fragment"
    },
    "tags": []
   },
   "source": [
    "Let's first try some simple approaches to predict missing entries. \n",
    "\n",
    "1. Global average baseline\n",
    "2. Per-user average baseline\n",
    "3. Per-item average baseline\n",
    "4. Average of 2 and 3\n",
    "    - Take an average of per-user and per-item averages. \n",
    "5. [$k$-Nearest Neighbours imputation](https://scikit-learn.org/stable/modules/generated/sklearn.impute.KNNImputer.html)    \n",
    "    \n",
    "I'll show you 1 and 5 today."
   ]
  },
  {
   "cell_type": "markdown",
   "id": "b1422c09",
   "metadata": {
    "editable": true,
    "slideshow": {
     "slide_type": "subslide"
    },
    "tags": []
   },
   "source": [
    "### Global average baseline\n",
    "\n",
    "- Let's examine RMSE of the global average baseline. \n",
    "- In this baseline we predict everything as the global average rating"
   ]
  },
  {
   "cell_type": "code",
   "execution_count": 15,
   "id": "c10cce8c",
   "metadata": {
    "editable": true,
    "slideshow": {
     "slide_type": "-"
    },
    "tags": []
   },
   "outputs": [
    {
     "data": {
      "text/html": [
       "<div>\n",
       "<style scoped>\n",
       "    .dataframe tbody tr th:only-of-type {\n",
       "        vertical-align: middle;\n",
       "    }\n",
       "\n",
       "    .dataframe tbody tr th {\n",
       "        vertical-align: top;\n",
       "    }\n",
       "\n",
       "    .dataframe thead th {\n",
       "        text-align: right;\n",
       "    }\n",
       "</style>\n",
       "<table border=\"1\" class=\"dataframe\">\n",
       "  <thead>\n",
       "    <tr style=\"text-align: right;\">\n",
       "      <th></th>\n",
       "      <th>0</th>\n",
       "      <th>1</th>\n",
       "      <th>2</th>\n",
       "      <th>3</th>\n",
       "      <th>4</th>\n",
       "      <th>5</th>\n",
       "      <th>6</th>\n",
       "      <th>7</th>\n",
       "      <th>8</th>\n",
       "      <th>9</th>\n",
       "      <th>10</th>\n",
       "      <th>11</th>\n",
       "    </tr>\n",
       "  </thead>\n",
       "  <tbody>\n",
       "    <tr>\n",
       "      <th>0</th>\n",
       "      <td>3.4375</td>\n",
       "      <td>3.4375</td>\n",
       "      <td>3.4375</td>\n",
       "      <td>3.4375</td>\n",
       "      <td>3.4375</td>\n",
       "      <td>3.4375</td>\n",
       "      <td>3.4375</td>\n",
       "      <td>3.4375</td>\n",
       "      <td>3.4375</td>\n",
       "      <td>3.4375</td>\n",
       "      <td>3.4375</td>\n",
       "      <td>3.4375</td>\n",
       "    </tr>\n",
       "    <tr>\n",
       "      <th>1</th>\n",
       "      <td>3.4375</td>\n",
       "      <td>3.4375</td>\n",
       "      <td>3.4375</td>\n",
       "      <td>3.4375</td>\n",
       "      <td>3.4375</td>\n",
       "      <td>3.4375</td>\n",
       "      <td>3.4375</td>\n",
       "      <td>3.4375</td>\n",
       "      <td>3.4375</td>\n",
       "      <td>3.4375</td>\n",
       "      <td>3.4375</td>\n",
       "      <td>3.4375</td>\n",
       "    </tr>\n",
       "    <tr>\n",
       "      <th>2</th>\n",
       "      <td>3.4375</td>\n",
       "      <td>3.4375</td>\n",
       "      <td>3.4375</td>\n",
       "      <td>3.4375</td>\n",
       "      <td>3.4375</td>\n",
       "      <td>3.4375</td>\n",
       "      <td>3.4375</td>\n",
       "      <td>3.4375</td>\n",
       "      <td>3.4375</td>\n",
       "      <td>3.4375</td>\n",
       "      <td>3.4375</td>\n",
       "      <td>3.4375</td>\n",
       "    </tr>\n",
       "    <tr>\n",
       "      <th>3</th>\n",
       "      <td>3.4375</td>\n",
       "      <td>3.4375</td>\n",
       "      <td>3.4375</td>\n",
       "      <td>3.4375</td>\n",
       "      <td>3.4375</td>\n",
       "      <td>3.4375</td>\n",
       "      <td>3.4375</td>\n",
       "      <td>3.4375</td>\n",
       "      <td>3.4375</td>\n",
       "      <td>3.4375</td>\n",
       "      <td>3.4375</td>\n",
       "      <td>3.4375</td>\n",
       "    </tr>\n",
       "  </tbody>\n",
       "</table>\n",
       "</div>"
      ],
      "text/plain": [
       "       0       1       2       3       4       5       6       7       8   \\\n",
       "0  3.4375  3.4375  3.4375  3.4375  3.4375  3.4375  3.4375  3.4375  3.4375   \n",
       "1  3.4375  3.4375  3.4375  3.4375  3.4375  3.4375  3.4375  3.4375  3.4375   \n",
       "2  3.4375  3.4375  3.4375  3.4375  3.4375  3.4375  3.4375  3.4375  3.4375   \n",
       "3  3.4375  3.4375  3.4375  3.4375  3.4375  3.4375  3.4375  3.4375  3.4375   \n",
       "\n",
       "       9       10      11  \n",
       "0  3.4375  3.4375  3.4375  \n",
       "1  3.4375  3.4375  3.4375  \n",
       "2  3.4375  3.4375  3.4375  \n",
       "3  3.4375  3.4375  3.4375  "
      ]
     },
     "execution_count": 15,
     "metadata": {},
     "output_type": "execute_result"
    }
   ],
   "source": [
    "avg = np.nanmean(train_mat)\n",
    "pred_g = np.zeros(train_mat.shape) + avg\n",
    "pd.DataFrame(pred_g).head()"
   ]
  },
  {
   "cell_type": "code",
   "execution_count": 16,
   "id": "37d865d3",
   "metadata": {
    "editable": true,
    "slideshow": {
     "slide_type": "subslide"
    },
    "tags": []
   },
   "outputs": [
    {
     "name": "stdout",
     "output_type": "stream",
     "text": [
      "Global average train RMSE: 1.41\n",
      "Global average valid RMSE: 0.83\n"
     ]
    }
   ],
   "source": [
    "evaluate(pred_g, train_mat, valid_mat, model_name=\"Global average\")"
   ]
  },
  {
   "cell_type": "markdown",
   "id": "0b039c9f",
   "metadata": {
    "editable": true,
    "slideshow": {
     "slide_type": "subslide"
    },
    "tags": []
   },
   "source": [
    "### [$k$-nearest neighbours imputation](https://scikit-learn.org/stable/modules/generated/sklearn.impute.KNNImputer.html)\n",
    "\n",
    "- Can we try $k$-nearest neighbours type imputation? \n",
    "- Impute missing values using the mean value from $k$ nearest neighbours found in the training set. \n",
    "- Calculate distances between examples using features where neither value is missing. \n",
    "\n",
    "![](../img/utility_matrix.png)\n",
    "\n",
    "<!-- <img src=\"img/utility_matrix.png\" alt=\"\" height=\"900\" width=\"900\">  -->"
   ]
  },
  {
   "cell_type": "code",
   "execution_count": 17,
   "id": "1f4c7483-c848-4e78-9958-02cec72a19f7",
   "metadata": {
    "editable": true,
    "slideshow": {
     "slide_type": "subslide"
    },
    "tags": []
   },
   "outputs": [
    {
     "data": {
      "text/html": [
       "<div>\n",
       "<style scoped>\n",
       "    .dataframe tbody tr th:only-of-type {\n",
       "        vertical-align: middle;\n",
       "    }\n",
       "\n",
       "    .dataframe tbody tr th {\n",
       "        vertical-align: top;\n",
       "    }\n",
       "\n",
       "    .dataframe thead th {\n",
       "        text-align: right;\n",
       "    }\n",
       "</style>\n",
       "<table border=\"1\" class=\"dataframe\">\n",
       "  <thead>\n",
       "    <tr style=\"text-align: right;\">\n",
       "      <th></th>\n",
       "      <th>0</th>\n",
       "      <th>1</th>\n",
       "      <th>2</th>\n",
       "      <th>3</th>\n",
       "      <th>4</th>\n",
       "      <th>5</th>\n",
       "      <th>6</th>\n",
       "      <th>7</th>\n",
       "      <th>8</th>\n",
       "      <th>9</th>\n",
       "      <th>10</th>\n",
       "      <th>11</th>\n",
       "    </tr>\n",
       "  </thead>\n",
       "  <tbody>\n",
       "    <tr>\n",
       "      <th>0</th>\n",
       "      <td>NaN</td>\n",
       "      <td>NaN</td>\n",
       "      <td>NaN</td>\n",
       "      <td>NaN</td>\n",
       "      <td>4.0</td>\n",
       "      <td>1.0</td>\n",
       "      <td>NaN</td>\n",
       "      <td>NaN</td>\n",
       "      <td>5.0</td>\n",
       "      <td>NaN</td>\n",
       "      <td>NaN</td>\n",
       "      <td>2.0</td>\n",
       "    </tr>\n",
       "    <tr>\n",
       "      <th>1</th>\n",
       "      <td>NaN</td>\n",
       "      <td>NaN</td>\n",
       "      <td>NaN</td>\n",
       "      <td>NaN</td>\n",
       "      <td>NaN</td>\n",
       "      <td>NaN</td>\n",
       "      <td>NaN</td>\n",
       "      <td>4.0</td>\n",
       "      <td>5.0</td>\n",
       "      <td>NaN</td>\n",
       "      <td>5.0</td>\n",
       "      <td>2.0</td>\n",
       "    </tr>\n",
       "    <tr>\n",
       "      <th>2</th>\n",
       "      <td>NaN</td>\n",
       "      <td>4.0</td>\n",
       "      <td>3.0</td>\n",
       "      <td>2.0</td>\n",
       "      <td>NaN</td>\n",
       "      <td>5.0</td>\n",
       "      <td>4.0</td>\n",
       "      <td>NaN</td>\n",
       "      <td>NaN</td>\n",
       "      <td>NaN</td>\n",
       "      <td>NaN</td>\n",
       "      <td>3.0</td>\n",
       "    </tr>\n",
       "    <tr>\n",
       "      <th>3</th>\n",
       "      <td>NaN</td>\n",
       "      <td>NaN</td>\n",
       "      <td>NaN</td>\n",
       "      <td>1.0</td>\n",
       "      <td>NaN</td>\n",
       "      <td>NaN</td>\n",
       "      <td>NaN</td>\n",
       "      <td>NaN</td>\n",
       "      <td>NaN</td>\n",
       "      <td>5.0</td>\n",
       "      <td>NaN</td>\n",
       "      <td>NaN</td>\n",
       "    </tr>\n",
       "  </tbody>\n",
       "</table>\n",
       "</div>"
      ],
      "text/plain": [
       "   0    1    2    3    4    5    6    7    8    9    10   11\n",
       "0 NaN NaN  NaN  NaN   4.0  1.0 NaN  NaN   5.0 NaN  NaN   2.0\n",
       "1 NaN NaN  NaN  NaN  NaN  NaN  NaN   4.0  5.0 NaN   5.0  2.0\n",
       "2 NaN  4.0  3.0  2.0 NaN   5.0  4.0 NaN  NaN  NaN  NaN   3.0\n",
       "3 NaN NaN  NaN   1.0 NaN  NaN  NaN  NaN  NaN   5.0 NaN  NaN "
      ]
     },
     "execution_count": 17,
     "metadata": {},
     "output_type": "execute_result"
    }
   ],
   "source": [
    "pd.DataFrame(train_mat)"
   ]
  },
  {
   "cell_type": "code",
   "execution_count": 18,
   "id": "c5b65d8d",
   "metadata": {
    "editable": true,
    "slideshow": {
     "slide_type": "fragment"
    },
    "tags": []
   },
   "outputs": [
    {
     "data": {
      "text/html": [
       "<div>\n",
       "<style scoped>\n",
       "    .dataframe tbody tr th:only-of-type {\n",
       "        vertical-align: middle;\n",
       "    }\n",
       "\n",
       "    .dataframe tbody tr th {\n",
       "        vertical-align: top;\n",
       "    }\n",
       "\n",
       "    .dataframe thead th {\n",
       "        text-align: right;\n",
       "    }\n",
       "</style>\n",
       "<table border=\"1\" class=\"dataframe\">\n",
       "  <thead>\n",
       "    <tr style=\"text-align: right;\">\n",
       "      <th></th>\n",
       "      <th>0</th>\n",
       "      <th>1</th>\n",
       "      <th>2</th>\n",
       "      <th>3</th>\n",
       "      <th>4</th>\n",
       "      <th>5</th>\n",
       "      <th>6</th>\n",
       "      <th>7</th>\n",
       "      <th>8</th>\n",
       "      <th>9</th>\n",
       "      <th>10</th>\n",
       "      <th>11</th>\n",
       "    </tr>\n",
       "  </thead>\n",
       "  <tbody>\n",
       "    <tr>\n",
       "      <th>0</th>\n",
       "      <td>0.0</td>\n",
       "      <td>4.0</td>\n",
       "      <td>3.0</td>\n",
       "      <td>2.0</td>\n",
       "      <td>4.0</td>\n",
       "      <td>1.0</td>\n",
       "      <td>4.0</td>\n",
       "      <td>4.0</td>\n",
       "      <td>5.0</td>\n",
       "      <td>5.0</td>\n",
       "      <td>5.0</td>\n",
       "      <td>2.0</td>\n",
       "    </tr>\n",
       "    <tr>\n",
       "      <th>1</th>\n",
       "      <td>0.0</td>\n",
       "      <td>4.0</td>\n",
       "      <td>3.0</td>\n",
       "      <td>2.0</td>\n",
       "      <td>4.0</td>\n",
       "      <td>3.0</td>\n",
       "      <td>4.0</td>\n",
       "      <td>4.0</td>\n",
       "      <td>5.0</td>\n",
       "      <td>5.0</td>\n",
       "      <td>5.0</td>\n",
       "      <td>2.0</td>\n",
       "    </tr>\n",
       "    <tr>\n",
       "      <th>2</th>\n",
       "      <td>0.0</td>\n",
       "      <td>4.0</td>\n",
       "      <td>3.0</td>\n",
       "      <td>2.0</td>\n",
       "      <td>4.0</td>\n",
       "      <td>5.0</td>\n",
       "      <td>4.0</td>\n",
       "      <td>4.0</td>\n",
       "      <td>5.0</td>\n",
       "      <td>5.0</td>\n",
       "      <td>5.0</td>\n",
       "      <td>3.0</td>\n",
       "    </tr>\n",
       "    <tr>\n",
       "      <th>3</th>\n",
       "      <td>0.0</td>\n",
       "      <td>4.0</td>\n",
       "      <td>3.0</td>\n",
       "      <td>1.0</td>\n",
       "      <td>4.0</td>\n",
       "      <td>5.0</td>\n",
       "      <td>4.0</td>\n",
       "      <td>4.0</td>\n",
       "      <td>5.0</td>\n",
       "      <td>5.0</td>\n",
       "      <td>5.0</td>\n",
       "      <td>3.0</td>\n",
       "    </tr>\n",
       "  </tbody>\n",
       "</table>\n",
       "</div>"
      ],
      "text/plain": [
       "    0    1    2    3    4    5    6    7    8    9    10   11\n",
       "0  0.0  4.0  3.0  2.0  4.0  1.0  4.0  4.0  5.0  5.0  5.0  2.0\n",
       "1  0.0  4.0  3.0  2.0  4.0  3.0  4.0  4.0  5.0  5.0  5.0  2.0\n",
       "2  0.0  4.0  3.0  2.0  4.0  5.0  4.0  4.0  5.0  5.0  5.0  3.0\n",
       "3  0.0  4.0  3.0  1.0  4.0  5.0  4.0  4.0  5.0  5.0  5.0  3.0"
      ]
     },
     "execution_count": 18,
     "metadata": {},
     "output_type": "execute_result"
    }
   ],
   "source": [
    "from sklearn.impute import KNNImputer\n",
    "\n",
    "imputer = KNNImputer(n_neighbors=2, keep_empty_features=True)\n",
    "train_mat_imp = imputer.fit_transform(train_mat)\n",
    "pd.DataFrame(train_mat_imp)"
   ]
  },
  {
   "cell_type": "code",
   "execution_count": 19,
   "id": "7d7db0b6",
   "metadata": {
    "editable": true,
    "slideshow": {
     "slide_type": "subslide"
    },
    "tags": []
   },
   "outputs": [
    {
     "name": "stdout",
     "output_type": "stream",
     "text": [
      "KNN imputer train RMSE: 0.00\n",
      "KNN imputer valid RMSE: 1.48\n"
     ]
    }
   ],
   "source": [
    "evaluate(train_mat_imp, train_mat, valid_mat, model_name=\"KNN imputer\")"
   ]
  },
  {
   "cell_type": "markdown",
   "id": "13347d25-8896-48e7-9712-e8114b9944a8",
   "metadata": {
    "editable": true,
    "slideshow": {
     "slide_type": ""
    },
    "tags": []
   },
   "source": [
    "> Training error is zero! Why?"
   ]
  },
  {
   "cell_type": "markdown",
   "id": "e811ee41",
   "metadata": {
    "editable": true,
    "slideshow": {
     "slide_type": "subslide"
    },
    "tags": []
   },
   "source": [
    "**Question**\n",
    "- Instead of imputation, what would be the consequences if we replace `nan` with zeros so that we can calculate distances between vectors? "
   ]
  },
  {
   "cell_type": "markdown",
   "id": "2883cfcc",
   "metadata": {
    "editable": true,
    "slideshow": {
     "slide_type": "fragment"
    },
    "tags": []
   },
   "source": [
    "**Answer**\n",
    "\n",
    "It's not a good idea replace ratings with 0, because 0 can be an actual rating value in our case. "
   ]
  },
  {
   "cell_type": "markdown",
   "id": "0a6d3ba1",
   "metadata": {
    "editable": true,
    "slideshow": {
     "slide_type": "subslide"
    },
    "tags": []
   },
   "source": [
    "### What to do with predictions? \n",
    "- Once you have predictions, you can sort them based on ratings and recommend items with highest ratings.  "
   ]
  },
  {
   "cell_type": "markdown",
   "id": "52c75479-0312-4805-a27c-a7f3d17e2825",
   "metadata": {
    "editable": true,
    "slideshow": {
     "slide_type": "slide"
    },
    "tags": []
   },
   "source": [
    "### Exercise 17.1 Select all of the following statements which are **True** (iClicker)\n",
    "\n",
    "- (A) In the context of recommendation systems, the shapes of validation utility matrix and train utility matrix are the same. \n",
    "- (B) RMSE perfectly captures what we want to measure in the context of recommendation systems. \n",
    "- (C) It would be reasonable to impute missing values in the utility matrix by taking the average of the ratings given to an item by similar users.  \n",
    "- (D) In KNN type imputation, if a user has not rated any items yet, a reasonable strategy would be recommending them the most popular item. "
   ]
  },
  {
   "cell_type": "markdown",
   "id": "596918bd",
   "metadata": {
    "editable": true,
    "slideshow": {
     "slide_type": "slide"
    },
    "tags": []
   },
   "source": [
    "## Content-based filtering"
   ]
  },
  {
   "cell_type": "markdown",
   "id": "df155650-e84c-4893-995a-06f369f0f6a4",
   "metadata": {
    "editable": true,
    "slideshow": {
     "slide_type": ""
    },
    "tags": []
   },
   "source": [
    "- What if a new item or a new user shows up? \n",
    "    - You won't have any ratings information for that item or user\n",
    "- Content-based filtering is suitable to predict ratings for new items and new users."
   ]
  },
  {
   "cell_type": "markdown",
   "id": "fb60cd45",
   "metadata": {
    "editable": true,
    "slideshow": {
     "slide_type": "subslide"
    },
    "tags": []
   },
   "source": [
    "### What is content-based filtering? \n",
    "\n",
    "- Content-based filtering is a **supervised machine learning** approach to recommender systems. \n",
    "- In KNN imputation (an example of collaborative filtering) we assumed that we only have ratings data. \n",
    "- Usually there is some information on items and users available.\n",
    "- Examples\n",
    "    - Netflix can describe movies as action, romance, comedy, documentaries.\n",
    "    - Netflix has some demographic and preference information on users.  \n",
    "    - Amazon could describe books according to topics: math, languages, history. \n",
    "    - Tinder could describe people according to age, location, employment.\n",
    "- Can we use this information to predict ratings in the utility matrix?   \n",
    "    - Yes! Using content-based filtering! "
   ]
  },
  {
   "cell_type": "markdown",
   "id": "1ebc7dfa-e96a-403d-b43c-1c0e8613ab63",
   "metadata": {
    "editable": true,
    "slideshow": {
     "slide_type": "subslide"
    },
    "tags": []
   },
   "source": [
    "### Overview \n",
    "\n",
    "In content-based filtering, \n",
    "- We assume that we are given item or user feature. \n",
    "- Given movie information, for instance, we **create user profile for each user**.\n",
    "- We treat ratings prediction problem as **a set of regression problems** and build regression model for each user.\n",
    "- Once we have trained regression models for each user, we **complete the utility matrix by predicting ratings for each user** using their corresponding models. "
   ]
  },
  {
   "cell_type": "markdown",
   "id": "6b65f12e",
   "metadata": {
    "editable": true,
    "slideshow": {
     "slide_type": "subslide"
    },
    "tags": []
   },
   "source": [
    "### Toy example: Movie recommendation\n",
    "\n",
    "- Suppose we also have movie features. In particular, suppose we have information about the genre of each movie. "
   ]
  },
  {
   "cell_type": "markdown",
   "id": "9beb5863",
   "metadata": {
    "editable": true,
    "slideshow": {
     "slide_type": "subslide"
    },
    "tags": []
   },
   "source": [
    "### Movie features"
   ]
  },
  {
   "cell_type": "code",
   "execution_count": 20,
   "id": "d9db6c29",
   "metadata": {
    "editable": true,
    "slideshow": {
     "slide_type": "-"
    },
    "tags": []
   },
   "outputs": [
    {
     "data": {
      "text/html": [
       "<div>\n",
       "<style scoped>\n",
       "    .dataframe tbody tr th:only-of-type {\n",
       "        vertical-align: middle;\n",
       "    }\n",
       "\n",
       "    .dataframe tbody tr th {\n",
       "        vertical-align: top;\n",
       "    }\n",
       "\n",
       "    .dataframe thead th {\n",
       "        text-align: right;\n",
       "    }\n",
       "</style>\n",
       "<table border=\"1\" class=\"dataframe\">\n",
       "  <thead>\n",
       "    <tr style=\"text-align: right;\">\n",
       "      <th></th>\n",
       "      <th>Action</th>\n",
       "      <th>Romance</th>\n",
       "      <th>Drama</th>\n",
       "      <th>Comedy</th>\n",
       "      <th>Children</th>\n",
       "      <th>Documentary</th>\n",
       "    </tr>\n",
       "  </thead>\n",
       "  <tbody>\n",
       "    <tr>\n",
       "      <th>A Beautiful Mind</th>\n",
       "      <td>0</td>\n",
       "      <td>1</td>\n",
       "      <td>1</td>\n",
       "      <td>0</td>\n",
       "      <td>0</td>\n",
       "      <td>0</td>\n",
       "    </tr>\n",
       "    <tr>\n",
       "      <th>Bambi</th>\n",
       "      <td>0</td>\n",
       "      <td>0</td>\n",
       "      <td>1</td>\n",
       "      <td>0</td>\n",
       "      <td>1</td>\n",
       "      <td>0</td>\n",
       "    </tr>\n",
       "    <tr>\n",
       "      <th>Cast Away</th>\n",
       "      <td>0</td>\n",
       "      <td>1</td>\n",
       "      <td>1</td>\n",
       "      <td>0</td>\n",
       "      <td>0</td>\n",
       "      <td>0</td>\n",
       "    </tr>\n",
       "    <tr>\n",
       "      <th>Downfall</th>\n",
       "      <td>0</td>\n",
       "      <td>0</td>\n",
       "      <td>0</td>\n",
       "      <td>0</td>\n",
       "      <td>0</td>\n",
       "      <td>1</td>\n",
       "    </tr>\n",
       "    <tr>\n",
       "      <th>Inception</th>\n",
       "      <td>1</td>\n",
       "      <td>0</td>\n",
       "      <td>1</td>\n",
       "      <td>0</td>\n",
       "      <td>0</td>\n",
       "      <td>0</td>\n",
       "    </tr>\n",
       "  </tbody>\n",
       "</table>\n",
       "</div>"
      ],
      "text/plain": [
       "                  Action  Romance  Drama  Comedy  Children  Documentary\n",
       "A Beautiful Mind  0       1        1      0       0         0          \n",
       "Bambi             0       0        1      0       1         0          \n",
       "Cast Away         0       1        1      0       0         0          \n",
       "Downfall          0       0        0      0       0         1          \n",
       "Inception         1       0        1      0       0         0          "
      ]
     },
     "execution_count": 20,
     "metadata": {},
     "output_type": "execute_result"
    }
   ],
   "source": [
    "movie_feats_df = pd.read_csv(\"../data/toy_movie_feats.csv\", index_col=0)\n",
    "movie_feats_df.head(n=5)"
   ]
  },
  {
   "cell_type": "code",
   "execution_count": 21,
   "id": "ca2ea3c9-a189-411d-98d8-1c402eb3beb7",
   "metadata": {
    "editable": true,
    "slideshow": {
     "slide_type": ""
    },
    "tags": []
   },
   "outputs": [
    {
     "data": {
      "text/plain": [
       "array([[0, 1, 1, 0, 0, 0],\n",
       "       [0, 0, 1, 0, 1, 0],\n",
       "       [0, 1, 1, 0, 0, 0],\n",
       "       [0, 0, 0, 0, 0, 1],\n",
       "       [1, 0, 1, 0, 0, 0],\n",
       "       [0, 1, 1, 1, 0, 0],\n",
       "       [0, 0, 1, 0, 1, 0],\n",
       "       [0, 0, 0, 0, 0, 1],\n",
       "       [0, 0, 0, 0, 0, 1],\n",
       "       [0, 1, 1, 1, 0, 0],\n",
       "       [0, 0, 0, 0, 0, 1],\n",
       "       [0, 1, 1, 0, 0, 0]])"
      ]
     },
     "execution_count": 21,
     "metadata": {},
     "output_type": "execute_result"
    }
   ],
   "source": [
    "Z = movie_feats_df.to_numpy()\n",
    "Z"
   ]
  },
  {
   "cell_type": "markdown",
   "id": "bf6fa930-39fa-451b-800b-b6798a48e83c",
   "metadata": {
    "editable": true,
    "slideshow": {
     "slide_type": "subslide"
    },
    "tags": []
   },
   "source": [
    "- How can we use these features to predict missing ratings? \n",
    "- Using the ratings data and movie features: \n",
    "    - Build **profiles for different users**.\n",
    "    - Train a **supervised machine learning model for each user**.\n",
    "    - Predict ratings using the trained models"
   ]
  },
  {
   "cell_type": "markdown",
   "id": "948f474e-887a-4653-ab25-1136a359ff7f",
   "metadata": {
    "editable": true,
    "slideshow": {
     "slide_type": "subslide"
    },
    "tags": []
   },
   "source": [
    "- Let's consider an example user **Pat**. \n",
    "- We don't know anything about Pat but we know her ratings to movies. "
   ]
  },
  {
   "cell_type": "code",
   "execution_count": 22,
   "id": "ea979340",
   "metadata": {
    "editable": true,
    "slideshow": {
     "slide_type": "subslide"
    },
    "tags": []
   },
   "outputs": [
    {
     "data": {
      "text/plain": [
       "A Beautiful Mind      3.0\n",
       "Bambi                 4.0\n",
       "Cast Away             3.0\n",
       "Downfall              2.0\n",
       "Inception            NaN \n",
       "Jerry Maguire         5.0\n",
       "Lion King             4.0\n",
       "Malcolm x            NaN \n",
       "Man on Wire          NaN \n",
       "Roman Holidays       NaN \n",
       "The Social Dilemma   NaN \n",
       "Titanic               3.0\n",
       "Name: Pat, dtype: float64"
      ]
     },
     "execution_count": 22,
     "metadata": {},
     "output_type": "execute_result"
    }
   ],
   "source": [
    "utility_mat.loc[\"Pat\"]"
   ]
  },
  {
   "cell_type": "markdown",
   "id": "76a21726-844c-4659-a000-28b20ce9e205",
   "metadata": {
    "editable": true,
    "slideshow": {
     "slide_type": "subslide"
    },
    "tags": []
   },
   "source": [
    "- We also know about movies and their features. \n",
    "- If Pat gave a high rating to _Lion King_, it means that she liked the features of the movie. "
   ]
  },
  {
   "cell_type": "code",
   "execution_count": 23,
   "id": "56930bac-2614-4a48-9d54-54ea48253aa7",
   "metadata": {
    "editable": true,
    "slideshow": {
     "slide_type": ""
    },
    "tags": []
   },
   "outputs": [
    {
     "data": {
      "text/plain": [
       "Action         0\n",
       "Romance        0\n",
       "Drama          1\n",
       "Comedy         0\n",
       "Children       1\n",
       "Documentary    0\n",
       "Name: Lion King, dtype: int64"
      ]
     },
     "execution_count": 23,
     "metadata": {},
     "output_type": "execute_result"
    }
   ],
   "source": [
    "movie_feats_df.loc[\"Lion King\"]"
   ]
  },
  {
   "cell_type": "markdown",
   "id": "4b50ee29-c21b-417f-935c-eb9ed9a871f5",
   "metadata": {
    "editable": true,
    "slideshow": {
     "slide_type": "subslide"
    },
    "tags": []
   },
   "source": [
    "### Building user profiles "
   ]
  },
  {
   "cell_type": "markdown",
   "id": "6954c1b4",
   "metadata": {
    "editable": true,
    "slideshow": {
     "slide_type": ""
    },
    "tags": []
   },
   "source": [
    "For each user $i$ create a user profile as follows. \n",
    "\n",
    "- Consider all movies rated by $i$ and create `X` and `y` for the user: \n",
    "    - Each row in `X` contains the movie features of movie $j$ rated by $i$. \n",
    "    - Each value in `y` is the corresponding rating given to the movie $j$ by user $i$. \n",
    "- Fit a regression model using `X` and `y`. \n",
    "- Apply the model to predict ratings for new items! "
   ]
  },
  {
   "cell_type": "markdown",
   "id": "34f96d11-dbbf-4acf-a1f7-e97f75dbc097",
   "metadata": {
    "editable": true,
    "slideshow": {
     "slide_type": "subslide"
    },
    "tags": []
   },
   "source": [
    "### Let's build a profile for Pat"
   ]
  },
  {
   "cell_type": "code",
   "execution_count": 24,
   "id": "f69cf6b1-9861-49ee-80a0-3336784167af",
   "metadata": {
    "editable": true,
    "slideshow": {
     "slide_type": ""
    },
    "tags": []
   },
   "outputs": [
    {
     "data": {
      "text/html": [
       "<div>\n",
       "<style scoped>\n",
       "    .dataframe tbody tr th:only-of-type {\n",
       "        vertical-align: middle;\n",
       "    }\n",
       "\n",
       "    .dataframe tbody tr th {\n",
       "        vertical-align: top;\n",
       "    }\n",
       "\n",
       "    .dataframe thead th {\n",
       "        text-align: right;\n",
       "    }\n",
       "</style>\n",
       "<table border=\"1\" class=\"dataframe\">\n",
       "  <thead>\n",
       "    <tr style=\"text-align: right;\">\n",
       "      <th></th>\n",
       "      <th>movie_id</th>\n",
       "      <th>rating</th>\n",
       "    </tr>\n",
       "  </thead>\n",
       "  <tbody>\n",
       "    <tr>\n",
       "      <th>9</th>\n",
       "      <td>Titanic</td>\n",
       "      <td>3</td>\n",
       "    </tr>\n",
       "    <tr>\n",
       "      <th>10</th>\n",
       "      <td>Lion King</td>\n",
       "      <td>4</td>\n",
       "    </tr>\n",
       "    <tr>\n",
       "      <th>11</th>\n",
       "      <td>Bambi</td>\n",
       "      <td>4</td>\n",
       "    </tr>\n",
       "    <tr>\n",
       "      <th>12</th>\n",
       "      <td>Cast Away</td>\n",
       "      <td>3</td>\n",
       "    </tr>\n",
       "    <tr>\n",
       "      <th>13</th>\n",
       "      <td>Jerry Maguire</td>\n",
       "      <td>5</td>\n",
       "    </tr>\n",
       "    <tr>\n",
       "      <th>14</th>\n",
       "      <td>Downfall</td>\n",
       "      <td>2</td>\n",
       "    </tr>\n",
       "    <tr>\n",
       "      <th>15</th>\n",
       "      <td>A Beautiful Mind</td>\n",
       "      <td>3</td>\n",
       "    </tr>\n",
       "  </tbody>\n",
       "</table>\n",
       "</div>"
      ],
      "text/plain": [
       "            movie_id  rating\n",
       "9   Titanic           3     \n",
       "10  Lion King         4     \n",
       "11  Bambi             4     \n",
       "12  Cast Away         3     \n",
       "13  Jerry Maguire     5     \n",
       "14  Downfall          2     \n",
       "15  A Beautiful Mind  3     "
      ]
     },
     "execution_count": 24,
     "metadata": {},
     "output_type": "execute_result"
    }
   ],
   "source": [
    "movies_rated_by_pat = toy_ratings[toy_ratings['user_id']=='Pat'][['movie_id', 'rating']]\n",
    "movies_rated_by_pat"
   ]
  },
  {
   "cell_type": "code",
   "execution_count": 25,
   "id": "5680e3b6-f75f-46ee-af6b-bbd243c0137e",
   "metadata": {
    "editable": true,
    "slideshow": {
     "slide_type": ""
    },
    "tags": []
   },
   "outputs": [],
   "source": [
    "pat_X = []\n",
    "pat_y = []\n",
    "for (index, val) in movies_rated_by_pat.iterrows():\n",
    "    # Get the id of this movie rated by Pat       \n",
    "    m = item_mapper[val['movie_id']]\n",
    "    # Get the feature vector for the movie \n",
    "    pat_X.append(Z[m])   \n",
    "    # Get the rating for the movie\n",
    "    pat_y.append(val['rating'])"
   ]
  },
  {
   "cell_type": "code",
   "execution_count": 26,
   "id": "0cc659fc-a692-459a-9386-cf39f45397b3",
   "metadata": {
    "editable": true,
    "slideshow": {
     "slide_type": "subslide"
    },
    "tags": []
   },
   "outputs": [
    {
     "data": {
      "text/html": [
       "<div>\n",
       "<style scoped>\n",
       "    .dataframe tbody tr th:only-of-type {\n",
       "        vertical-align: middle;\n",
       "    }\n",
       "\n",
       "    .dataframe tbody tr th {\n",
       "        vertical-align: top;\n",
       "    }\n",
       "\n",
       "    .dataframe thead th {\n",
       "        text-align: right;\n",
       "    }\n",
       "</style>\n",
       "<table border=\"1\" class=\"dataframe\">\n",
       "  <thead>\n",
       "    <tr style=\"text-align: right;\">\n",
       "      <th></th>\n",
       "      <th>Action</th>\n",
       "      <th>Romance</th>\n",
       "      <th>Drama</th>\n",
       "      <th>Comedy</th>\n",
       "      <th>Children</th>\n",
       "      <th>Documentary</th>\n",
       "    </tr>\n",
       "  </thead>\n",
       "  <tbody>\n",
       "    <tr>\n",
       "      <th>Titanic</th>\n",
       "      <td>0</td>\n",
       "      <td>1</td>\n",
       "      <td>1</td>\n",
       "      <td>0</td>\n",
       "      <td>0</td>\n",
       "      <td>0</td>\n",
       "    </tr>\n",
       "    <tr>\n",
       "      <th>Lion King</th>\n",
       "      <td>0</td>\n",
       "      <td>0</td>\n",
       "      <td>1</td>\n",
       "      <td>0</td>\n",
       "      <td>1</td>\n",
       "      <td>0</td>\n",
       "    </tr>\n",
       "    <tr>\n",
       "      <th>Bambi</th>\n",
       "      <td>0</td>\n",
       "      <td>0</td>\n",
       "      <td>1</td>\n",
       "      <td>0</td>\n",
       "      <td>1</td>\n",
       "      <td>0</td>\n",
       "    </tr>\n",
       "    <tr>\n",
       "      <th>Cast Away</th>\n",
       "      <td>0</td>\n",
       "      <td>1</td>\n",
       "      <td>1</td>\n",
       "      <td>0</td>\n",
       "      <td>0</td>\n",
       "      <td>0</td>\n",
       "    </tr>\n",
       "    <tr>\n",
       "      <th>Jerry Maguire</th>\n",
       "      <td>0</td>\n",
       "      <td>1</td>\n",
       "      <td>1</td>\n",
       "      <td>1</td>\n",
       "      <td>0</td>\n",
       "      <td>0</td>\n",
       "    </tr>\n",
       "    <tr>\n",
       "      <th>Downfall</th>\n",
       "      <td>0</td>\n",
       "      <td>0</td>\n",
       "      <td>0</td>\n",
       "      <td>0</td>\n",
       "      <td>0</td>\n",
       "      <td>1</td>\n",
       "    </tr>\n",
       "    <tr>\n",
       "      <th>A Beautiful Mind</th>\n",
       "      <td>0</td>\n",
       "      <td>1</td>\n",
       "      <td>1</td>\n",
       "      <td>0</td>\n",
       "      <td>0</td>\n",
       "      <td>0</td>\n",
       "    </tr>\n",
       "  </tbody>\n",
       "</table>\n",
       "</div>"
      ],
      "text/plain": [
       "                  Action  Romance  Drama  Comedy  Children  Documentary\n",
       "Titanic           0       1        1      0       0         0          \n",
       "Lion King         0       0        1      0       1         0          \n",
       "Bambi             0       0        1      0       1         0          \n",
       "Cast Away         0       1        1      0       0         0          \n",
       "Jerry Maguire     0       1        1      1       0         0          \n",
       "Downfall          0       0        0      0       0         1          \n",
       "A Beautiful Mind  0       1        1      0       0         0          "
      ]
     },
     "execution_count": 26,
     "metadata": {},
     "output_type": "execute_result"
    }
   ],
   "source": [
    "pd.DataFrame(pat_X, index=movies_rated_by_pat['movie_id'].tolist(), columns = movie_feats_df.columns)"
   ]
  },
  {
   "cell_type": "code",
   "execution_count": 27,
   "id": "b2c1e7d1-3666-44e2-87e9-a765f29208a9",
   "metadata": {
    "editable": true,
    "slideshow": {
     "slide_type": "fragment"
    },
    "tags": []
   },
   "outputs": [
    {
     "data": {
      "text/plain": [
       "[3, 4, 4, 3, 5, 2, 3]"
      ]
     },
     "execution_count": 27,
     "metadata": {},
     "output_type": "execute_result"
    }
   ],
   "source": [
    "pat_y"
   ]
  },
  {
   "cell_type": "markdown",
   "id": "91109e29-44cf-44a8-b069-cee863b7a768",
   "metadata": {
    "editable": true,
    "slideshow": {
     "slide_type": "subslide"
    },
    "tags": []
   },
   "source": [
    "Similar to how we created `X` and `y` for Pat above, the function below builds `X` and `y` for all users. "
   ]
  },
  {
   "cell_type": "code",
   "execution_count": 28,
   "id": "837dd916-3f48-486c-b921-33777ecde14a",
   "metadata": {
    "editable": true,
    "slideshow": {
     "slide_type": ""
    },
    "tags": []
   },
   "outputs": [],
   "source": [
    "from collections import defaultdict\n",
    "\n",
    "def get_lr_data_per_user(ratings_df, d):\n",
    "    lr_y = defaultdict(list)\n",
    "    lr_X = defaultdict(list)\n",
    "    lr_items = defaultdict(list)\n",
    "\n",
    "    for index, val in ratings_df.iterrows():\n",
    "        n = user_mapper[val[user_key]]\n",
    "        m = item_mapper[val[item_key]]\n",
    "        lr_X[n].append(Z[m])\n",
    "        lr_y[n].append(val[\"rating\"])\n",
    "        lr_items[n].append(m)\n",
    "\n",
    "    for n in lr_X:\n",
    "        lr_X[n] = np.array(lr_X[n])\n",
    "        lr_y[n] = np.array(lr_y[n])\n",
    "\n",
    "    return lr_X, lr_y, lr_items"
   ]
  },
  {
   "cell_type": "code",
   "execution_count": 29,
   "id": "1c89ca12-eb12-4275-948e-771c10b5987a",
   "metadata": {
    "editable": true,
    "slideshow": {
     "slide_type": "subslide"
    },
    "tags": []
   },
   "outputs": [
    {
     "data": {
      "text/plain": [
       "defaultdict(list,\n",
       "            {3: array([[0, 0, 1, 0, 1, 0],\n",
       "                    [0, 1, 1, 1, 0, 0],\n",
       "                    [0, 1, 1, 1, 0, 0],\n",
       "                    [0, 0, 0, 0, 0, 1]]),\n",
       "             0: array([[0, 1, 1, 0, 0, 0],\n",
       "                    [0, 1, 1, 1, 0, 0],\n",
       "                    [1, 0, 1, 0, 0, 0],\n",
       "                    [0, 0, 0, 0, 0, 1],\n",
       "                    [0, 0, 0, 0, 0, 1]]),\n",
       "             2: array([[0, 1, 1, 0, 0, 0],\n",
       "                    [0, 0, 1, 0, 1, 0],\n",
       "                    [0, 0, 1, 0, 1, 0],\n",
       "                    [0, 1, 1, 0, 0, 0],\n",
       "                    [0, 1, 1, 1, 0, 0],\n",
       "                    [0, 0, 0, 0, 0, 1],\n",
       "                    [0, 1, 1, 0, 0, 0]]),\n",
       "             1: array([[0, 1, 1, 0, 0, 0],\n",
       "                    [0, 0, 1, 0, 1, 0],\n",
       "                    [0, 0, 0, 0, 0, 1],\n",
       "                    [0, 0, 0, 0, 0, 1],\n",
       "                    [0, 0, 0, 0, 0, 1]])})"
      ]
     },
     "execution_count": 29,
     "metadata": {},
     "output_type": "execute_result"
    }
   ],
   "source": [
    "d = movie_feats_df.shape[1]\n",
    "X_train_usr, y_train_usr, rated_items = get_lr_data_per_user(toy_ratings, d)\n",
    "X_train_usr"
   ]
  },
  {
   "cell_type": "markdown",
   "id": "ff26f1f4-1388-4e0e-92ee-0eb655fac950",
   "metadata": {
    "editable": true,
    "slideshow": {
     "slide_type": "fragment"
    },
    "tags": []
   },
   "source": [
    "Do you think the shape of `X` and `y` for all users would be the same?"
   ]
  },
  {
   "cell_type": "markdown",
   "id": "276adb1a-9c0d-465c-98ee-d46411dbd3c8",
   "metadata": {
    "editable": true,
    "slideshow": {
     "slide_type": "subslide"
    },
    "tags": []
   },
   "source": [
    "### Examining user profiles"
   ]
  },
  {
   "cell_type": "code",
   "execution_count": 30,
   "id": "245e4e8a-8b13-41c3-ae5d-45644ce478c7",
   "metadata": {
    "editable": true,
    "slideshow": {
     "slide_type": ""
    },
    "tags": []
   },
   "outputs": [],
   "source": [
    "def get_user_profile(user_name):\n",
    "    X = X_train_usr[user_mapper[user_name]]\n",
    "    y = y_train_usr[user_mapper[user_name]]\n",
    "    items = rated_items[user_mapper[user_name]]\n",
    "    movie_names = [item_inverse_mapper[item] for item in items]\n",
    "    print(\"Profile for user: \", user_name)\n",
    "    profile_df = pd.DataFrame(X, columns=movie_feats_df.columns, index=movie_names)\n",
    "    profile_df[\"ratings\"] = y\n",
    "    return profile_df"
   ]
  },
  {
   "cell_type": "markdown",
   "id": "b167fe91-98c2-42ca-9f41-90fd9e84e7b8",
   "metadata": {
    "editable": true,
    "slideshow": {
     "slide_type": "subslide"
    },
    "tags": []
   },
   "source": [
    "### Pat's profile\n",
    "\n",
    "- Pat seems to like Children's movies and movies with Comedy. \n",
    "- Seems like she's not so much into romantic movies.  "
   ]
  },
  {
   "cell_type": "code",
   "execution_count": 31,
   "id": "73ebc6b2-468c-4054-b05a-bb51d4c3e7b9",
   "metadata": {
    "editable": true,
    "slideshow": {
     "slide_type": ""
    },
    "tags": []
   },
   "outputs": [
    {
     "name": "stdout",
     "output_type": "stream",
     "text": [
      "Profile for user:  Pat\n"
     ]
    },
    {
     "data": {
      "text/html": [
       "<div>\n",
       "<style scoped>\n",
       "    .dataframe tbody tr th:only-of-type {\n",
       "        vertical-align: middle;\n",
       "    }\n",
       "\n",
       "    .dataframe tbody tr th {\n",
       "        vertical-align: top;\n",
       "    }\n",
       "\n",
       "    .dataframe thead th {\n",
       "        text-align: right;\n",
       "    }\n",
       "</style>\n",
       "<table border=\"1\" class=\"dataframe\">\n",
       "  <thead>\n",
       "    <tr style=\"text-align: right;\">\n",
       "      <th></th>\n",
       "      <th>Action</th>\n",
       "      <th>Romance</th>\n",
       "      <th>Drama</th>\n",
       "      <th>Comedy</th>\n",
       "      <th>Children</th>\n",
       "      <th>Documentary</th>\n",
       "      <th>ratings</th>\n",
       "    </tr>\n",
       "  </thead>\n",
       "  <tbody>\n",
       "    <tr>\n",
       "      <th>Titanic</th>\n",
       "      <td>0</td>\n",
       "      <td>1</td>\n",
       "      <td>1</td>\n",
       "      <td>0</td>\n",
       "      <td>0</td>\n",
       "      <td>0</td>\n",
       "      <td>3</td>\n",
       "    </tr>\n",
       "    <tr>\n",
       "      <th>Lion King</th>\n",
       "      <td>0</td>\n",
       "      <td>0</td>\n",
       "      <td>1</td>\n",
       "      <td>0</td>\n",
       "      <td>1</td>\n",
       "      <td>0</td>\n",
       "      <td>4</td>\n",
       "    </tr>\n",
       "    <tr>\n",
       "      <th>Bambi</th>\n",
       "      <td>0</td>\n",
       "      <td>0</td>\n",
       "      <td>1</td>\n",
       "      <td>0</td>\n",
       "      <td>1</td>\n",
       "      <td>0</td>\n",
       "      <td>4</td>\n",
       "    </tr>\n",
       "    <tr>\n",
       "      <th>Cast Away</th>\n",
       "      <td>0</td>\n",
       "      <td>1</td>\n",
       "      <td>1</td>\n",
       "      <td>0</td>\n",
       "      <td>0</td>\n",
       "      <td>0</td>\n",
       "      <td>3</td>\n",
       "    </tr>\n",
       "    <tr>\n",
       "      <th>Jerry Maguire</th>\n",
       "      <td>0</td>\n",
       "      <td>1</td>\n",
       "      <td>1</td>\n",
       "      <td>1</td>\n",
       "      <td>0</td>\n",
       "      <td>0</td>\n",
       "      <td>5</td>\n",
       "    </tr>\n",
       "    <tr>\n",
       "      <th>Downfall</th>\n",
       "      <td>0</td>\n",
       "      <td>0</td>\n",
       "      <td>0</td>\n",
       "      <td>0</td>\n",
       "      <td>0</td>\n",
       "      <td>1</td>\n",
       "      <td>2</td>\n",
       "    </tr>\n",
       "    <tr>\n",
       "      <th>A Beautiful Mind</th>\n",
       "      <td>0</td>\n",
       "      <td>1</td>\n",
       "      <td>1</td>\n",
       "      <td>0</td>\n",
       "      <td>0</td>\n",
       "      <td>0</td>\n",
       "      <td>3</td>\n",
       "    </tr>\n",
       "  </tbody>\n",
       "</table>\n",
       "</div>"
      ],
      "text/plain": [
       "                  Action  Romance  Drama  Comedy  Children  Documentary  \\\n",
       "Titanic           0       1        1      0       0         0             \n",
       "Lion King         0       0        1      0       1         0             \n",
       "Bambi             0       0        1      0       1         0             \n",
       "Cast Away         0       1        1      0       0         0             \n",
       "Jerry Maguire     0       1        1      1       0         0             \n",
       "Downfall          0       0        0      0       0         1             \n",
       "A Beautiful Mind  0       1        1      0       0         0             \n",
       "\n",
       "                  ratings  \n",
       "Titanic           3        \n",
       "Lion King         4        \n",
       "Bambi             4        \n",
       "Cast Away         3        \n",
       "Jerry Maguire     5        \n",
       "Downfall          2        \n",
       "A Beautiful Mind  3        "
      ]
     },
     "execution_count": 31,
     "metadata": {},
     "output_type": "execute_result"
    }
   ],
   "source": [
    "get_user_profile(\"Pat\")"
   ]
  },
  {
   "cell_type": "markdown",
   "id": "c23bdfa6-2045-4750-8c09-7b9336793d48",
   "metadata": {
    "editable": true,
    "slideshow": {
     "slide_type": "subslide"
    },
    "tags": []
   },
   "source": [
    "### Eva's profile\n",
    "\n",
    "- Eva hasn't rated many movies. There are not many rows. \n",
    "- Eva seems to like documentaries and action movies. \n",
    "- Seems like she's not into romantic movies.  "
   ]
  },
  {
   "cell_type": "code",
   "execution_count": 32,
   "id": "c55a9d0f-aaae-46a9-8398-774bfe59e932",
   "metadata": {
    "editable": true,
    "slideshow": {
     "slide_type": ""
    },
    "tags": []
   },
   "outputs": [
    {
     "name": "stdout",
     "output_type": "stream",
     "text": [
      "Profile for user:  Eva\n"
     ]
    },
    {
     "data": {
      "text/html": [
       "<div>\n",
       "<style scoped>\n",
       "    .dataframe tbody tr th:only-of-type {\n",
       "        vertical-align: middle;\n",
       "    }\n",
       "\n",
       "    .dataframe tbody tr th {\n",
       "        vertical-align: top;\n",
       "    }\n",
       "\n",
       "    .dataframe thead th {\n",
       "        text-align: right;\n",
       "    }\n",
       "</style>\n",
       "<table border=\"1\" class=\"dataframe\">\n",
       "  <thead>\n",
       "    <tr style=\"text-align: right;\">\n",
       "      <th></th>\n",
       "      <th>Action</th>\n",
       "      <th>Romance</th>\n",
       "      <th>Drama</th>\n",
       "      <th>Comedy</th>\n",
       "      <th>Children</th>\n",
       "      <th>Documentary</th>\n",
       "      <th>ratings</th>\n",
       "    </tr>\n",
       "  </thead>\n",
       "  <tbody>\n",
       "    <tr>\n",
       "      <th>Titanic</th>\n",
       "      <td>0</td>\n",
       "      <td>1</td>\n",
       "      <td>1</td>\n",
       "      <td>0</td>\n",
       "      <td>0</td>\n",
       "      <td>0</td>\n",
       "      <td>2</td>\n",
       "    </tr>\n",
       "    <tr>\n",
       "      <th>Jerry Maguire</th>\n",
       "      <td>0</td>\n",
       "      <td>1</td>\n",
       "      <td>1</td>\n",
       "      <td>1</td>\n",
       "      <td>0</td>\n",
       "      <td>0</td>\n",
       "      <td>1</td>\n",
       "    </tr>\n",
       "    <tr>\n",
       "      <th>Inception</th>\n",
       "      <td>1</td>\n",
       "      <td>0</td>\n",
       "      <td>1</td>\n",
       "      <td>0</td>\n",
       "      <td>0</td>\n",
       "      <td>0</td>\n",
       "      <td>4</td>\n",
       "    </tr>\n",
       "    <tr>\n",
       "      <th>Man on Wire</th>\n",
       "      <td>0</td>\n",
       "      <td>0</td>\n",
       "      <td>0</td>\n",
       "      <td>0</td>\n",
       "      <td>0</td>\n",
       "      <td>1</td>\n",
       "      <td>5</td>\n",
       "    </tr>\n",
       "    <tr>\n",
       "      <th>The Social Dilemma</th>\n",
       "      <td>0</td>\n",
       "      <td>0</td>\n",
       "      <td>0</td>\n",
       "      <td>0</td>\n",
       "      <td>0</td>\n",
       "      <td>1</td>\n",
       "      <td>5</td>\n",
       "    </tr>\n",
       "  </tbody>\n",
       "</table>\n",
       "</div>"
      ],
      "text/plain": [
       "                    Action  Romance  Drama  Comedy  Children  Documentary  \\\n",
       "Titanic             0       1        1      0       0         0             \n",
       "Jerry Maguire       0       1        1      1       0         0             \n",
       "Inception           1       0        1      0       0         0             \n",
       "Man on Wire         0       0        0      0       0         1             \n",
       "The Social Dilemma  0       0        0      0       0         1             \n",
       "\n",
       "                    ratings  \n",
       "Titanic             2        \n",
       "Jerry Maguire       1        \n",
       "Inception           4        \n",
       "Man on Wire         5        \n",
       "The Social Dilemma  5        "
      ]
     },
     "execution_count": 32,
     "metadata": {},
     "output_type": "execute_result"
    }
   ],
   "source": [
    "get_user_profile(\"Eva\")"
   ]
  },
  {
   "cell_type": "markdown",
   "id": "74dca9cb-4fb5-49b0-ba1d-3cfb728c7e0e",
   "metadata": {
    "editable": true,
    "slideshow": {
     "slide_type": "slide"
    },
    "tags": []
   },
   "source": [
    "### Supervised approach to rating prediction"
   ]
  },
  {
   "cell_type": "markdown",
   "id": "e1a53612-f485-46a4-a5de-010f33c03e40",
   "metadata": {
    "editable": true,
    "slideshow": {
     "slide_type": ""
    },
    "tags": []
   },
   "source": [
    "Given `X` and `y` for each user, we can now build a regression model for each user. "
   ]
  },
  {
   "cell_type": "code",
   "execution_count": 33,
   "id": "943ed265-c3d2-45fd-97f7-c7ef5fbfb329",
   "metadata": {
    "editable": true,
    "slideshow": {
     "slide_type": ""
    },
    "tags": []
   },
   "outputs": [],
   "source": [
    "from sklearn.linear_model import Ridge\n",
    "\n",
    "\n",
    "def train_for_usr(user_name, model=Ridge()):\n",
    "    X = X_train_usr[user_mapper[user_name]]\n",
    "    y = y_train_usr[user_mapper[user_name]]\n",
    "    model.fit(X, y)\n",
    "    return model\n",
    "\n",
    "\n",
    "def predict_for_usr(model, movie_names):\n",
    "    feat_vecs = movie_feats_df.loc[movie_names].values\n",
    "    preds = model.predict(feat_vecs)\n",
    "    return preds"
   ]
  },
  {
   "cell_type": "markdown",
   "id": "5a7ac1ba-18ed-4fcc-9418-59c9780d2bcf",
   "metadata": {
    "editable": true,
    "slideshow": {
     "slide_type": "subslide"
    },
    "tags": []
   },
   "source": [
    "### A regression model for Pat"
   ]
  },
  {
   "cell_type": "code",
   "execution_count": 34,
   "id": "15df0ea8-0378-4d92-82f0-a3c960ce7812",
   "metadata": {
    "editable": true,
    "slideshow": {
     "slide_type": ""
    },
    "tags": []
   },
   "outputs": [],
   "source": [
    "user_name = \"Pat\"\n",
    "pat_model = train_for_usr(user_name)"
   ]
  },
  {
   "cell_type": "code",
   "execution_count": 35,
   "id": "d4edcb34-0107-48f2-bac3-e44e0889b251",
   "metadata": {
    "editable": true,
    "slideshow": {
     "slide_type": "fragment"
    },
    "tags": []
   },
   "outputs": [
    {
     "data": {
      "text/html": [
       "<div>\n",
       "<style scoped>\n",
       "    .dataframe tbody tr th:only-of-type {\n",
       "        vertical-align: middle;\n",
       "    }\n",
       "\n",
       "    .dataframe tbody tr th {\n",
       "        vertical-align: top;\n",
       "    }\n",
       "\n",
       "    .dataframe thead th {\n",
       "        text-align: right;\n",
       "    }\n",
       "</style>\n",
       "<table border=\"1\" class=\"dataframe\">\n",
       "  <thead>\n",
       "    <tr style=\"text-align: right;\">\n",
       "      <th></th>\n",
       "      <th>Coefficients for Pat</th>\n",
       "    </tr>\n",
       "  </thead>\n",
       "  <tbody>\n",
       "    <tr>\n",
       "      <th>Action</th>\n",
       "      <td>0.000000</td>\n",
       "    </tr>\n",
       "    <tr>\n",
       "      <th>Romance</th>\n",
       "      <td>-0.020833</td>\n",
       "    </tr>\n",
       "    <tr>\n",
       "      <th>Drama</th>\n",
       "      <td>0.437500</td>\n",
       "    </tr>\n",
       "    <tr>\n",
       "      <th>Comedy</th>\n",
       "      <td>0.854167</td>\n",
       "    </tr>\n",
       "    <tr>\n",
       "      <th>Children</th>\n",
       "      <td>0.458333</td>\n",
       "    </tr>\n",
       "    <tr>\n",
       "      <th>Documentary</th>\n",
       "      <td>-0.437500</td>\n",
       "    </tr>\n",
       "  </tbody>\n",
       "</table>\n",
       "</div>"
      ],
      "text/plain": [
       "             Coefficients for Pat\n",
       "Action       0.000000            \n",
       "Romance     -0.020833            \n",
       "Drama        0.437500            \n",
       "Comedy       0.854167            \n",
       "Children     0.458333            \n",
       "Documentary -0.437500            "
      ]
     },
     "execution_count": 35,
     "metadata": {},
     "output_type": "execute_result"
    }
   ],
   "source": [
    "col = \"Coefficients for %s\" % user_name\n",
    "pd.DataFrame(pat_model.coef_, index=movie_feats_df.columns, columns=[col])"
   ]
  },
  {
   "cell_type": "markdown",
   "id": "4c5628ba-8275-4a7b-a8cd-a8a726d47b9f",
   "metadata": {
    "editable": true,
    "slideshow": {
     "slide_type": "subslide"
    },
    "tags": []
   },
   "source": [
    "### Predicting ratings for Pat"
   ]
  },
  {
   "cell_type": "code",
   "execution_count": 36,
   "id": "c12623a7-a485-4a47-8b8a-23dcd1050e7f",
   "metadata": {
    "editable": true,
    "slideshow": {
     "slide_type": ""
    },
    "tags": []
   },
   "outputs": [
    {
     "data": {
      "text/html": [
       "<div>\n",
       "<style scoped>\n",
       "    .dataframe tbody tr th:only-of-type {\n",
       "        vertical-align: middle;\n",
       "    }\n",
       "\n",
       "    .dataframe tbody tr th {\n",
       "        vertical-align: top;\n",
       "    }\n",
       "\n",
       "    .dataframe thead th {\n",
       "        text-align: right;\n",
       "    }\n",
       "</style>\n",
       "<table border=\"1\" class=\"dataframe\">\n",
       "  <thead>\n",
       "    <tr style=\"text-align: right;\">\n",
       "      <th></th>\n",
       "      <th>Action</th>\n",
       "      <th>Romance</th>\n",
       "      <th>Drama</th>\n",
       "      <th>Comedy</th>\n",
       "      <th>Children</th>\n",
       "      <th>Documentary</th>\n",
       "    </tr>\n",
       "  </thead>\n",
       "  <tbody>\n",
       "    <tr>\n",
       "      <th>Roman Holidays</th>\n",
       "      <td>0</td>\n",
       "      <td>1</td>\n",
       "      <td>1</td>\n",
       "      <td>1</td>\n",
       "      <td>0</td>\n",
       "      <td>0</td>\n",
       "    </tr>\n",
       "    <tr>\n",
       "      <th>Malcolm x</th>\n",
       "      <td>0</td>\n",
       "      <td>0</td>\n",
       "      <td>0</td>\n",
       "      <td>0</td>\n",
       "      <td>0</td>\n",
       "      <td>1</td>\n",
       "    </tr>\n",
       "  </tbody>\n",
       "</table>\n",
       "</div>"
      ],
      "text/plain": [
       "                Action  Romance  Drama  Comedy  Children  Documentary\n",
       "Roman Holidays  0       1        1      1       0         0          \n",
       "Malcolm x       0       0        0      0       0         1          "
      ]
     },
     "execution_count": 36,
     "metadata": {},
     "output_type": "execute_result"
    }
   ],
   "source": [
    "movies_to_pred = [\"Roman Holidays\", \"Malcolm x\"]\n",
    "pred_df = movie_feats_df.loc[movies_to_pred]\n",
    "pred_df"
   ]
  },
  {
   "cell_type": "code",
   "execution_count": 37,
   "id": "05d24a79-606c-4f6f-9da5-279670ea32cc",
   "metadata": {
    "editable": true,
    "slideshow": {
     "slide_type": "fragment"
    },
    "tags": []
   },
   "outputs": [
    {
     "data": {
      "text/html": [
       "<div>\n",
       "<style scoped>\n",
       "    .dataframe tbody tr th:only-of-type {\n",
       "        vertical-align: middle;\n",
       "    }\n",
       "\n",
       "    .dataframe tbody tr th {\n",
       "        vertical-align: top;\n",
       "    }\n",
       "\n",
       "    .dataframe thead th {\n",
       "        text-align: right;\n",
       "    }\n",
       "</style>\n",
       "<table border=\"1\" class=\"dataframe\">\n",
       "  <thead>\n",
       "    <tr style=\"text-align: right;\">\n",
       "      <th></th>\n",
       "      <th>Action</th>\n",
       "      <th>Romance</th>\n",
       "      <th>Drama</th>\n",
       "      <th>Comedy</th>\n",
       "      <th>Children</th>\n",
       "      <th>Documentary</th>\n",
       "      <th>Pat's predicted ratings</th>\n",
       "    </tr>\n",
       "  </thead>\n",
       "  <tbody>\n",
       "    <tr>\n",
       "      <th>Roman Holidays</th>\n",
       "      <td>0</td>\n",
       "      <td>1</td>\n",
       "      <td>1</td>\n",
       "      <td>1</td>\n",
       "      <td>0</td>\n",
       "      <td>0</td>\n",
       "      <td>4.145833</td>\n",
       "    </tr>\n",
       "    <tr>\n",
       "      <th>Malcolm x</th>\n",
       "      <td>0</td>\n",
       "      <td>0</td>\n",
       "      <td>0</td>\n",
       "      <td>0</td>\n",
       "      <td>0</td>\n",
       "      <td>1</td>\n",
       "      <td>2.437500</td>\n",
       "    </tr>\n",
       "  </tbody>\n",
       "</table>\n",
       "</div>"
      ],
      "text/plain": [
       "                Action  Romance  Drama  Comedy  Children  Documentary  \\\n",
       "Roman Holidays  0       1        1      1       0         0             \n",
       "Malcolm x       0       0        0      0       0         1             \n",
       "\n",
       "                Pat's predicted ratings  \n",
       "Roman Holidays  4.145833                 \n",
       "Malcolm x       2.437500                 "
      ]
     },
     "execution_count": 37,
     "metadata": {},
     "output_type": "execute_result"
    }
   ],
   "source": [
    "user_name = \"Pat\"\n",
    "preds = predict_for_usr(pat_model, movies_to_pred)\n",
    "pred_df[user_name + \"'s predicted ratings\"] = preds\n",
    "pred_df"
   ]
  },
  {
   "cell_type": "markdown",
   "id": "47fcdd1c-533b-4be1-805f-6284ff93844b",
   "metadata": {
    "editable": true,
    "slideshow": {
     "slide_type": "subslide"
    },
    "tags": []
   },
   "source": [
    "### A regression model for Eva"
   ]
  },
  {
   "cell_type": "code",
   "execution_count": 38,
   "id": "0e3370fe-1e97-4056-a75f-36a8c6965ff8",
   "metadata": {
    "editable": true,
    "slideshow": {
     "slide_type": ""
    },
    "tags": []
   },
   "outputs": [
    {
     "data": {
      "text/html": [
       "<div>\n",
       "<style scoped>\n",
       "    .dataframe tbody tr th:only-of-type {\n",
       "        vertical-align: middle;\n",
       "    }\n",
       "\n",
       "    .dataframe tbody tr th {\n",
       "        vertical-align: top;\n",
       "    }\n",
       "\n",
       "    .dataframe thead th {\n",
       "        text-align: right;\n",
       "    }\n",
       "</style>\n",
       "<table border=\"1\" class=\"dataframe\">\n",
       "  <thead>\n",
       "    <tr style=\"text-align: right;\">\n",
       "      <th></th>\n",
       "      <th>Coefficients for Eva</th>\n",
       "    </tr>\n",
       "  </thead>\n",
       "  <tbody>\n",
       "    <tr>\n",
       "      <th>Action</th>\n",
       "      <td>0.333333</td>\n",
       "    </tr>\n",
       "    <tr>\n",
       "      <th>Romance</th>\n",
       "      <td>-1.000000</td>\n",
       "    </tr>\n",
       "    <tr>\n",
       "      <th>Drama</th>\n",
       "      <td>-0.666667</td>\n",
       "    </tr>\n",
       "    <tr>\n",
       "      <th>Comedy</th>\n",
       "      <td>-0.666667</td>\n",
       "    </tr>\n",
       "    <tr>\n",
       "      <th>Children</th>\n",
       "      <td>0.000000</td>\n",
       "    </tr>\n",
       "    <tr>\n",
       "      <th>Documentary</th>\n",
       "      <td>0.666667</td>\n",
       "    </tr>\n",
       "  </tbody>\n",
       "</table>\n",
       "</div>"
      ],
      "text/plain": [
       "             Coefficients for Eva\n",
       "Action       0.333333            \n",
       "Romance     -1.000000            \n",
       "Drama       -0.666667            \n",
       "Comedy      -0.666667            \n",
       "Children     0.000000            \n",
       "Documentary  0.666667            "
      ]
     },
     "execution_count": 38,
     "metadata": {},
     "output_type": "execute_result"
    }
   ],
   "source": [
    "user_name = \"Eva\"\n",
    "eva_model = train_for_usr(user_name)\n",
    "col = \"Coefficients for %s\" % user_name\n",
    "pd.DataFrame(eva_model.coef_, index=movie_feats_df.columns, columns=[col])"
   ]
  },
  {
   "cell_type": "markdown",
   "id": "c734f297-23c2-48e9-8b24-13f5fea71421",
   "metadata": {
    "editable": true,
    "slideshow": {
     "slide_type": "subslide"
    },
    "tags": []
   },
   "source": [
    "### Predicting ratings for Eva"
   ]
  },
  {
   "cell_type": "code",
   "execution_count": 39,
   "id": "30f0eb72-b127-4fef-aaea-96056d888920",
   "metadata": {
    "editable": true,
    "slideshow": {
     "slide_type": ""
    },
    "tags": []
   },
   "outputs": [
    {
     "data": {
      "text/html": [
       "<div>\n",
       "<style scoped>\n",
       "    .dataframe tbody tr th:only-of-type {\n",
       "        vertical-align: middle;\n",
       "    }\n",
       "\n",
       "    .dataframe tbody tr th {\n",
       "        vertical-align: top;\n",
       "    }\n",
       "\n",
       "    .dataframe thead th {\n",
       "        text-align: right;\n",
       "    }\n",
       "</style>\n",
       "<table border=\"1\" class=\"dataframe\">\n",
       "  <thead>\n",
       "    <tr style=\"text-align: right;\">\n",
       "      <th></th>\n",
       "      <th>Action</th>\n",
       "      <th>Romance</th>\n",
       "      <th>Drama</th>\n",
       "      <th>Comedy</th>\n",
       "      <th>Children</th>\n",
       "      <th>Documentary</th>\n",
       "      <th>Pat's predicted ratings</th>\n",
       "      <th>Eva's predicted ratings</th>\n",
       "    </tr>\n",
       "  </thead>\n",
       "  <tbody>\n",
       "    <tr>\n",
       "      <th>Roman Holidays</th>\n",
       "      <td>0</td>\n",
       "      <td>1</td>\n",
       "      <td>1</td>\n",
       "      <td>1</td>\n",
       "      <td>0</td>\n",
       "      <td>0</td>\n",
       "      <td>4.145833</td>\n",
       "      <td>1.666667</td>\n",
       "    </tr>\n",
       "    <tr>\n",
       "      <th>Malcolm x</th>\n",
       "      <td>0</td>\n",
       "      <td>0</td>\n",
       "      <td>0</td>\n",
       "      <td>0</td>\n",
       "      <td>0</td>\n",
       "      <td>1</td>\n",
       "      <td>2.437500</td>\n",
       "      <td>4.666667</td>\n",
       "    </tr>\n",
       "  </tbody>\n",
       "</table>\n",
       "</div>"
      ],
      "text/plain": [
       "                Action  Romance  Drama  Comedy  Children  Documentary  \\\n",
       "Roman Holidays  0       1        1      1       0         0             \n",
       "Malcolm x       0       0        0      0       0         1             \n",
       "\n",
       "                Pat's predicted ratings  Eva's predicted ratings  \n",
       "Roman Holidays  4.145833                 1.666667                 \n",
       "Malcolm x       2.437500                 4.666667                 "
      ]
     },
     "execution_count": 39,
     "metadata": {},
     "output_type": "execute_result"
    }
   ],
   "source": [
    "user_name = \"Eva\"\n",
    "preds = predict_for_usr(eva_model, movies_to_pred)\n",
    "pred_df[user_name + \"'s predicted ratings\"] = preds\n",
    "pred_df"
   ]
  },
  {
   "cell_type": "markdown",
   "id": "c0dfeb13-5d8b-41fe-a470-9ecef1c57319",
   "metadata": {
    "editable": true,
    "slideshow": {
     "slide_type": "fragment"
    },
    "tags": []
   },
   "source": [
    "The scores seem to be from 1-5. Are our predictions guaranteed to be?"
   ]
  },
  {
   "cell_type": "markdown",
   "id": "c03d5d7f-4f2e-4963-a06d-3eae029af865",
   "metadata": {
    "editable": true,
    "slideshow": {
     "slide_type": "slide"
    },
    "tags": []
   },
   "source": [
    "### Completing the utility matrix with content-based filtering\n",
    "\n",
    "Here is the original utility matrix.  "
   ]
  },
  {
   "cell_type": "code",
   "execution_count": 40,
   "id": "6ba16313-dfa7-464e-b318-ab8055c47079",
   "metadata": {
    "editable": true,
    "slideshow": {
     "slide_type": ""
    },
    "tags": []
   },
   "outputs": [
    {
     "data": {
      "text/html": [
       "<div>\n",
       "<style scoped>\n",
       "    .dataframe tbody tr th:only-of-type {\n",
       "        vertical-align: middle;\n",
       "    }\n",
       "\n",
       "    .dataframe tbody tr th {\n",
       "        vertical-align: top;\n",
       "    }\n",
       "\n",
       "    .dataframe thead th {\n",
       "        text-align: right;\n",
       "    }\n",
       "</style>\n",
       "<table border=\"1\" class=\"dataframe\">\n",
       "  <thead>\n",
       "    <tr style=\"text-align: right;\">\n",
       "      <th></th>\n",
       "      <th>A Beautiful Mind</th>\n",
       "      <th>Bambi</th>\n",
       "      <th>Cast Away</th>\n",
       "      <th>Downfall</th>\n",
       "      <th>Inception</th>\n",
       "      <th>Jerry Maguire</th>\n",
       "      <th>Lion King</th>\n",
       "      <th>Malcolm x</th>\n",
       "      <th>Man on Wire</th>\n",
       "      <th>Roman Holidays</th>\n",
       "      <th>The Social Dilemma</th>\n",
       "      <th>Titanic</th>\n",
       "    </tr>\n",
       "  </thead>\n",
       "  <tbody>\n",
       "    <tr>\n",
       "      <th>Eva</th>\n",
       "      <td>NaN</td>\n",
       "      <td>NaN</td>\n",
       "      <td>NaN</td>\n",
       "      <td>NaN</td>\n",
       "      <td>4.0</td>\n",
       "      <td>1.0</td>\n",
       "      <td>NaN</td>\n",
       "      <td>NaN</td>\n",
       "      <td>5.0</td>\n",
       "      <td>NaN</td>\n",
       "      <td>5.0</td>\n",
       "      <td>2.0</td>\n",
       "    </tr>\n",
       "    <tr>\n",
       "      <th>Jim</th>\n",
       "      <td>NaN</td>\n",
       "      <td>NaN</td>\n",
       "      <td>NaN</td>\n",
       "      <td>NaN</td>\n",
       "      <td>NaN</td>\n",
       "      <td>NaN</td>\n",
       "      <td>3.0</td>\n",
       "      <td>4.0</td>\n",
       "      <td>5.0</td>\n",
       "      <td>NaN</td>\n",
       "      <td>5.0</td>\n",
       "      <td>2.0</td>\n",
       "    </tr>\n",
       "    <tr>\n",
       "      <th>Pat</th>\n",
       "      <td>3.0</td>\n",
       "      <td>4.0</td>\n",
       "      <td>3.0</td>\n",
       "      <td>2.0</td>\n",
       "      <td>NaN</td>\n",
       "      <td>5.0</td>\n",
       "      <td>4.0</td>\n",
       "      <td>NaN</td>\n",
       "      <td>NaN</td>\n",
       "      <td>NaN</td>\n",
       "      <td>NaN</td>\n",
       "      <td>3.0</td>\n",
       "    </tr>\n",
       "    <tr>\n",
       "      <th>Sam</th>\n",
       "      <td>NaN</td>\n",
       "      <td>NaN</td>\n",
       "      <td>NaN</td>\n",
       "      <td>1.0</td>\n",
       "      <td>NaN</td>\n",
       "      <td>4.0</td>\n",
       "      <td>4.0</td>\n",
       "      <td>NaN</td>\n",
       "      <td>NaN</td>\n",
       "      <td>5.0</td>\n",
       "      <td>NaN</td>\n",
       "      <td>NaN</td>\n",
       "    </tr>\n",
       "  </tbody>\n",
       "</table>\n",
       "</div>"
      ],
      "text/plain": [
       "     A Beautiful Mind  Bambi  Cast Away  Downfall  Inception  Jerry Maguire  \\\n",
       "Eva NaN               NaN    NaN        NaN        4.0        1.0             \n",
       "Jim NaN               NaN    NaN        NaN       NaN        NaN              \n",
       "Pat  3.0               4.0    3.0        2.0      NaN         5.0             \n",
       "Sam NaN               NaN    NaN         1.0      NaN         4.0             \n",
       "\n",
       "     Lion King  Malcolm x  Man on Wire  Roman Holidays  The Social Dilemma  \\\n",
       "Eva NaN        NaN         5.0         NaN              5.0                  \n",
       "Jim  3.0        4.0        5.0         NaN              5.0                  \n",
       "Pat  4.0       NaN        NaN          NaN             NaN                   \n",
       "Sam  4.0       NaN        NaN           5.0            NaN                   \n",
       "\n",
       "     Titanic  \n",
       "Eva  2.0      \n",
       "Jim  2.0      \n",
       "Pat  3.0      \n",
       "Sam NaN       "
      ]
     },
     "execution_count": 40,
     "metadata": {},
     "output_type": "execute_result"
    }
   ],
   "source": [
    "utility_mat"
   ]
  },
  {
   "cell_type": "markdown",
   "id": "51ec26b4-cdfe-4749-95ac-9bc453229b43",
   "metadata": {
    "editable": true,
    "slideshow": {
     "slide_type": "subslide"
    },
    "tags": []
   },
   "source": [
    "### Filling int the matrix"
   ]
  },
  {
   "cell_type": "code",
   "execution_count": 41,
   "id": "3fa7dec4-5834-40d9-befd-17f801339d10",
   "metadata": {
    "editable": true,
    "slideshow": {
     "slide_type": ""
    },
    "tags": []
   },
   "outputs": [
    {
     "data": {
      "text/html": [
       "<div>\n",
       "<style scoped>\n",
       "    .dataframe tbody tr th:only-of-type {\n",
       "        vertical-align: middle;\n",
       "    }\n",
       "\n",
       "    .dataframe tbody tr th {\n",
       "        vertical-align: top;\n",
       "    }\n",
       "\n",
       "    .dataframe thead th {\n",
       "        text-align: right;\n",
       "    }\n",
       "</style>\n",
       "<table border=\"1\" class=\"dataframe\">\n",
       "  <thead>\n",
       "    <tr style=\"text-align: right;\">\n",
       "      <th></th>\n",
       "      <th>A Beautiful Mind</th>\n",
       "      <th>Bambi</th>\n",
       "      <th>Cast Away</th>\n",
       "      <th>Downfall</th>\n",
       "      <th>Inception</th>\n",
       "      <th>Jerry Maguire</th>\n",
       "      <th>Lion King</th>\n",
       "      <th>Malcolm x</th>\n",
       "      <th>Man on Wire</th>\n",
       "      <th>Roman Holidays</th>\n",
       "      <th>The Social Dilemma</th>\n",
       "      <th>Titanic</th>\n",
       "    </tr>\n",
       "  </thead>\n",
       "  <tbody>\n",
       "    <tr>\n",
       "      <th>Eva</th>\n",
       "      <td>2.333333</td>\n",
       "      <td>3.333333</td>\n",
       "      <td>2.333333</td>\n",
       "      <td>4.666667</td>\n",
       "      <td>3.666667</td>\n",
       "      <td>1.666667</td>\n",
       "      <td>3.333333</td>\n",
       "      <td>4.666667</td>\n",
       "      <td>4.666667</td>\n",
       "      <td>1.666667</td>\n",
       "      <td>4.666667</td>\n",
       "      <td>2.333333</td>\n",
       "    </tr>\n",
       "    <tr>\n",
       "      <th>Jim</th>\n",
       "      <td>2.575000</td>\n",
       "      <td>3.075000</td>\n",
       "      <td>2.575000</td>\n",
       "      <td>4.450000</td>\n",
       "      <td>3.150000</td>\n",
       "      <td>2.575000</td>\n",
       "      <td>3.075000</td>\n",
       "      <td>4.450000</td>\n",
       "      <td>4.450000</td>\n",
       "      <td>2.575000</td>\n",
       "      <td>4.450000</td>\n",
       "      <td>2.575000</td>\n",
       "    </tr>\n",
       "    <tr>\n",
       "      <th>Pat</th>\n",
       "      <td>3.291667</td>\n",
       "      <td>3.770833</td>\n",
       "      <td>3.291667</td>\n",
       "      <td>2.437500</td>\n",
       "      <td>3.312500</td>\n",
       "      <td>4.145833</td>\n",
       "      <td>3.770833</td>\n",
       "      <td>2.437500</td>\n",
       "      <td>2.437500</td>\n",
       "      <td>4.145833</td>\n",
       "      <td>2.437500</td>\n",
       "      <td>3.291667</td>\n",
       "    </tr>\n",
       "    <tr>\n",
       "      <th>Sam</th>\n",
       "      <td>3.810811</td>\n",
       "      <td>3.675676</td>\n",
       "      <td>3.810811</td>\n",
       "      <td>1.783784</td>\n",
       "      <td>3.351351</td>\n",
       "      <td>4.270270</td>\n",
       "      <td>3.675676</td>\n",
       "      <td>1.783784</td>\n",
       "      <td>1.783784</td>\n",
       "      <td>4.270270</td>\n",
       "      <td>1.783784</td>\n",
       "      <td>3.810811</td>\n",
       "    </tr>\n",
       "  </tbody>\n",
       "</table>\n",
       "</div>"
      ],
      "text/plain": [
       "     A Beautiful Mind     Bambi  Cast Away  Downfall  Inception  \\\n",
       "Eva  2.333333          3.333333  2.333333   4.666667  3.666667    \n",
       "Jim  2.575000          3.075000  2.575000   4.450000  3.150000    \n",
       "Pat  3.291667          3.770833  3.291667   2.437500  3.312500    \n",
       "Sam  3.810811          3.675676  3.810811   1.783784  3.351351    \n",
       "\n",
       "     Jerry Maguire  Lion King  Malcolm x  Man on Wire  Roman Holidays  \\\n",
       "Eva  1.666667       3.333333   4.666667   4.666667     1.666667         \n",
       "Jim  2.575000       3.075000   4.450000   4.450000     2.575000         \n",
       "Pat  4.145833       3.770833   2.437500   2.437500     4.145833         \n",
       "Sam  4.270270       3.675676   1.783784   1.783784     4.270270         \n",
       "\n",
       "     The Social Dilemma   Titanic  \n",
       "Eva  4.666667            2.333333  \n",
       "Jim  4.450000            2.575000  \n",
       "Pat  2.437500            3.291667  \n",
       "Sam  1.783784            3.810811  "
      ]
     },
     "execution_count": 41,
     "metadata": {},
     "output_type": "execute_result"
    }
   ],
   "source": [
    "from sklearn.linear_model import Ridge\n",
    "\n",
    "models = dict()\n",
    "pred_lin_reg = np.zeros((N, M))\n",
    "\n",
    "for n in range(N):\n",
    "    models[n] = Ridge()\n",
    "    models[n].fit(X_train_usr[n], y_train_usr[n])\n",
    "    pred_lin_reg[n] = models[n].predict(Z)\n",
    "pd.DataFrame(pred_lin_reg, columns=item_mapper.keys(), index=user_mapper.keys())    "
   ]
  },
  {
   "cell_type": "markdown",
   "id": "00dc2707-ee26-4641-9dcf-9a182d80f2f6",
   "metadata": {
    "editable": true,
    "slideshow": {
     "slide_type": "subslide"
    },
    "tags": []
   },
   "source": [
    "- In this toy example, we assumed access to item features. Frequently, we also have access to user features, including demographic information.\n",
    "\n",
    "- With this data, we can construct item profiles similar to user profiles and train a unique regression model for each item.\n",
    "\n",
    "- These models enable us to predict ratings for each item individually.\n",
    "\n",
    "- Typically, the final rating is derived from a weighted average that combines the ratings suggested by both item features and user features."
   ]
  },
  {
   "cell_type": "markdown",
   "id": "4d4ab6a3-bd8b-434c-934b-d6034e55647c",
   "metadata": {
    "editable": true,
    "slideshow": {
     "slide_type": "slide"
    },
    "tags": []
   },
   "source": [
    "## Miscellaneous comments on content-based filtering"
   ]
  },
  {
   "cell_type": "markdown",
   "id": "6df1b659-47bf-4252-81b2-fa27f65d39b2",
   "metadata": {
    "editable": true,
    "slideshow": {
     "slide_type": "subslide"
    },
    "tags": []
   },
   "source": [
    "### Fine-tuning your regression models\n",
    "\n",
    "- The feature matrix for movies can contain different types of features.\n",
    "    - Example: Plot of the movie (text features), actors (categorical features), year of the movie, budget and revenue of the movie (numerical features). \n",
    "    - You'll apply our usual preprocessing techniques to these features. \n",
    "- If you have enough data, you could also carry out hyperparameter tuning with cross-validation for each model.\n",
    "- Finally, although we have been talking about linear models above, you can use any regression model of your choice. "
   ]
  },
  {
   "cell_type": "markdown",
   "id": "52cbf1cc-d5f4-4cf3-b86f-4374aeeb7538",
   "metadata": {
    "editable": true,
    "slideshow": {
     "slide_type": "subslide"
    },
    "tags": []
   },
   "source": [
    "### Advantages of content-based filtering\n",
    "\n",
    "- We don't need many users to provide ratings for an item. \n",
    "- Each user is modeled separately, so you might be able to capture uniqueness of taste. \n",
    "- Since you can obtain the features of the items, you can immediately recommend new items. \n",
    "    - This would not have been possible with collaborative filtering. \n",
    "- Recommendations are more interpretable (if you use linear models)\n",
    "    - You can explain to the user why you are recommending an item because you have learned weights."
   ]
  },
  {
   "cell_type": "markdown",
   "id": "886972a8-1932-4e5c-b039-1d0b53bb4a37",
   "metadata": {
    "editable": true,
    "slideshow": {
     "slide_type": "subslide"
    },
    "tags": []
   },
   "source": [
    "### Disadvantages of content-based filtering\n",
    "\n",
    "- Feature acquisition and feature engineering\n",
    "    - What features should we use to explain the difference in ratings? \n",
    "    - Obtaining those features for each item might be very expensive. \n",
    "- Less diversity: hardly recommend an item outside the user's profile. "
   ]
  },
  {
   "cell_type": "markdown",
   "id": "f9c14797-9cc8-452d-96fa-81b5264c92db",
   "metadata": {
    "editable": true,
    "slideshow": {
     "slide_type": "slide"
    },
    "tags": []
   },
   "source": [
    "### Exercise 17.2 Select all of the following statements which are **True** (iClicker)\n",
    "\n",
    "- (A) In content-based filtering we leverage available item features in addition to similarity between users.\n",
    "- (B) In content-based filtering you represent each user in terms of **known** features of items.\n",
    "- (C) In the set up of content-based filtering we discussed, if you have a new movie, you would have problems predicting ratings for that movie. \n",
    "- (D) In content-based filtering if a user has a number of ratings in the training utility matrix but does not have any ratings in the validation utility matrix then we won't be able to calculate RMSE for the validation utility matrix.\n",
    "<br><br><br><br>"
   ]
  },
  {
   "cell_type": "markdown",
   "id": "55ae81cf-9496-4352-b67c-6bda2c8d2b9a",
   "metadata": {
    "editable": true,
    "slideshow": {
     "slide_type": "slide"
    },
    "tags": []
   },
   "source": [
    "## Beyond error rate in recommendation systems \n",
    "\n",
    "- If a system gives the best RMSE it doesn't necessarily mean that it's going to give best recommendations. \n",
    "- In recommendation systems we do not have ground truth in the sense that there is no notion of \"perfect\" recommendations. \n",
    "- Training your model and evaluating it offline is not ideal. \n",
    "- Other aspects such as simplicity, interpretation, code maintainability are equally (if not more) important than best validation error. \n",
    "- Winning system of Netflix Challenge was never adopted.\n",
    "    - Big mess of ensembles was not really maintainable \n",
    "- There are other considerations. "
   ]
  },
  {
   "cell_type": "markdown",
   "id": "d7c16607-fbd9-42a9-9790-dcd52880be6b",
   "metadata": {
    "editable": true,
    "slideshow": {
     "slide_type": "subslide"
    },
    "tags": []
   },
   "source": [
    "### Diversity \n",
    "\n",
    "Are these good recommendations? \n",
    "\n",
    "You are looking at [Education Solar Robot Toy](https://www.amazon.ca/Sillbird-Education-Building-Science-Experiment/dp/B07XRN6TJ8), are these good recommendations? \n",
    "\n",
    "![](../img/reco-diversity.png)"
   ]
  },
  {
   "cell_type": "markdown",
   "id": "36e83a72-5693-44ec-8742-81143db19fd0",
   "metadata": {
    "editable": true,
    "slideshow": {
     "slide_type": "subslide"
    },
    "tags": []
   },
   "source": [
    "Now suppose you've recently bought Education Solar Robot Toy and rated them highly. Are these good recommendations now? \n",
    "\n",
    "- Not really. Even though you really liked the item you don't need similar items anymore. \n",
    "- **Diversity** is about how different are the recommendations. \n",
    "    - Another example: Even if you really really like Star Wars, you might want non-Star-Wars suggestions.    \n",
    "- But be careful. We need a balance here. "
   ]
  },
  {
   "cell_type": "markdown",
   "id": "c55e53e6-67b7-4d55-94fa-e9edd0f11ccf",
   "metadata": {
    "editable": true,
    "slideshow": {
     "slide_type": "subslide"
    },
    "tags": []
   },
   "source": [
    "### Freshness"
   ]
  },
  {
   "cell_type": "markdown",
   "id": "17bdb9da-aee3-4e20-9ab6-aaa70759a8ad",
   "metadata": {
    "editable": true,
    "slideshow": {
     "slide_type": ""
    },
    "tags": []
   },
   "source": [
    "Are these good recommendations? \n",
    "\n",
    "![](../img/freshness.png)\n",
    "\n",
    "- Some of these books don't have many ratings but it might be a good idea to recommend \"fresh\" things. \n",
    "- **Freshness**: people tend to get more excited about new/surprising things.  "
   ]
  },
  {
   "cell_type": "markdown",
   "id": "987443be-b83b-49ee-977b-8dc598a9860d",
   "metadata": {
    "editable": true,
    "slideshow": {
     "slide_type": "subslide"
    },
    "tags": []
   },
   "source": [
    "### Trust\n",
    "\n",
    "- But again you need a balance here. What would happen if you keep surprising users all the time? \n",
    "- There might be **trust** issues. \n",
    "- Another aspect of trust is explaining your recommendation, i.e., telling the user why you made a recommendation. This gives the user an opportunity to understand why your recommendations could be interesting to them.   \n",
    "- [Injecting GPT-4's reasoning into recommendation systems](https://www.linkedin.com/pulse/injecting-gpt-4s-reasoning-recommendation-algorithms-peter-gostev/)"
   ]
  },
  {
   "cell_type": "markdown",
   "id": "74c9e218-d7c4-4365-891f-a27a005e071e",
   "metadata": {
    "editable": true,
    "slideshow": {
     "slide_type": "subslide"
    },
    "tags": []
   },
   "source": [
    "### Persistence \n",
    "\n",
    "- How long should recommendations last?\n",
    "- If the user does not click on a recommendation for a while, should it remain a recommendation?"
   ]
  },
  {
   "cell_type": "markdown",
   "id": "05e8ea9a-5155-4f69-82cf-9e47b8193d0d",
   "metadata": {
    "editable": true,
    "slideshow": {
     "slide_type": "subslide"
    },
    "tags": []
   },
   "source": [
    "### Social recommendation\n",
    "\n",
    "- What did your friends watch?\n",
    "- Many recommenders\tare\tnow\tconnected to social\tnetworks.\n",
    "- \"Login using you Facebook\taccount\".\n",
    "- Often, people\tlike similar movies\tto their friends.\n",
    "- If we get a new user, then recommendations are based on friend's preferences. "
   ]
  },
  {
   "cell_type": "markdown",
   "id": "8d8ea889-2a33-4d5c-a8d6-070b0e21c302",
   "metadata": {
    "editable": true,
    "slideshow": {
     "slide_type": "slide"
    },
    "tags": []
   },
   "source": [
    "## Final comments and summary"
   ]
  },
  {
   "cell_type": "markdown",
   "id": "fdde84eb-0d54-4d58-b5fd-53bdd88a570e",
   "metadata": {
    "editable": true,
    "slideshow": {
     "slide_type": "subslide"
    },
    "tags": []
   },
   "source": [
    "### Formulating the problem of recommender systems \n",
    "\n",
    "- We are given ratings data. \n",
    "- We use this data to create **utility matrix** which encodes interactions between users and items. \n",
    "- The utility matrix has many missing entries. \n",
    "- We defined recommendation systems problem as **matrix completion problem**. "
   ]
  },
  {
   "cell_type": "markdown",
   "id": "11c1c16e-bd06-4104-947f-62966f19c4bd",
   "metadata": {
    "editable": true,
    "slideshow": {
     "slide_type": "subslide"
    },
    "tags": []
   },
   "source": [
    "### What did we cover? \n",
    "\n",
    "- There is a big world of recommendation systems out there. We talked about a basic traditional approache to recommender systems. \n",
    "    - content-based filtering\n",
    "- Another common approach we did not cover is collaborative filtering. "
   ]
  },
  {
   "cell_type": "markdown",
   "id": "19ed952d-c060-4b56-b691-a6c460ef9827",
   "metadata": {
    "editable": true,
    "slideshow": {
     "slide_type": "fragment"
    },
    "tags": []
   },
   "source": [
    "If you want to know more advanced approaches to recommender systems, watch this 4-hour summer school tutorial by Xavier Amatriain, Research/Engineering Director @ Netflix.  \n",
    "\n",
    "- [Part1](https://www.youtube.com/watch?v=bLhq63ygoU8)\n",
    "- [Part2](https://www.youtube.com/watch?v=mRToFXlNBpQ)"
   ]
  },
  {
   "cell_type": "markdown",
   "id": "6d2a5070-a560-405d-a253-0495b061f87f",
   "metadata": {
    "editable": true,
    "slideshow": {
     "slide_type": "subslide"
    },
    "tags": []
   },
   "source": [
    "### Evaluation\n",
    "\n",
    "- We split the data similar to supervised systems. \n",
    "- We evaluate recommendation systems using traditional regression metrics such as MSE or RMSE. \n",
    "- But real evaluation of recommender system can be very tricky because there is no ground truth. \n",
    "- We have been using RMSE due to the lack of a better measure.  \n",
    "- What we actually want to measure is the interest that our user has in the recommended items. "
   ]
  },
  {
   "cell_type": "markdown",
   "id": "06ff618f-5ddc-44f6-a764-c443376b0f7a",
   "metadata": {
    "editable": true,
    "slideshow": {
     "slide_type": "subslide"
    },
    "tags": []
   },
   "source": [
    "### Reminder\n",
    "\n",
    "- Recommendation systems can have terrible consequences, especially in the context of politics and extremism.\n",
    "- They can cause the phenomenon called \"filter bubbles\".\n",
    "- Ask hard and uncomfortable questions to yourself (and to your employer if possible) before implementing and deploying a recommendation system.  "
   ]
  }
 ],
 "metadata": {
  "celltoolbar": "Slideshow",
  "kernelspec": {
   "display_name": "Python [conda env:cpsc330]",
   "language": "python",
   "name": "conda-env-cpsc330-py"
  },
  "language_info": {
   "codemirror_mode": {
    "name": "ipython",
    "version": 3
   },
   "file_extension": ".py",
   "mimetype": "text/x-python",
   "name": "python",
   "nbconvert_exporter": "python",
   "pygments_lexer": "ipython3",
   "version": "3.12.0"
  }
 },
 "nbformat": 4,
 "nbformat_minor": 5
}
